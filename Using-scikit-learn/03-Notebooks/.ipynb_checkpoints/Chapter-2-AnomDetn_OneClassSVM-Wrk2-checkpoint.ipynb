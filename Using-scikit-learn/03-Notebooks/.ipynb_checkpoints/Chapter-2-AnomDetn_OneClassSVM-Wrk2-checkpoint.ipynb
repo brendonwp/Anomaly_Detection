{
 "cells": [
  {
   "cell_type": "markdown",
   "id": "7de56c83",
   "metadata": {},
   "source": [
    "# Anomaly Detection Notebook\n",
    "### Date Started:   11 June 2024\n",
    "### Latest Update:  12 July 2024\n",
    "### Status: Runs through completely and shows metrics as per the original framework provided for guidance. Accuracy metric cannot be added for some reason. Making to difficult to compare my metrics to Full Solution metrics\n",
    "###   Copying to Wrk3 and replacing existing code with that from Full Solution"
   ]
  },
  {
   "cell_type": "markdown",
   "id": "5564110e",
   "metadata": {},
   "source": [
    "## Chapter 2: One-Class SVM"
   ]
  },
  {
   "cell_type": "markdown",
   "id": "7df94904",
   "metadata": {},
   "source": [
    "## 1. Split Dataframe into Train and Test "
   ]
  },
  {
   "cell_type": "code",
   "execution_count": 60,
   "id": "2b04350e-6adc-49e7-9834-716ec2aa9047",
   "metadata": {},
   "outputs": [
    {
     "name": "stdout",
     "output_type": "stream",
     "text": [
      "The history saving thread hit an unexpected error (OperationalError('attempt to write a readonly database')).History will not be written to the database.\n"
     ]
    }
   ],
   "source": [
    "import pandas as pd\n",
    "import sklearn\n",
    "from sklearn.model_selection import train_test_split\n",
    "from sklearn.svm import OneClassSVM\n",
    "from sklearn.metrics import precision_score, recall_score, f1_score,  average_precision_score, confusion_matrix\n",
    "\n",
    "import scipy\n",
    "import matplotlib\n",
    "import matplotlib.pyplot as plt\n",
    "import seaborn"
   ]
  },
  {
   "cell_type": "code",
   "execution_count": 61,
   "id": "eb8c6c3f-8f43-46b2-9222-58abac982792",
   "metadata": {},
   "outputs": [],
   "source": [
    "# Inserted at the top of every notebook to point to the target column\n",
    "target_class_name = \"6\"\n",
    "# And the names to call the 0 and 1 class\n",
    "labels = ['inliers', 'outliers']"
   ]
  },
  {
   "cell_type": "markdown",
   "id": "9f300eac-156a-44fb-8a09-ca8d6c56a58e",
   "metadata": {},
   "source": [
    "### Import Cleaned File"
   ]
  },
  {
   "cell_type": "code",
   "execution_count": 62,
   "id": "2eef9d29-8804-497a-b25b-14de50468ab0",
   "metadata": {},
   "outputs": [],
   "source": [
    "# Import\n",
    "data_directory = \"../01-Data/Processed/\"\n",
    "file_name = \"thyroid.csv\"      # Cleaned data exported from Week 1 notebook \n",
    "dfThyroid = pd.read_csv(data_directory  + file_name)"
   ]
  },
  {
   "cell_type": "markdown",
   "id": "106ae64b-0c78-4b7d-9a3b-6adf81899898",
   "metadata": {},
   "source": [
    "### Check, Split Train / Test and Extract Features and Targets"
   ]
  },
  {
   "cell_type": "code",
   "execution_count": 63,
   "id": "6238a7ec-caab-4f34-bcac-3c5201275fab",
   "metadata": {},
   "outputs": [
    {
     "name": "stdout",
     "output_type": "stream",
     "text": [
      "<class 'pandas.core.frame.DataFrame'>\n",
      "RangeIndex: 3772 entries, 0 to 3771\n",
      "Data columns (total 7 columns):\n",
      " #   Column  Non-Null Count  Dtype  \n",
      "---  ------  --------------  -----  \n",
      " 0   0       3772 non-null   float64\n",
      " 1   1       3772 non-null   float64\n",
      " 2   2       3772 non-null   float64\n",
      " 3   3       3772 non-null   float64\n",
      " 4   4       3772 non-null   float64\n",
      " 5   5       3772 non-null   float64\n",
      " 6   6       3772 non-null   float64\n",
      "dtypes: float64(7)\n",
      "memory usage: 206.4 KB\n"
     ]
    },
    {
     "data": {
      "text/html": [
       "<div>\n",
       "<style scoped>\n",
       "    .dataframe tbody tr th:only-of-type {\n",
       "        vertical-align: middle;\n",
       "    }\n",
       "\n",
       "    .dataframe tbody tr th {\n",
       "        vertical-align: top;\n",
       "    }\n",
       "\n",
       "    .dataframe thead th {\n",
       "        text-align: right;\n",
       "    }\n",
       "</style>\n",
       "<table border=\"1\" class=\"dataframe\">\n",
       "  <thead>\n",
       "    <tr style=\"text-align: right;\">\n",
       "      <th></th>\n",
       "      <th>0</th>\n",
       "      <th>1</th>\n",
       "      <th>2</th>\n",
       "      <th>3</th>\n",
       "      <th>4</th>\n",
       "      <th>5</th>\n",
       "      <th>6</th>\n",
       "    </tr>\n",
       "  </thead>\n",
       "  <tbody>\n",
       "    <tr>\n",
       "      <th>0</th>\n",
       "      <td>0.774194</td>\n",
       "      <td>0.001132</td>\n",
       "      <td>0.137571</td>\n",
       "      <td>0.275701</td>\n",
       "      <td>0.295775</td>\n",
       "      <td>0.236066</td>\n",
       "      <td>0.0</td>\n",
       "    </tr>\n",
       "    <tr>\n",
       "      <th>1</th>\n",
       "      <td>0.247312</td>\n",
       "      <td>0.000472</td>\n",
       "      <td>0.279886</td>\n",
       "      <td>0.329439</td>\n",
       "      <td>0.535211</td>\n",
       "      <td>0.173770</td>\n",
       "      <td>0.0</td>\n",
       "    </tr>\n",
       "    <tr>\n",
       "      <th>2</th>\n",
       "      <td>0.494624</td>\n",
       "      <td>0.003585</td>\n",
       "      <td>0.222960</td>\n",
       "      <td>0.233645</td>\n",
       "      <td>0.525822</td>\n",
       "      <td>0.124590</td>\n",
       "      <td>0.0</td>\n",
       "    </tr>\n",
       "    <tr>\n",
       "      <th>3</th>\n",
       "      <td>0.677419</td>\n",
       "      <td>0.001698</td>\n",
       "      <td>0.156546</td>\n",
       "      <td>0.175234</td>\n",
       "      <td>0.333333</td>\n",
       "      <td>0.136066</td>\n",
       "      <td>0.0</td>\n",
       "    </tr>\n",
       "    <tr>\n",
       "      <th>4</th>\n",
       "      <td>0.236559</td>\n",
       "      <td>0.000472</td>\n",
       "      <td>0.241935</td>\n",
       "      <td>0.320093</td>\n",
       "      <td>0.333333</td>\n",
       "      <td>0.247541</td>\n",
       "      <td>0.0</td>\n",
       "    </tr>\n",
       "    <tr>\n",
       "      <th>...</th>\n",
       "      <td>...</td>\n",
       "      <td>...</td>\n",
       "      <td>...</td>\n",
       "      <td>...</td>\n",
       "      <td>...</td>\n",
       "      <td>...</td>\n",
       "      <td>...</td>\n",
       "    </tr>\n",
       "    <tr>\n",
       "      <th>3767</th>\n",
       "      <td>0.817204</td>\n",
       "      <td>0.000113</td>\n",
       "      <td>0.190702</td>\n",
       "      <td>0.287383</td>\n",
       "      <td>0.413146</td>\n",
       "      <td>0.188525</td>\n",
       "      <td>0.0</td>\n",
       "    </tr>\n",
       "    <tr>\n",
       "      <th>3768</th>\n",
       "      <td>0.430108</td>\n",
       "      <td>0.002453</td>\n",
       "      <td>0.232448</td>\n",
       "      <td>0.287383</td>\n",
       "      <td>0.446009</td>\n",
       "      <td>0.175410</td>\n",
       "      <td>0.0</td>\n",
       "    </tr>\n",
       "    <tr>\n",
       "      <th>3769</th>\n",
       "      <td>0.935484</td>\n",
       "      <td>0.024528</td>\n",
       "      <td>0.160342</td>\n",
       "      <td>0.282710</td>\n",
       "      <td>0.375587</td>\n",
       "      <td>0.200000</td>\n",
       "      <td>0.0</td>\n",
       "    </tr>\n",
       "    <tr>\n",
       "      <th>3770</th>\n",
       "      <td>0.677419</td>\n",
       "      <td>0.001472</td>\n",
       "      <td>0.190702</td>\n",
       "      <td>0.242991</td>\n",
       "      <td>0.323944</td>\n",
       "      <td>0.195082</td>\n",
       "      <td>0.0</td>\n",
       "    </tr>\n",
       "    <tr>\n",
       "      <th>3771</th>\n",
       "      <td>0.483871</td>\n",
       "      <td>0.003566</td>\n",
       "      <td>0.190702</td>\n",
       "      <td>0.212617</td>\n",
       "      <td>0.338028</td>\n",
       "      <td>0.163934</td>\n",
       "      <td>0.0</td>\n",
       "    </tr>\n",
       "  </tbody>\n",
       "</table>\n",
       "<p>3772 rows × 7 columns</p>\n",
       "</div>"
      ],
      "text/plain": [
       "             0         1         2         3         4         5    6\n",
       "0     0.774194  0.001132  0.137571  0.275701  0.295775  0.236066  0.0\n",
       "1     0.247312  0.000472  0.279886  0.329439  0.535211  0.173770  0.0\n",
       "2     0.494624  0.003585  0.222960  0.233645  0.525822  0.124590  0.0\n",
       "3     0.677419  0.001698  0.156546  0.175234  0.333333  0.136066  0.0\n",
       "4     0.236559  0.000472  0.241935  0.320093  0.333333  0.247541  0.0\n",
       "...        ...       ...       ...       ...       ...       ...  ...\n",
       "3767  0.817204  0.000113  0.190702  0.287383  0.413146  0.188525  0.0\n",
       "3768  0.430108  0.002453  0.232448  0.287383  0.446009  0.175410  0.0\n",
       "3769  0.935484  0.024528  0.160342  0.282710  0.375587  0.200000  0.0\n",
       "3770  0.677419  0.001472  0.190702  0.242991  0.323944  0.195082  0.0\n",
       "3771  0.483871  0.003566  0.190702  0.212617  0.338028  0.163934  0.0\n",
       "\n",
       "[3772 rows x 7 columns]"
      ]
     },
     "execution_count": 63,
     "metadata": {},
     "output_type": "execute_result"
    }
   ],
   "source": [
    "# Note: Previously this had an extra column at the front because the index column was not dropped on export to CSV  \n",
    "pd.DataFrame.info(dfThyroid)\n",
    "dfThyroid"
   ]
  },
  {
   "cell_type": "code",
   "execution_count": 64,
   "id": "26801b3e-7f96-4a5b-bf9c-3ee708ae62e4",
   "metadata": {},
   "outputs": [],
   "source": [
    "# Convert 0 and 1 in the target column as float to integer\n",
    "# Below line when column name assigned an integer 0 and not a char \n",
    "# dfThyroid.iloc[:, target_class_name] = dfThyroid.iloc[:, target_class_name].astype(int)  # pandas column is an integer \n",
    "# This line specifies a pandas column with char value\n",
    "dfThyroid[target_class_name] = dfThyroid[target_class_name].astype(int)"
   ]
  },
  {
   "cell_type": "code",
   "execution_count": 65,
   "id": "d8cf1002-f536-4bec-8a18-28d777008504",
   "metadata": {},
   "outputs": [],
   "source": [
    "# concatenate X_train with y_train. Then filter out the samples that we know are outliers\n",
    "# Temporary comment out - Seems to be a throwback\n",
    "\n",
    "# df_train = pd.concat([X_train, y_train], axis=1)\n",
    "# inlier_X_train = df_train[df_train[target_class_name]==0].drop(target_class_name, axis=1)\n",
    "\n",
    "# We will use inlier_X_train as the input dataset\n",
    "# inlier_X_train.shape\n",
    "\n",
    "# That makes sense to have 3017 - 74= 2943 samplespd.DataFrame.info(dfThyroid)\n",
    "# pd.DataFrame.describe(dfThyroid)"
   ]
  },
  {
   "cell_type": "code",
   "execution_count": 66,
   "id": "ccd4b349-9437-4cb7-9360-27e5b15b7c68",
   "metadata": {},
   "outputs": [
    {
     "name": "stdout",
     "output_type": "stream",
     "text": [
      "(3772, 6)\n"
     ]
    },
    {
     "data": {
      "text/html": [
       "<div>\n",
       "<style scoped>\n",
       "    .dataframe tbody tr th:only-of-type {\n",
       "        vertical-align: middle;\n",
       "    }\n",
       "\n",
       "    .dataframe tbody tr th {\n",
       "        vertical-align: top;\n",
       "    }\n",
       "\n",
       "    .dataframe thead th {\n",
       "        text-align: right;\n",
       "    }\n",
       "</style>\n",
       "<table border=\"1\" class=\"dataframe\">\n",
       "  <thead>\n",
       "    <tr style=\"text-align: right;\">\n",
       "      <th></th>\n",
       "      <th>0</th>\n",
       "      <th>1</th>\n",
       "      <th>2</th>\n",
       "      <th>3</th>\n",
       "      <th>4</th>\n",
       "      <th>5</th>\n",
       "    </tr>\n",
       "  </thead>\n",
       "  <tbody>\n",
       "    <tr>\n",
       "      <th>0</th>\n",
       "      <td>0.774194</td>\n",
       "      <td>0.001132</td>\n",
       "      <td>0.137571</td>\n",
       "      <td>0.275701</td>\n",
       "      <td>0.295775</td>\n",
       "      <td>0.236066</td>\n",
       "    </tr>\n",
       "    <tr>\n",
       "      <th>1</th>\n",
       "      <td>0.247312</td>\n",
       "      <td>0.000472</td>\n",
       "      <td>0.279886</td>\n",
       "      <td>0.329439</td>\n",
       "      <td>0.535211</td>\n",
       "      <td>0.173770</td>\n",
       "    </tr>\n",
       "    <tr>\n",
       "      <th>2</th>\n",
       "      <td>0.494624</td>\n",
       "      <td>0.003585</td>\n",
       "      <td>0.222960</td>\n",
       "      <td>0.233645</td>\n",
       "      <td>0.525822</td>\n",
       "      <td>0.124590</td>\n",
       "    </tr>\n",
       "    <tr>\n",
       "      <th>3</th>\n",
       "      <td>0.677419</td>\n",
       "      <td>0.001698</td>\n",
       "      <td>0.156546</td>\n",
       "      <td>0.175234</td>\n",
       "      <td>0.333333</td>\n",
       "      <td>0.136066</td>\n",
       "    </tr>\n",
       "    <tr>\n",
       "      <th>4</th>\n",
       "      <td>0.236559</td>\n",
       "      <td>0.000472</td>\n",
       "      <td>0.241935</td>\n",
       "      <td>0.320093</td>\n",
       "      <td>0.333333</td>\n",
       "      <td>0.247541</td>\n",
       "    </tr>\n",
       "    <tr>\n",
       "      <th>...</th>\n",
       "      <td>...</td>\n",
       "      <td>...</td>\n",
       "      <td>...</td>\n",
       "      <td>...</td>\n",
       "      <td>...</td>\n",
       "      <td>...</td>\n",
       "    </tr>\n",
       "    <tr>\n",
       "      <th>3767</th>\n",
       "      <td>0.817204</td>\n",
       "      <td>0.000113</td>\n",
       "      <td>0.190702</td>\n",
       "      <td>0.287383</td>\n",
       "      <td>0.413146</td>\n",
       "      <td>0.188525</td>\n",
       "    </tr>\n",
       "    <tr>\n",
       "      <th>3768</th>\n",
       "      <td>0.430108</td>\n",
       "      <td>0.002453</td>\n",
       "      <td>0.232448</td>\n",
       "      <td>0.287383</td>\n",
       "      <td>0.446009</td>\n",
       "      <td>0.175410</td>\n",
       "    </tr>\n",
       "    <tr>\n",
       "      <th>3769</th>\n",
       "      <td>0.935484</td>\n",
       "      <td>0.024528</td>\n",
       "      <td>0.160342</td>\n",
       "      <td>0.282710</td>\n",
       "      <td>0.375587</td>\n",
       "      <td>0.200000</td>\n",
       "    </tr>\n",
       "    <tr>\n",
       "      <th>3770</th>\n",
       "      <td>0.677419</td>\n",
       "      <td>0.001472</td>\n",
       "      <td>0.190702</td>\n",
       "      <td>0.242991</td>\n",
       "      <td>0.323944</td>\n",
       "      <td>0.195082</td>\n",
       "    </tr>\n",
       "    <tr>\n",
       "      <th>3771</th>\n",
       "      <td>0.483871</td>\n",
       "      <td>0.003566</td>\n",
       "      <td>0.190702</td>\n",
       "      <td>0.212617</td>\n",
       "      <td>0.338028</td>\n",
       "      <td>0.163934</td>\n",
       "    </tr>\n",
       "  </tbody>\n",
       "</table>\n",
       "<p>3772 rows × 6 columns</p>\n",
       "</div>"
      ],
      "text/plain": [
       "             0         1         2         3         4         5\n",
       "0     0.774194  0.001132  0.137571  0.275701  0.295775  0.236066\n",
       "1     0.247312  0.000472  0.279886  0.329439  0.535211  0.173770\n",
       "2     0.494624  0.003585  0.222960  0.233645  0.525822  0.124590\n",
       "3     0.677419  0.001698  0.156546  0.175234  0.333333  0.136066\n",
       "4     0.236559  0.000472  0.241935  0.320093  0.333333  0.247541\n",
       "...        ...       ...       ...       ...       ...       ...\n",
       "3767  0.817204  0.000113  0.190702  0.287383  0.413146  0.188525\n",
       "3768  0.430108  0.002453  0.232448  0.287383  0.446009  0.175410\n",
       "3769  0.935484  0.024528  0.160342  0.282710  0.375587  0.200000\n",
       "3770  0.677419  0.001472  0.190702  0.242991  0.323944  0.195082\n",
       "3771  0.483871  0.003566  0.190702  0.212617  0.338028  0.163934\n",
       "\n",
       "[3772 rows x 6 columns]"
      ]
     },
     "execution_count": 66,
     "metadata": {},
     "output_type": "execute_result"
    }
   ],
   "source": [
    "# Extracts features (X) and targets (y) \n",
    "X_dfThyroid = dfThyroid.drop(target_class_name, axis=1)\n",
    "y_dfThyroid = dfThyroid[target_class_name]\n",
    "# Prints feature details\n",
    "print(X_dfThyroid.shape)\n",
    "X_dfThyroid"
   ]
  },
  {
   "cell_type": "code",
   "execution_count": 67,
   "id": "ceeb3a05-12ba-437b-a662-b26efa16a7c0",
   "metadata": {},
   "outputs": [
    {
     "name": "stdout",
     "output_type": "stream",
     "text": [
      "(3772,)\n",
      "<class 'pandas.core.series.Series'>\n",
      "RangeIndex: 3772 entries, 0 to 3771\n",
      "Series name: 6\n",
      "Non-Null Count  Dtype\n",
      "--------------  -----\n",
      "3772 non-null   int64\n",
      "dtypes: int64(1)\n",
      "memory usage: 29.6 KB\n",
      "None\n",
      "count    3772.000000\n",
      "mean        0.024655\n",
      "std         0.155093\n",
      "min         0.000000\n",
      "25%         0.000000\n",
      "50%         0.000000\n",
      "75%         0.000000\n",
      "max         1.000000\n",
      "Name: 6, dtype: float64\n"
     ]
    }
   ],
   "source": [
    "# Prints target details\n",
    "#  Note: This is now a series since it is a single column extracted from a dataframe \n",
    "print(y_dfThyroid.shape)\n",
    "print(y_dfThyroid.info())\n",
    "print(y_dfThyroid.describe())"
   ]
  },
  {
   "cell_type": "markdown",
   "id": "2b2835a8-e13b-4d1e-9488-583c56c9fabc",
   "metadata": {},
   "source": [
    "### Randomly resamples train and test datasets while stratifying (keeping %) targets (y) "
   ]
  },
  {
   "cell_type": "code",
   "execution_count": 68,
   "id": "1258f52d-9958-42a1-971a-d7a5c73a9fef",
   "metadata": {},
   "outputs": [],
   "source": [
    "# Randomly resamples train and test datasets while stratifying (keeping %) targets (y) \n",
    "X_train_dfThyroid, X_test_dfThyroid, y_train_dfThyroid, y_test_dfThyroid = train_test_split(X_dfThyroid, y_dfThyroid, test_size=0.2, random_state=42, stratify = y_dfThyroid)"
   ]
  },
  {
   "cell_type": "code",
   "execution_count": 69,
   "id": "46c9801c-7425-4c84-a5fe-4d243f58ef35",
   "metadata": {},
   "outputs": [
    {
     "name": "stdout",
     "output_type": "stream",
     "text": [
      "Training dataset features: \n",
      "\n",
      "<class 'pandas.core.frame.DataFrame'>\n",
      "Index: 3017 entries, 1697 to 1315\n",
      "Data columns (total 6 columns):\n",
      " #   Column  Non-Null Count  Dtype  \n",
      "---  ------  --------------  -----  \n",
      " 0   0       3017 non-null   float64\n",
      " 1   1       3017 non-null   float64\n",
      " 2   2       3017 non-null   float64\n",
      " 3   3       3017 non-null   float64\n",
      " 4   4       3017 non-null   float64\n",
      " 5   5       3017 non-null   float64\n",
      "dtypes: float64(6)\n",
      "memory usage: 165.0 KB\n"
     ]
    },
    {
     "data": {
      "text/html": [
       "<div>\n",
       "<style scoped>\n",
       "    .dataframe tbody tr th:only-of-type {\n",
       "        vertical-align: middle;\n",
       "    }\n",
       "\n",
       "    .dataframe tbody tr th {\n",
       "        vertical-align: top;\n",
       "    }\n",
       "\n",
       "    .dataframe thead th {\n",
       "        text-align: right;\n",
       "    }\n",
       "</style>\n",
       "<table border=\"1\" class=\"dataframe\">\n",
       "  <thead>\n",
       "    <tr style=\"text-align: right;\">\n",
       "      <th></th>\n",
       "      <th>0</th>\n",
       "      <th>1</th>\n",
       "      <th>2</th>\n",
       "      <th>3</th>\n",
       "      <th>4</th>\n",
       "      <th>5</th>\n",
       "    </tr>\n",
       "  </thead>\n",
       "  <tbody>\n",
       "    <tr>\n",
       "      <th>count</th>\n",
       "      <td>3017.000000</td>\n",
       "      <td>3017.000000</td>\n",
       "      <td>3017.000000</td>\n",
       "      <td>3017.000000</td>\n",
       "      <td>3017.000000</td>\n",
       "      <td>3017.000000</td>\n",
       "    </tr>\n",
       "    <tr>\n",
       "      <th>mean</th>\n",
       "      <td>0.544599</td>\n",
       "      <td>0.008744</td>\n",
       "      <td>0.186698</td>\n",
       "      <td>0.247565</td>\n",
       "      <td>0.376012</td>\n",
       "      <td>0.177055</td>\n",
       "    </tr>\n",
       "    <tr>\n",
       "      <th>std</th>\n",
       "      <td>0.203830</td>\n",
       "      <td>0.039443</td>\n",
       "      <td>0.071255</td>\n",
       "      <td>0.081002</td>\n",
       "      <td>0.087422</td>\n",
       "      <td>0.054254</td>\n",
       "    </tr>\n",
       "    <tr>\n",
       "      <th>min</th>\n",
       "      <td>0.000000</td>\n",
       "      <td>0.000000</td>\n",
       "      <td>0.000000</td>\n",
       "      <td>0.002103</td>\n",
       "      <td>0.000000</td>\n",
       "      <td>0.001311</td>\n",
       "    </tr>\n",
       "    <tr>\n",
       "      <th>25%</th>\n",
       "      <td>0.376344</td>\n",
       "      <td>0.001094</td>\n",
       "      <td>0.156546</td>\n",
       "      <td>0.200935</td>\n",
       "      <td>0.328638</td>\n",
       "      <td>0.149180</td>\n",
       "    </tr>\n",
       "    <tr>\n",
       "      <th>50%</th>\n",
       "      <td>0.569892</td>\n",
       "      <td>0.003019</td>\n",
       "      <td>0.190702</td>\n",
       "      <td>0.240654</td>\n",
       "      <td>0.375587</td>\n",
       "      <td>0.173770</td>\n",
       "    </tr>\n",
       "    <tr>\n",
       "      <th>75%</th>\n",
       "      <td>0.709677</td>\n",
       "      <td>0.004717</td>\n",
       "      <td>0.203985</td>\n",
       "      <td>0.282710</td>\n",
       "      <td>0.399061</td>\n",
       "      <td>0.196721</td>\n",
       "    </tr>\n",
       "    <tr>\n",
       "      <th>max</th>\n",
       "      <td>1.000000</td>\n",
       "      <td>1.000000</td>\n",
       "      <td>1.000000</td>\n",
       "      <td>1.000000</td>\n",
       "      <td>1.000000</td>\n",
       "      <td>0.726230</td>\n",
       "    </tr>\n",
       "  </tbody>\n",
       "</table>\n",
       "</div>"
      ],
      "text/plain": [
       "                 0            1            2            3            4  \\\n",
       "count  3017.000000  3017.000000  3017.000000  3017.000000  3017.000000   \n",
       "mean      0.544599     0.008744     0.186698     0.247565     0.376012   \n",
       "std       0.203830     0.039443     0.071255     0.081002     0.087422   \n",
       "min       0.000000     0.000000     0.000000     0.002103     0.000000   \n",
       "25%       0.376344     0.001094     0.156546     0.200935     0.328638   \n",
       "50%       0.569892     0.003019     0.190702     0.240654     0.375587   \n",
       "75%       0.709677     0.004717     0.203985     0.282710     0.399061   \n",
       "max       1.000000     1.000000     1.000000     1.000000     1.000000   \n",
       "\n",
       "                 5  \n",
       "count  3017.000000  \n",
       "mean      0.177055  \n",
       "std       0.054254  \n",
       "min       0.001311  \n",
       "25%       0.149180  \n",
       "50%       0.173770  \n",
       "75%       0.196721  \n",
       "max       0.726230  "
      ]
     },
     "execution_count": 69,
     "metadata": {},
     "output_type": "execute_result"
    }
   ],
   "source": [
    "# Check \n",
    "print(\"Training dataset features: \\n\")\n",
    "pd.DataFrame.info(X_train_dfThyroid)\n",
    "pd.DataFrame.describe(X_train_dfThyroid)"
   ]
  },
  {
   "cell_type": "code",
   "execution_count": 70,
   "id": "22816130-9e6d-4aa0-9ce3-8f20037ea1b4",
   "metadata": {},
   "outputs": [
    {
     "name": "stdout",
     "output_type": "stream",
     "text": [
      "\n",
      "Testing dataset features\n",
      "<class 'pandas.core.frame.DataFrame'>\n",
      "Index: 755 entries, 3528 to 3535\n",
      "Data columns (total 6 columns):\n",
      " #   Column  Non-Null Count  Dtype  \n",
      "---  ------  --------------  -----  \n",
      " 0   0       755 non-null    float64\n",
      " 1   1       755 non-null    float64\n",
      " 2   2       755 non-null    float64\n",
      " 3   3       755 non-null    float64\n",
      " 4   4       755 non-null    float64\n",
      " 5   5       755 non-null    float64\n",
      "dtypes: float64(6)\n",
      "memory usage: 41.3 KB\n"
     ]
    },
    {
     "data": {
      "text/html": [
       "<div>\n",
       "<style scoped>\n",
       "    .dataframe tbody tr th:only-of-type {\n",
       "        vertical-align: middle;\n",
       "    }\n",
       "\n",
       "    .dataframe tbody tr th {\n",
       "        vertical-align: top;\n",
       "    }\n",
       "\n",
       "    .dataframe thead th {\n",
       "        text-align: right;\n",
       "    }\n",
       "</style>\n",
       "<table border=\"1\" class=\"dataframe\">\n",
       "  <thead>\n",
       "    <tr style=\"text-align: right;\">\n",
       "      <th></th>\n",
       "      <th>0</th>\n",
       "      <th>1</th>\n",
       "      <th>2</th>\n",
       "      <th>3</th>\n",
       "      <th>4</th>\n",
       "      <th>5</th>\n",
       "    </tr>\n",
       "  </thead>\n",
       "  <tbody>\n",
       "    <tr>\n",
       "      <th>count</th>\n",
       "      <td>755.000000</td>\n",
       "      <td>755.000000</td>\n",
       "      <td>755.000000</td>\n",
       "      <td>755.000000</td>\n",
       "      <td>755.000000</td>\n",
       "      <td>755.000000</td>\n",
       "    </tr>\n",
       "    <tr>\n",
       "      <th>mean</th>\n",
       "      <td>0.537214</td>\n",
       "      <td>0.009941</td>\n",
       "      <td>0.187341</td>\n",
       "      <td>0.251397</td>\n",
       "      <td>0.380655</td>\n",
       "      <td>0.178282</td>\n",
       "    </tr>\n",
       "    <tr>\n",
       "      <th>std</th>\n",
       "      <td>0.203661</td>\n",
       "      <td>0.058725</td>\n",
       "      <td>0.066944</td>\n",
       "      <td>0.078843</td>\n",
       "      <td>0.087182</td>\n",
       "      <td>0.057467</td>\n",
       "    </tr>\n",
       "    <tr>\n",
       "      <th>min</th>\n",
       "      <td>0.000000</td>\n",
       "      <td>0.000000</td>\n",
       "      <td>0.004744</td>\n",
       "      <td>0.000000</td>\n",
       "      <td>0.042254</td>\n",
       "      <td>0.000000</td>\n",
       "    </tr>\n",
       "    <tr>\n",
       "      <th>25%</th>\n",
       "      <td>0.365591</td>\n",
       "      <td>0.001132</td>\n",
       "      <td>0.156546</td>\n",
       "      <td>0.207944</td>\n",
       "      <td>0.328638</td>\n",
       "      <td>0.150820</td>\n",
       "    </tr>\n",
       "    <tr>\n",
       "      <th>50%</th>\n",
       "      <td>0.569892</td>\n",
       "      <td>0.002830</td>\n",
       "      <td>0.190702</td>\n",
       "      <td>0.247664</td>\n",
       "      <td>0.375587</td>\n",
       "      <td>0.177049</td>\n",
       "    </tr>\n",
       "    <tr>\n",
       "      <th>75%</th>\n",
       "      <td>0.698925</td>\n",
       "      <td>0.004340</td>\n",
       "      <td>0.213472</td>\n",
       "      <td>0.280374</td>\n",
       "      <td>0.413146</td>\n",
       "      <td>0.196721</td>\n",
       "    </tr>\n",
       "    <tr>\n",
       "      <th>max</th>\n",
       "      <td>0.956989</td>\n",
       "      <td>0.901887</td>\n",
       "      <td>0.801708</td>\n",
       "      <td>0.698598</td>\n",
       "      <td>0.816901</td>\n",
       "      <td>1.000000</td>\n",
       "    </tr>\n",
       "  </tbody>\n",
       "</table>\n",
       "</div>"
      ],
      "text/plain": [
       "                0           1           2           3           4           5\n",
       "count  755.000000  755.000000  755.000000  755.000000  755.000000  755.000000\n",
       "mean     0.537214    0.009941    0.187341    0.251397    0.380655    0.178282\n",
       "std      0.203661    0.058725    0.066944    0.078843    0.087182    0.057467\n",
       "min      0.000000    0.000000    0.004744    0.000000    0.042254    0.000000\n",
       "25%      0.365591    0.001132    0.156546    0.207944    0.328638    0.150820\n",
       "50%      0.569892    0.002830    0.190702    0.247664    0.375587    0.177049\n",
       "75%      0.698925    0.004340    0.213472    0.280374    0.413146    0.196721\n",
       "max      0.956989    0.901887    0.801708    0.698598    0.816901    1.000000"
      ]
     },
     "execution_count": 70,
     "metadata": {},
     "output_type": "execute_result"
    }
   ],
   "source": [
    "print(\"\\nTesting dataset features\")\n",
    "pd.DataFrame.info(X_test_dfThyroid)\n",
    "pd.DataFrame.describe(X_test_dfThyroid)"
   ]
  },
  {
   "cell_type": "code",
   "execution_count": 71,
   "id": "0b7dee02-414a-4699-946e-0d32723237d8",
   "metadata": {},
   "outputs": [
    {
     "name": "stdout",
     "output_type": "stream",
     "text": [
      "\n",
      "Training dataset targets\n",
      "<class 'pandas.core.series.Series'>\n",
      "Index: 3017 entries, 1697 to 1315\n",
      "Series name: 6\n",
      "Non-Null Count  Dtype\n",
      "--------------  -----\n",
      "3017 non-null   int64\n",
      "dtypes: int64(1)\n",
      "memory usage: 47.1 KB\n",
      "None\n",
      "count    3017.000000\n",
      "mean        0.024528\n",
      "std         0.154706\n",
      "min         0.000000\n",
      "25%         0.000000\n",
      "50%         0.000000\n",
      "75%         0.000000\n",
      "max         1.000000\n",
      "Name: 6, dtype: float64\n"
     ]
    }
   ],
   "source": [
    "# Check \n",
    "print(\"\\nTraining dataset targets\")\n",
    "print(y_train_dfThyroid.info())\n",
    "print(y_train_dfThyroid.describe())"
   ]
  },
  {
   "cell_type": "code",
   "execution_count": 72,
   "id": "19640cdb-1aa0-4991-a889-d5a581b37f26",
   "metadata": {},
   "outputs": [],
   "source": [
    "# Check \n",
    "# Temporarily commented out \n",
    "\n",
    "# print(\"\\nTesting dataset targets\")\n",
    "# print(y_test_dfThyroid.info())\n",
    "# print(y_test_dfThyroid.describe())# concatenate X_train with y_train. Then filter out the samples that we know are outliers\n",
    "# df_train = pd.concat([X_train, y_train], axis=1)\n",
    "# inlier_X_train = df_train[df_train[target_class_name]==0].drop(target_class_name, axis=1)\n",
    "\n",
    "# We will use inlier_X_train as the input dataset\n",
    "# inlier_X_train.shape\n",
    "# That makes sense to have 3017 - 74= 2943 samples"
   ]
  },
  {
   "cell_type": "markdown",
   "id": "75fc0149",
   "metadata": {},
   "source": [
    "## 2. Quantify the number of outliers"
   ]
  },
  {
   "cell_type": "markdown",
   "id": "75335ab2-62d7-4093-82d0-0d816b0d6497",
   "metadata": {},
   "source": [
    "#### On the full dataset"
   ]
  },
  {
   "cell_type": "code",
   "execution_count": 73,
   "id": "c1c5bca5-2f9a-4b5d-8a96-97c9647b38e3",
   "metadata": {},
   "outputs": [
    {
     "name": "stdout",
     "output_type": "stream",
     "text": [
      "Number of outliers in entire dataset: 93\n"
     ]
    }
   ],
   "source": [
    "# Count the number of outliers\n",
    "# outlier_count = dfThyroid[dfThyroid.iloc[:, target_class_name] == 1].shape[0]\n",
    "outlier_count = dfThyroid[dfThyroid[target_class_name] == 1].shape[0]\n",
    "\n",
    "print(f\"Number of outliers in entire dataset: {outlier_count}\")"
   ]
  },
  {
   "cell_type": "markdown",
   "id": "8b91b61b-4e41-4562-88eb-8f2b41446f22",
   "metadata": {},
   "source": [
    "#### For train and test datasets (split into series y_train and y_test)"
   ]
  },
  {
   "cell_type": "code",
   "execution_count": 74,
   "id": "d887a2e3-85e6-4b76-b889-749df1eeb058",
   "metadata": {},
   "outputs": [
    {
     "name": "stdout",
     "output_type": "stream",
     "text": [
      "Number of outliers in training dataset: 74\n",
      "Number of outliers in test dataset: 19\n"
     ]
    }
   ],
   "source": [
    "# Count the number of outliers in Train and Test\n",
    "# train_outlier_count = train_dfThyroid[train_dfThyroid.iloc[:, target_class_name] == 1].shape[0]\n",
    "# train_outlier_count = y_train_dfThyroid[y_train_dfThyroid[target_class_name] == 1].shape[0]\n",
    "\n",
    "# y_train_dfThyroid = y_train_dfThyroid[target_class_name].squeeze()   # This ensures that y_dfThyroid is a series \n",
    "train_outlier_count = (y_train_dfThyroid == 1).sum()\n",
    "print(f\"Number of outliers in training dataset: {train_outlier_count}\")\n",
    "\n",
    "# Works for dataframe and not for series\n",
    "# test_outlier_count = test_dfThyroid[test_dfThyroid.iloc[:, target_class_name] == 1].shape[0]\n",
    "test_outlier_count = (y_test_dfThyroid == 1).sum()\n",
    "print(f\"Number of outliers in test dataset: {test_outlier_count}\")"
   ]
  },
  {
   "cell_type": "markdown",
   "id": "14ef7de4-654b-4ecf-adb2-f9c89f9a3efe",
   "metadata": {},
   "source": [
    "## 3. Separate out samples corresponding to the inliers"
   ]
  },
  {
   "cell_type": "markdown",
   "id": "89115d96-07a0-4acd-afa2-be4e418f6c6e",
   "metadata": {},
   "source": [
    "#### Calculate Number of Outliers in the Entire Data Set \n",
    "##### Note: Targets are now floats rather than integers?? Check back whether this affects the calculations (checking equality of floats is problematic in Python)"
   ]
  },
  {
   "cell_type": "code",
   "execution_count": 75,
   "id": "a756ca1d-bbc0-4c49-adc9-532442cf90ba",
   "metadata": {},
   "outputs": [
    {
     "name": "stdout",
     "output_type": "stream",
     "text": [
      "Number of training inliers: 3679\n",
      "Number of training outliers: 93\n"
     ]
    }
   ],
   "source": [
    "# Separate training inliers and outliers records \n",
    "# total_inliers = dfThyroid[dfThyroid.iloc[:, target_class_name] == 0]\n",
    "# total_outliers = dfThyroid[dfThyroid.iloc[:, target_class_name] == 1]\n",
    "\n",
    "total_inliers = dfThyroid[dfThyroid[target_class_name] == 0]\n",
    "total_outliers = dfThyroid[dfThyroid[target_class_name] == 1]\n",
    "\n",
    "# Display the shape of inliers and outliers DataFrames\n",
    "print(f\"Number of training inliers: {total_inliers.shape[0]}\")\n",
    "print(f\"Number of training outliers: {total_outliers.shape[0]}\")"
   ]
  },
  {
   "cell_type": "markdown",
   "id": "96f1a5e8-8717-4e4e-a7b7-3bc25ee6fed2",
   "metadata": {},
   "source": [
    "#### Calculate Propoprtion of Outliers \n",
    "##### Note: Targets are now floats rather than integers?? Check back whether this affects the calculations (checking equality of floats is problematic in Python)"
   ]
  },
  {
   "cell_type": "code",
   "execution_count": 76,
   "id": "7d28c1f1-aa32-4029-8f3c-cd61b61cd57a",
   "metadata": {},
   "outputs": [],
   "source": [
    "outliers_fraction = total_outliers.shape[0] / (dfThyroid.shape[0]) \n",
    "inliers_fraction =  total_inliers.shape[0] / (dfThyroid.shape[0])"
   ]
  },
  {
   "cell_type": "markdown",
   "id": "28587a56-b614-408b-b1ac-0e1c4eafd015",
   "metadata": {},
   "source": [
    "#### Calculate Percentage of Outliers and thus Baseline to Beat - Class Distributions \n",
    "##### Note: Targets are now floats rather than integers?? Check back whether this affects the calculations (checking equality of floats is problematic in Python)"
   ]
  },
  {
   "cell_type": "code",
   "execution_count": 77,
   "id": "e9b05162-87e3-4f57-9977-2ea3f14a2fb4",
   "metadata": {},
   "outputs": [
    {
     "name": "stdout",
     "output_type": "stream",
     "text": [
      "\n",
      "Inlier percentage is: 97.534%\n",
      "Outlier percentage is: 2.466%\n"
     ]
    }
   ],
   "source": [
    "# Display the shape of inliers and outliers DataFrames\n",
    "# Note: Adding % to the format string converts a proportion to a percentage\n",
    "print(f\"\\nInlier percentage is: {inliers_fraction:.3%}\")\n",
    "print(f\"Outlier percentage is: {outliers_fraction:.3%}\")\n",
    "\n",
    "# NOT assigning the rounded value to the outliers_fraction - leaving as calculated\n",
    "# outliers_fraction= 0.025 # Almost the calculated value\n",
    "\n",
    "#We will use a multiple of this as the nu or contamination factor to tell the model how many to expect"
   ]
  },
  {
   "cell_type": "code",
   "execution_count": 78,
   "id": "e16adc62-7088-48ca-b216-306330240dc3",
   "metadata": {},
   "outputs": [
    {
     "name": "stderr",
     "output_type": "stream",
     "text": [
      "/tmp/ipykernel_13307/679114168.py:2: FutureWarning: pandas.value_counts is deprecated and will be removed in a future version. Use pd.Series(obj).value_counts() instead.\n",
      "  pd.value_counts(dfThyroid[target_class_name]).plot.bar()\n"
     ]
    },
    {
     "data": {
      "text/plain": [
       "6\n",
       "0    3679\n",
       "1      93\n",
       "Name: count, dtype: int64"
      ]
     },
     "execution_count": 78,
     "metadata": {},
     "output_type": "execute_result"
    },
    {
     "data": {
      "image/png": "[encoded data removed]",
      "text/plain": [
       "<Figure size 600x400 with 1 Axes>"
      ]
     },
     "metadata": {},
     "output_type": "display_data"
    }
   ],
   "source": [
    "plt.figure(figsize=(6,4))\n",
    "pd.value_counts(dfThyroid[target_class_name]).plot.bar()\n",
    "plt.title('Histogram of class distributions')\n",
    "plt.xlabel(labels[1])\n",
    "plt.xticks(rotation=0)\n",
    "plt.ylabel('Frequency')\n",
    "dfThyroid[target_class_name].value_counts()"
   ]
  },
  {
   "cell_type": "markdown",
   "id": "737b5248-76a5-44a2-826a-062064151f2d",
   "metadata": {},
   "source": [
    "## 4. Instantiate three one-class SVM "
   ]
  },
  {
   "cell_type": "markdown",
   "id": "558e7a54-1125-4238-8718-ae07ef98dd9b",
   "metadata": {},
   "source": [
    "### Prepare Training Data"
   ]
  },
  {
   "cell_type": "code",
   "execution_count": 79,
   "id": "8a120ee0-f0b2-4968-9d24-5808c8e3d2d1",
   "metadata": {},
   "outputs": [
    {
     "data": {
      "text/html": [
       "<div>\n",
       "<style scoped>\n",
       "    .dataframe tbody tr th:only-of-type {\n",
       "        vertical-align: middle;\n",
       "    }\n",
       "\n",
       "    .dataframe tbody tr th {\n",
       "        vertical-align: top;\n",
       "    }\n",
       "\n",
       "    .dataframe thead th {\n",
       "        text-align: right;\n",
       "    }\n",
       "</style>\n",
       "<table border=\"1\" class=\"dataframe\">\n",
       "  <thead>\n",
       "    <tr style=\"text-align: right;\">\n",
       "      <th></th>\n",
       "      <th>0</th>\n",
       "      <th>1</th>\n",
       "      <th>2</th>\n",
       "      <th>3</th>\n",
       "      <th>4</th>\n",
       "      <th>5</th>\n",
       "    </tr>\n",
       "  </thead>\n",
       "  <tbody>\n",
       "    <tr>\n",
       "      <th>count</th>\n",
       "      <td>2943.000000</td>\n",
       "      <td>2943.000000</td>\n",
       "      <td>2943.000000</td>\n",
       "      <td>2943.000000</td>\n",
       "      <td>2943.000000</td>\n",
       "      <td>2943.000000</td>\n",
       "    </tr>\n",
       "    <tr>\n",
       "      <th>mean</th>\n",
       "      <td>0.544701</td>\n",
       "      <td>0.004907</td>\n",
       "      <td>0.189262</td>\n",
       "      <td>0.251927</td>\n",
       "      <td>0.375574</td>\n",
       "      <td>0.180220</td>\n",
       "    </tr>\n",
       "    <tr>\n",
       "      <th>std</th>\n",
       "      <td>0.204016</td>\n",
       "      <td>0.012088</td>\n",
       "      <td>0.069640</td>\n",
       "      <td>0.076715</td>\n",
       "      <td>0.087436</td>\n",
       "      <td>0.050812</td>\n",
       "    </tr>\n",
       "    <tr>\n",
       "      <th>min</th>\n",
       "      <td>0.000000</td>\n",
       "      <td>0.000000</td>\n",
       "      <td>0.000000</td>\n",
       "      <td>0.039720</td>\n",
       "      <td>0.000000</td>\n",
       "      <td>0.024590</td>\n",
       "    </tr>\n",
       "    <tr>\n",
       "      <th>25%</th>\n",
       "      <td>0.376344</td>\n",
       "      <td>0.000981</td>\n",
       "      <td>0.156546</td>\n",
       "      <td>0.203271</td>\n",
       "      <td>0.328638</td>\n",
       "      <td>0.150820</td>\n",
       "    </tr>\n",
       "    <tr>\n",
       "      <th>50%</th>\n",
       "      <td>0.569892</td>\n",
       "      <td>0.002830</td>\n",
       "      <td>0.190702</td>\n",
       "      <td>0.242991</td>\n",
       "      <td>0.375587</td>\n",
       "      <td>0.175410</td>\n",
       "    </tr>\n",
       "    <tr>\n",
       "      <th>75%</th>\n",
       "      <td>0.709677</td>\n",
       "      <td>0.004528</td>\n",
       "      <td>0.213472</td>\n",
       "      <td>0.282710</td>\n",
       "      <td>0.399061</td>\n",
       "      <td>0.198361</td>\n",
       "    </tr>\n",
       "    <tr>\n",
       "      <th>max</th>\n",
       "      <td>1.000000</td>\n",
       "      <td>0.273585</td>\n",
       "      <td>1.000000</td>\n",
       "      <td>1.000000</td>\n",
       "      <td>1.000000</td>\n",
       "      <td>0.726230</td>\n",
       "    </tr>\n",
       "  </tbody>\n",
       "</table>\n",
       "</div>"
      ],
      "text/plain": [
       "                 0            1            2            3            4  \\\n",
       "count  2943.000000  2943.000000  2943.000000  2943.000000  2943.000000   \n",
       "mean      0.544701     0.004907     0.189262     0.251927     0.375574   \n",
       "std       0.204016     0.012088     0.069640     0.076715     0.087436   \n",
       "min       0.000000     0.000000     0.000000     0.039720     0.000000   \n",
       "25%       0.376344     0.000981     0.156546     0.203271     0.328638   \n",
       "50%       0.569892     0.002830     0.190702     0.242991     0.375587   \n",
       "75%       0.709677     0.004528     0.213472     0.282710     0.399061   \n",
       "max       1.000000     0.273585     1.000000     1.000000     1.000000   \n",
       "\n",
       "                 5  \n",
       "count  2943.000000  \n",
       "mean      0.180220  \n",
       "std       0.050812  \n",
       "min       0.024590  \n",
       "25%       0.150820  \n",
       "50%       0.175410  \n",
       "75%       0.198361  \n",
       "max       0.726230  "
      ]
     },
     "execution_count": 79,
     "metadata": {},
     "output_type": "execute_result"
    }
   ],
   "source": [
    "# concatenate X_train with y_train to be able to identify the training samples that are outliers \n",
    "#   Then in the same step filter the outliers and drop the targets\n",
    "train_dfThyroid = pd.concat([X_train_dfThyroid, y_train_dfThyroid], axis=1)\n",
    "X_inliers = train_dfThyroid[train_dfThyroid[target_class_name]==0].drop(target_class_name, axis=1)\n",
    "\n",
    "# We will use inlier_X_train as the input dataset\n",
    "X_inliers.shape\n",
    "# That makes sense to have 3017 - 74= 2943 samples\n",
    "\n",
    "X_inliers.describe()"
   ]
  },
  {
   "cell_type": "code",
   "execution_count": 80,
   "id": "434b1ef1-9377-4124-a419-05048b45200d",
   "metadata": {},
   "outputs": [
    {
     "name": "stdout",
     "output_type": "stream",
     "text": [
      "OneClassSVM(nu=0.09862142099681867)\n",
      "OneClassSVM(degree=2, kernel='poly', nu=0.09862142099681867)\n",
      "OneClassSVM(kernel='poly', nu=0.09862142099681867)\n"
     ]
    }
   ],
   "source": [
    "svm_rbf = OneClassSVM(kernel='rbf',nu=outliers_fraction*4)               # radial basis kernel\n",
    "svm_poly2 = OneClassSVM(kernel='poly', degree=2, nu=outliers_fraction*4)\n",
    "svm_poly3 = OneClassSVM(kernel='poly', degree=3, nu=outliers_fraction*4)\n",
    "\n",
    "# Display the instantiated models\n",
    "print(svm_rbf)\n",
    "print(svm_poly2)\n",
    "print(svm_poly3)"
   ]
  },
  {
   "cell_type": "code",
   "execution_count": 81,
   "id": "97eb6892-9a5b-45c3-9b18-f0ce221e6b28",
   "metadata": {},
   "outputs": [
    {
     "name": "stdout",
     "output_type": "stream",
     "text": [
      "Empty DataFrame\n",
      "Columns: [Model, Precision, Recall, F1 Score, Average Precision, TN, TP, FN, FP]\n",
      "Index: []\n"
     ]
    }
   ],
   "source": [
    "# Set up df with metrics\n",
    "\n",
    "# Initialize the DataFrame with the required columns\n",
    "metrics_df = pd.DataFrame(columns=[\n",
    "    'Model', \n",
    "    'Precision', \n",
    "    'Recall', \n",
    "    'F1 Score', \n",
    "    'Average Precision', \n",
    "    'TN', \n",
    "    'TP', \n",
    "    'FN', \n",
    "    'FP'\n",
    "])\n",
    "\n",
    "# Display the initialized DataFrame\n",
    "print(metrics_df)"
   ]
  },
  {
   "cell_type": "markdown",
   "id": "5046f8e0-c098-4b05-b66c-92cc5e823cd1",
   "metadata": {},
   "source": [
    "## 5. Fit each of the three models"
   ]
  },
  {
   "cell_type": "code",
   "execution_count": 82,
   "id": "027751d9-c162-4d97-ac3c-947d9b3ca81c",
   "metadata": {},
   "outputs": [
    {
     "name": "stdout",
     "output_type": "stream",
     "text": [
      "Models have been fitted successfully.\n"
     ]
    }
   ],
   "source": [
    "# We have already dropped the target (6) column when assigning X_inliers (target dataset)\n",
    "#   As noted earlier we only train the model on the inliers\n",
    "\n",
    "# Fit the models\n",
    "svm_rbf.fit(X_inliers)\n",
    "svm_poly2.fit(X_inliers)\n",
    "svm_poly3.fit(X_inliers)\n",
    "\n",
    "print(\"Models have been fitted successfully.\")"
   ]
  },
  {
   "cell_type": "code",
   "execution_count": null,
   "id": "294e87e8-f989-4bb1-86de-623642429051",
   "metadata": {},
   "outputs": [],
   "source": []
  },
  {
   "cell_type": "markdown",
   "id": "a16947b3-c752-4239-be03-713c3bedf86b",
   "metadata": {},
   "source": [
    "## 6. Evaluate on the Test Features and Store in a Separate DataFrame"
   ]
  },
  {
   "cell_type": "markdown",
   "id": "098dbbdc-8f7e-4c17-8b3a-22ee3b377fac",
   "metadata": {
    "jp-MarkdownHeadingCollapsed": true
   },
   "source": [
    "### THIS FUNCTION NOT IMPLEMENTED AT THIS STAGE"
   ]
  },
  {
   "cell_type": "markdown",
   "id": "7c149f37-45cf-488c-994e-f192441477da",
   "metadata": {
    "jp-MarkdownHeadingCollapsed": true
   },
   "source": [
    "### Current Changes: Revise and Incorporate more Systematic Approach from the Full Solution"
   ]
  },
  {
   "cell_type": "markdown",
   "id": "0fe6a220-993a-4c42-933c-5ad47652712c",
   "metadata": {},
   "source": [
    "### Define Function to hold Binary Classification Metrics"
   ]
  },
  {
   "cell_type": "code",
   "execution_count": 83,
   "id": "73f7b947-12ef-4da7-a111-6406b88b1c3a",
   "metadata": {},
   "outputs": [],
   "source": [
    "# Reuse the same function from the starter template\n",
    "def custom_classification_metrics_function(X_test, y_test, labels, classifier):\n",
    "    '''\n",
    "    Args: The features and the target column; the labels are the categories, sklearn classifier object\n",
    "    Calculates Classification metrics of interest\n",
    "    Returns: A dictionary containing the classification metrics\n",
    "    '''\n",
    "\n",
    "    # Generate the predictions on the test data which forms the basis of the evaluation metrics\n",
    "    test_pred = classifier.predict(X_test)\n",
    "        \n",
    "    # This is to convert the output labels so that the confusion matrix and the accuracy scores work correctly\n",
    "    # The anomalies identified by sklearn are labelled as -1 but we want them to recognized as 1, so we flip the labels\n",
    "    test_pred = test_pred*-1\n",
    "    test_pred[test_pred==-1]=0\n",
    "    \n",
    "    ### Classification report\n",
    "    print(classification_report(y_test, test_pred, target_names=labels))\n",
    "\n",
    "    ### Probability scores\n",
    "    \n",
    "    # Unlike the usual classifiers, Anomaly detection algorithms don't have a predict_proba() method that can be applied\n",
    "    # Instead we have to get the raw scores from the decision function applied on the test data\n",
    "    decision_score_list = classifier.decision_function(X_test)\n",
    "    \n",
    "    # ......and turn them into numbers between 0 and 1 which can be treated as probabilities\n",
    "    scaled_decision_score_list = MinMaxScaler().fit_transform(decision_score_list.reshape(-1, 1))\n",
    "\n",
    "    # This is just to flatten the list and subtract the no.s so that the outliers are closer to 1 rather than 0\n",
    "    y_scores = [1-item for sublist in scaled_decision_score_list for item in sublist]\n",
    "\n",
    "\n",
    "    ### Confusion Matrix\n",
    "    confusion_matrix_test_object = confusion_matrix(y_test, test_pred)\n",
    "                \n",
    "    # Initialize a dictionary to store the metrics we are interested in\n",
    "    metrics_dict = Counter()\n",
    "\n",
    "    # These are all the basic threshold-dependent metrics\n",
    "    metrics_dict['Accuracy']  = float(\"{0:.4f}\".format(accuracy_score(y_test, test_pred)))\n",
    "\n",
    "    # The following are more useful than the accuracy\n",
    "    metrics_dict['Precision'] = float(\"{0:.4f}\".format(precision_score(y_test, test_pred, average='macro')))\n",
    "    metrics_dict['Recall'] = float(\"{0:.4f}\".format(recall_score(y_test, test_pred, average='macro')))\n",
    "    metrics_dict['F1'] = float(\"{0:.4f}\".format(f1_score(y_test, test_pred, average='macro')))\n",
    "\n",
    "    metrics_dict['TN'] = confusion_matrix_test_object[0][0]\n",
    "    metrics_dict['TP'] = confusion_matrix_test_object[1][1]\n",
    "    metrics_dict['FN'] = confusion_matrix_test_object[1][0]\n",
    "    metrics_dict['FP'] = confusion_matrix_test_object[0][1]\n",
    "\n",
    "    # These two are threshold-invariant metrics\n",
    "    metrics_dict['ROC AUC'] = float(\"{0:.4f}\".format(roc_auc_score(y_test, y_scores)))\n",
    "    metrics_dict['Average_Precision'] = float(\"{0:.4f}\".format(\n",
    "                                        average_precision_score(y_test, y_scores, average='macro', sample_weight=None)))\n",
    "\n",
    "    return metrics_dict"
   ]
  },
  {
   "cell_type": "markdown",
   "id": "13b370af-f8b5-4011-99c5-4fc1cc6473d8",
   "metadata": {},
   "source": [
    "### "
   ]
  },
  {
   "cell_type": "code",
   "execution_count": null,
   "id": "f270460e-f9c4-4cc0-9b6c-827f4f4a8701",
   "metadata": {},
   "outputs": [],
   "source": []
  },
  {
   "cell_type": "markdown",
   "id": "18405d07-9c6f-4ed8-825b-06caa69a7746",
   "metadata": {},
   "source": [
    "### Test Model Performance"
   ]
  },
  {
   "cell_type": "code",
   "execution_count": 84,
   "id": "33aa92b8-096c-484c-bcbf-573817ec058f",
   "metadata": {},
   "outputs": [],
   "source": [
    "# Assign the test features and labels as split out in the random stratified selection previously \n",
    "#   Test performance on full (inlier+outlier) dataset\n",
    "X_test = X_test_dfThyroid\n",
    "y_test = y_test_dfThyroid"
   ]
  },
  {
   "cell_type": "code",
   "execution_count": 85,
   "id": "e02b4aea-b131-40a3-848a-65b50d6a3ab6",
   "metadata": {},
   "outputs": [],
   "source": [
    "# List of models\n",
    "models = [\n",
    "    ('RBF', svm_rbf),\n",
    "    ('Poly Degree 2', svm_poly2),\n",
    "    ('Poly Degree 3', svm_poly3)\n",
    "]"
   ]
  },
  {
   "cell_type": "code",
   "execution_count": 86,
   "id": "6ef70711-286a-40ce-8ea4-e67b19d1e8e3",
   "metadata": {},
   "outputs": [
    {
     "name": "stdout",
     "output_type": "stream",
     "text": [
      "           Model  Precision    Recall  F1 Score  Average Precision  TN  TP  \\\n",
      "0            RBF   0.007321  0.263158  0.014245           0.020470  58   5   \n",
      "1  Poly Degree 2   0.016200  0.578947  0.031519           0.019975  68  11   \n",
      "2  Poly Degree 3   0.016200  0.578947  0.031519           0.019975  68  11   \n",
      "\n",
      "   FN   FP  \n",
      "0  14  678  \n",
      "1   8  668  \n",
      "2   8  668  \n",
      "           Model  Precision    Recall  F1 Score  Average Precision  TN  TP  \\\n",
      "0            RBF   0.007321  0.263158  0.014245           0.020470  58   5   \n",
      "1  Poly Degree 2   0.016200  0.578947  0.031519           0.019975  68  11   \n",
      "2  Poly Degree 3   0.016200  0.578947  0.031519           0.019975  68  11   \n",
      "\n",
      "   FN   FP  \n",
      "0  14  678  \n",
      "1   8  668  \n",
      "2   8  668  \n"
     ]
    },
    {
     "name": "stderr",
     "output_type": "stream",
     "text": [
      "/tmp/ipykernel_13307/3024036470.py:34: FutureWarning: The behavior of DataFrame concatenation with empty or all-NA entries is deprecated. In a future version, this will no longer exclude empty or all-NA columns when determining the result dtypes. To retain the old behavior, exclude the relevant entries before the concat operation.\n",
      "  metrics_df = pd.concat([metrics_df, new_row], ignore_index=True)\n"
     ]
    }
   ],
   "source": [
    "\n",
    "# Evaluate each model\n",
    "for model_name, model in models:\n",
    "    # Predict using the fitted model\n",
    "    y_pred = model.predict(X_test)\n",
    "    \n",
    "    # Map predictions to binary values (inliers = 1, outliers = -1)\n",
    "    y_pred = [1 if x == 1 else 0 for x in y_pred]\n",
    "\n",
    "    # Calculate classification metrics\n",
    "#    accuracy = accuracy_score(y_test, y_pred)\n",
    "    precision = precision_score(y_test, y_pred)\n",
    "    recall = recall_score(y_test, y_pred)\n",
    "    f1 = f1_score(y_test, y_pred)\n",
    "    avg_precision = average_precision_score(y_test, y_pred)\n",
    "    tn, fp, fn, tp = confusion_matrix(y_test, y_pred).ravel()\n",
    "\n",
    "    # Append metrics to the DataFrame\n",
    "\n",
    "    # Create a DataFrame with the new row\n",
    "    new_row = pd.DataFrame([{\n",
    "        'Model': model_name,\n",
    "#        \"Accuracy\": accuracy,\n",
    "        'Precision': precision,\n",
    "        'Recall': recall,\n",
    "        'F1 Score': f1,\n",
    "        'Average Precision': avg_precision,\n",
    "        'TN': tn,\n",
    "        'TP': tp,\n",
    "        'FN': fn,\n",
    "        'FP': fp\n",
    "    }])\n",
    "\n",
    "    # Append the new row to the metrics DataFrame\n",
    "    metrics_df = pd.concat([metrics_df, new_row], ignore_index=True)\n",
    "\n",
    "# Display the metrics DataFrame\n",
    "print(metrics_df)\n",
    "\n",
    "# Copy to a separate dataframe\n",
    "dfMetrics_OneClassSVM = metrics_df\n",
    "print(dfMetrics_OneClassSVM)\n",
    "      "
   ]
  },
  {
   "cell_type": "markdown",
   "id": "071ad169-eadf-4992-95b0-923e0d1fb507",
   "metadata": {},
   "source": [
    "## 7. Inspect Metrics and Compare Performance "
   ]
  },
  {
   "cell_type": "code",
   "execution_count": 87,
   "id": "cdb30dbb-f8b6-4935-a6ca-45fc77b795df",
   "metadata": {},
   "outputs": [
    {
     "data": {
      "image/png": "[encoded data removed]",
      "text/plain": [
       "<Figure size 1000x600 with 1 Axes>"
      ]
     },
     "metadata": {},
     "output_type": "display_data"
    },
    {
     "data": {
      "image/png": "[encoded data removed]",
      "text/plain": [
       "<Figure size 1000x600 with 1 Axes>"
      ]
     },
     "metadata": {},
     "output_type": "display_data"
    }
   ],
   "source": [
    "# Plot Precision, Recall, and F1 Score\n",
    "metrics_df.set_index('Model')[['Precision', 'Recall', 'F1 Score', 'Average Precision']].plot(kind='bar', figsize=(10, 6))\n",
    "plt.title('Comparison of Classification Metrics')\n",
    "plt.ylabel('Score')\n",
    "plt.xticks(rotation=0)\n",
    "plt.legend(loc='best')\n",
    "plt.show()\n",
    "\n",
    "# Plot confusion matrix components (TN, TP, FN, FP)\n",
    "metrics_df.set_index('Model')[['TN', 'TP', 'FN', 'FP']].plot(kind='bar', figsize=(10, 6))\n",
    "plt.title('Comparison of Confusion Matrix Components')\n",
    "plt.ylabel('Count')\n",
    "plt.xticks(rotation=0)\n",
    "plt.legend(loc='best')\n",
    "plt.show()\n"
   ]
  },
  {
   "cell_type": "code",
   "execution_count": null,
   "id": "7f002e45-555c-4896-bbdd-15e4da396c20",
   "metadata": {},
   "outputs": [],
   "source": []
  }
 ],
 "metadata": {
  "kernelspec": {
   "display_name": "Python 3 (ipykernel)",
   "language": "python",
   "name": "python3"
  },
  "language_info": {
   "codemirror_mode": {
    "name": "ipython",
    "version": 3
   },
   "file_extension": ".py",
   "mimetype": "text/x-python",
   "name": "python",
   "nbconvert_exporter": "python",
   "pygments_lexer": "ipython3",
   "version": "3.10.14"
  }
 },
 "nbformat": 4,
 "nbformat_minor": 5
}
