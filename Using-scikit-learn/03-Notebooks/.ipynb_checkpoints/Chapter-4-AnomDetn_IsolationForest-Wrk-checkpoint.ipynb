{
 "cells": [
  {
   "cell_type": "markdown",
   "id": "7de56c83",
   "metadata": {},
   "source": [
    "# Anomaly Detection Notebook: Isolation Forest\n",
    "### Date Started:   12 June 2024\n",
    "### Latest Update:  16 July 2024\n",
    "### Status: Rebuilt on top of the SVM Notebook to accumulate results \n",
    "#### Note: Added plot of metrics. Plot of Conf Matrix only produces for the first model, and quadrants out of standard order"
   ]
  },
  {
   "cell_type": "markdown",
   "id": "9179cb92-5e8e-417f-a7ce-ddbf07bdf778",
   "metadata": {},
   "source": [
    "### Notebook Developed Cumulatively to Accumulate Results as Further Models are Added"
   ]
  },
  {
   "cell_type": "markdown",
   "id": "af6631c3-212c-4973-a196-dc8159f5e4ea",
   "metadata": {},
   "source": [
    "#### A note on evaluation metrics"
   ]
  },
  {
   "cell_type": "markdown",
   "id": "58b7b4d5-ae18-444a-b4bf-4d87d20fcc09",
   "metadata": {},
   "source": [
    "##### Data Scientists working on skewed data problems need to keep in mind a) Defining & capturing the right metrics and b) Interpreting metrics\n",
    "\n",
    "Defining & capturing the right metrics: In the custom classification metrics function, we have intentionally captured the macro averaged metrics for the Precision, Recall, F1, Average Precision scores. Specifying the macro version ensures that sklearn corrects for the skewed data and weights both classes equally.\n",
    "\n",
    "Interpreting metrics: The correct interpretation relies on the use case and there is no one size fits all. In the case of outlier detection like Thyroid detection, we would typically want as much of the positive instances (in this case the outlier class) to be captured at the expense of having more False Positives This is because even if there are False Positives, a detailed screening can clear them out, but if a patient's case is not detected at all (i.e. False Negatives), then they are sent home and lost to follow-up evaluation.\n"
   ]
  },
  {
   "cell_type": "markdown",
   "id": "5564110e",
   "metadata": {},
   "source": [
    "### Chapter 2: One-Class SVM"
   ]
  },
  {
   "cell_type": "markdown",
   "id": "4d9807ab-c2dc-4ca2-a77c-273fcbb24682",
   "metadata": {},
   "source": [
    "#### Introduction to semi-supervised approaches\n",
    "The main problem solved by OneClassSVM is for novelty detection using an semi-supervised approach\n",
    "\n",
    "As Leo Tolstoy said ‘All happy families are alike; each unhappy family is unhappy in its own way.’ The implication for our use case is that OneClassSVM excels in situations where the inliers are all alike but the outliers are all special snowflakes. Datasets that have such as issue prevents the use of traditional 2-class binary classification problems and instead we use a 'unary' classification problem. Only the statistics of normal operation are known from the inliers\n",
    "\n",
    "We will be using OneClassSVM in a similar manner as unsupervised clustering. The approach processes the data as a static distribution, pinpoints the most remote points, and flags them as potential outliers.\n",
    "\n",
    "The main assumption on the data is that the outliers are actually separated from the inliers and hence the OCSVM algorithm can indeed separate it out.\n",
    "\n",
    "The main thing to note is that deleting the minority class from the input train data improves the performance when the model later sees the outliers mixed in with normal inliers. This would be a case of semi-supervised because we are using the labels but not necessarily to fit the model but to remove the minority class samples to improve the performance\n",
    "#### Important hyperparameters: \n",
    "kernel type - e.g. linear, poly, rbf, sigmoid - see chapter solution\n",
    "gamma - kernel coefficient for rbf, poly and sigmoid\n",
    "degree - used only by polynomial kernel functions"
   ]
  },
  {
   "cell_type": "markdown",
   "id": "1b237255-21c0-4c4b-b541-c17d43c72da8",
   "metadata": {},
   "source": [
    "### Chapter 3: Robust Covariance for Outlier Detection"
   ]
  },
  {
   "cell_type": "markdown",
   "id": "b0468a4e-ebee-43eb-98ff-8fbdea0254d4",
   "metadata": {},
   "source": [
    "EllipticEnvelope assumes the data is Gaussian and learns an ellipse to fit the inliers. The ellipse refers to how a 2D Gaussian distribution would look like when viewed from the top. Its called 'Robust' because learning the ellipse is not influenced by the outliers present in the data. The distance of an observation to the mode of the distribution obtained from this estimate is used to derive a measure of 'outlyingness.' \n",
    "\n",
    "Caveats: This method will not give good results when the number of samples does not exceed the squared of the features. In our case, we have 6 features and have 1000s of samples so we won't run into this limitation. Also, if your data is very non-Gaussian, then the method will not clearly work well.\n",
    "#### Important hyperparameter: \n",
    "contamination (float) - the proportion of outliers in the dataset"
   ]
  },
  {
   "cell_type": "markdown",
   "id": "0e3939aa-b3e4-47ff-a4fd-e1a99ef01d1e",
   "metadata": {},
   "source": [
    "### Chapter 4: Using Isolation Forest for Novelty Detection"
   ]
  },
  {
   "cell_type": "markdown",
   "id": "c3f8c43a-b094-48d7-bdd9-b0282e588353",
   "metadata": {},
   "source": [
    "Isolation Forest is a decision-tree based unsupervised learning algorithm. Each tree selects a subset of the features from the input data and the tree is built. The key idea is that when a randomly selected subset of data is sampled during tree-building phase, the tree will find it much easier to distinguish outliers and hence outliers will end up on shallow branches. One the other hand, the samples that are in much 'deeper' branches are from inliers. Averaging out the path lenghths across the entire forest gives confidence that the shorter paths represent the outliers and the longer paths represent the inliers. \n",
    "\n",
    "There are several advantages in using the Isolation Forest including,\n",
    "1) linear time complexity with a low constant and a low memory requirement\n",
    "2) ability to handle high dimensional problems which have a large number of irrelevant attributes, and \n",
    "3) in situations where training set does not contain any anomalies.\n",
    "\n",
    "#### What hyperparameters can be used to train the forest?\n",
    "n_estimators and the max_samples are typically used. In this milestone we are going to focus on n_estimators"
   ]
  },
  {
   "cell_type": "markdown",
   "id": "7df94904",
   "metadata": {},
   "source": [
    "## 1. Split Dataframe into Train and Test "
   ]
  },
  {
   "cell_type": "code",
   "execution_count": 2,
   "id": "2b04350e-6adc-49e7-9834-716ec2aa9047",
   "metadata": {},
   "outputs": [],
   "source": [
    "import pandas as pd \n",
    "import numpy as np\n",
    "\n",
    "import matplotlib.pyplot as plt\n",
    "%matplotlib inline\n",
    "\n",
    "import seaborn as sns\n",
    "\n",
    "import scipy\n",
    "from scipy.io.arff import loadarff\n",
    "import scipy.io as sio\n",
    "\n",
    "from collections import Counter\n",
    "from sklearn.preprocessing import MinMaxScaler\n",
    "\n",
    "from sklearn.covariance import EllipticEnvelope\n",
    "from sklearn.ensemble import IsolationForest\n",
    "from sklearn.neighbors import LocalOutlierFactor\n",
    "from sklearn.svm import OneClassSVM\n",
    "\n",
    "from sklearn.metrics import accuracy_score, classification_report,confusion_matrix \n",
    "from sklearn.metrics import roc_auc_score, f1_score, precision_score, recall_score, average_precision_score\n",
    "\n",
    "from sklearn.model_selection import train_test_split"
   ]
  },
  {
   "cell_type": "code",
   "execution_count": 3,
   "id": "eb8c6c3f-8f43-46b2-9222-58abac982792",
   "metadata": {},
   "outputs": [],
   "source": [
    "# Inserted at the top of every notebook to point to the target column\n",
    "target_class_name = \"6\"\n",
    "# And the names to call the 0 and 1 class\n",
    "labels = ['inliers', 'outliers']"
   ]
  },
  {
   "cell_type": "markdown",
   "id": "9f300eac-156a-44fb-8a09-ca8d6c56a58e",
   "metadata": {},
   "source": [
    "### Import Cleaned File"
   ]
  },
  {
   "cell_type": "code",
   "execution_count": 4,
   "id": "541e35d6-63c2-4f96-9fba-1a7c58eda716",
   "metadata": {},
   "outputs": [],
   "source": [
    "# Import\n",
    "data_directory = \"../01-Data/Processed/\"\n",
    "file_name = \"thyroid.csv\"      # Cleaned data exported from Week 1 notebook \n",
    "dfThyroid = pd.read_csv(data_directory  + file_name)"
   ]
  },
  {
   "cell_type": "markdown",
   "id": "35ef60b3-7c86-4d85-a2bb-03e8fd874d4c",
   "metadata": {},
   "source": [
    "### Check, Split Train / Test and Extract Features and Targets"
   ]
  },
  {
   "cell_type": "code",
   "execution_count": 5,
   "id": "6238a7ec-caab-4f34-bcac-3c5201275fab",
   "metadata": {},
   "outputs": [
    {
     "name": "stdout",
     "output_type": "stream",
     "text": [
      "<class 'pandas.core.frame.DataFrame'>\n",
      "RangeIndex: 3772 entries, 0 to 3771\n",
      "Data columns (total 7 columns):\n",
      " #   Column  Non-Null Count  Dtype  \n",
      "---  ------  --------------  -----  \n",
      " 0   0       3772 non-null   float64\n",
      " 1   1       3772 non-null   float64\n",
      " 2   2       3772 non-null   float64\n",
      " 3   3       3772 non-null   float64\n",
      " 4   4       3772 non-null   float64\n",
      " 5   5       3772 non-null   float64\n",
      " 6   6       3772 non-null   float64\n",
      "dtypes: float64(7)\n",
      "memory usage: 206.4 KB\n"
     ]
    },
    {
     "data": {
      "text/html": [
       "<div>\n",
       "<style scoped>\n",
       "    .dataframe tbody tr th:only-of-type {\n",
       "        vertical-align: middle;\n",
       "    }\n",
       "\n",
       "    .dataframe tbody tr th {\n",
       "        vertical-align: top;\n",
       "    }\n",
       "\n",
       "    .dataframe thead th {\n",
       "        text-align: right;\n",
       "    }\n",
       "</style>\n",
       "<table border=\"1\" class=\"dataframe\">\n",
       "  <thead>\n",
       "    <tr style=\"text-align: right;\">\n",
       "      <th></th>\n",
       "      <th>0</th>\n",
       "      <th>1</th>\n",
       "      <th>2</th>\n",
       "      <th>3</th>\n",
       "      <th>4</th>\n",
       "      <th>5</th>\n",
       "      <th>6</th>\n",
       "    </tr>\n",
       "  </thead>\n",
       "  <tbody>\n",
       "    <tr>\n",
       "      <th>0</th>\n",
       "      <td>0.774194</td>\n",
       "      <td>0.001132</td>\n",
       "      <td>0.137571</td>\n",
       "      <td>0.275701</td>\n",
       "      <td>0.295775</td>\n",
       "      <td>0.236066</td>\n",
       "      <td>0.0</td>\n",
       "    </tr>\n",
       "    <tr>\n",
       "      <th>1</th>\n",
       "      <td>0.247312</td>\n",
       "      <td>0.000472</td>\n",
       "      <td>0.279886</td>\n",
       "      <td>0.329439</td>\n",
       "      <td>0.535211</td>\n",
       "      <td>0.173770</td>\n",
       "      <td>0.0</td>\n",
       "    </tr>\n",
       "    <tr>\n",
       "      <th>2</th>\n",
       "      <td>0.494624</td>\n",
       "      <td>0.003585</td>\n",
       "      <td>0.222960</td>\n",
       "      <td>0.233645</td>\n",
       "      <td>0.525822</td>\n",
       "      <td>0.124590</td>\n",
       "      <td>0.0</td>\n",
       "    </tr>\n",
       "    <tr>\n",
       "      <th>3</th>\n",
       "      <td>0.677419</td>\n",
       "      <td>0.001698</td>\n",
       "      <td>0.156546</td>\n",
       "      <td>0.175234</td>\n",
       "      <td>0.333333</td>\n",
       "      <td>0.136066</td>\n",
       "      <td>0.0</td>\n",
       "    </tr>\n",
       "    <tr>\n",
       "      <th>4</th>\n",
       "      <td>0.236559</td>\n",
       "      <td>0.000472</td>\n",
       "      <td>0.241935</td>\n",
       "      <td>0.320093</td>\n",
       "      <td>0.333333</td>\n",
       "      <td>0.247541</td>\n",
       "      <td>0.0</td>\n",
       "    </tr>\n",
       "    <tr>\n",
       "      <th>...</th>\n",
       "      <td>...</td>\n",
       "      <td>...</td>\n",
       "      <td>...</td>\n",
       "      <td>...</td>\n",
       "      <td>...</td>\n",
       "      <td>...</td>\n",
       "      <td>...</td>\n",
       "    </tr>\n",
       "    <tr>\n",
       "      <th>3767</th>\n",
       "      <td>0.817204</td>\n",
       "      <td>0.000113</td>\n",
       "      <td>0.190702</td>\n",
       "      <td>0.287383</td>\n",
       "      <td>0.413146</td>\n",
       "      <td>0.188525</td>\n",
       "      <td>0.0</td>\n",
       "    </tr>\n",
       "    <tr>\n",
       "      <th>3768</th>\n",
       "      <td>0.430108</td>\n",
       "      <td>0.002453</td>\n",
       "      <td>0.232448</td>\n",
       "      <td>0.287383</td>\n",
       "      <td>0.446009</td>\n",
       "      <td>0.175410</td>\n",
       "      <td>0.0</td>\n",
       "    </tr>\n",
       "    <tr>\n",
       "      <th>3769</th>\n",
       "      <td>0.935484</td>\n",
       "      <td>0.024528</td>\n",
       "      <td>0.160342</td>\n",
       "      <td>0.282710</td>\n",
       "      <td>0.375587</td>\n",
       "      <td>0.200000</td>\n",
       "      <td>0.0</td>\n",
       "    </tr>\n",
       "    <tr>\n",
       "      <th>3770</th>\n",
       "      <td>0.677419</td>\n",
       "      <td>0.001472</td>\n",
       "      <td>0.190702</td>\n",
       "      <td>0.242991</td>\n",
       "      <td>0.323944</td>\n",
       "      <td>0.195082</td>\n",
       "      <td>0.0</td>\n",
       "    </tr>\n",
       "    <tr>\n",
       "      <th>3771</th>\n",
       "      <td>0.483871</td>\n",
       "      <td>0.003566</td>\n",
       "      <td>0.190702</td>\n",
       "      <td>0.212617</td>\n",
       "      <td>0.338028</td>\n",
       "      <td>0.163934</td>\n",
       "      <td>0.0</td>\n",
       "    </tr>\n",
       "  </tbody>\n",
       "</table>\n",
       "<p>3772 rows × 7 columns</p>\n",
       "</div>"
      ],
      "text/plain": [
       "             0         1         2         3         4         5    6\n",
       "0     0.774194  0.001132  0.137571  0.275701  0.295775  0.236066  0.0\n",
       "1     0.247312  0.000472  0.279886  0.329439  0.535211  0.173770  0.0\n",
       "2     0.494624  0.003585  0.222960  0.233645  0.525822  0.124590  0.0\n",
       "3     0.677419  0.001698  0.156546  0.175234  0.333333  0.136066  0.0\n",
       "4     0.236559  0.000472  0.241935  0.320093  0.333333  0.247541  0.0\n",
       "...        ...       ...       ...       ...       ...       ...  ...\n",
       "3767  0.817204  0.000113  0.190702  0.287383  0.413146  0.188525  0.0\n",
       "3768  0.430108  0.002453  0.232448  0.287383  0.446009  0.175410  0.0\n",
       "3769  0.935484  0.024528  0.160342  0.282710  0.375587  0.200000  0.0\n",
       "3770  0.677419  0.001472  0.190702  0.242991  0.323944  0.195082  0.0\n",
       "3771  0.483871  0.003566  0.190702  0.212617  0.338028  0.163934  0.0\n",
       "\n",
       "[3772 rows x 7 columns]"
      ]
     },
     "execution_count": 5,
     "metadata": {},
     "output_type": "execute_result"
    }
   ],
   "source": [
    "# Note: Previously this had an extra column at the front because the index column was not dropped on export to CSV  \n",
    "pd.DataFrame.info(dfThyroid)\n",
    "dfThyroid"
   ]
  },
  {
   "cell_type": "code",
   "execution_count": 6,
   "id": "26801b3e-7f96-4a5b-bf9c-3ee708ae62e4",
   "metadata": {},
   "outputs": [],
   "source": [
    "# Convert 0 and 1 in the target column as float to integer\n",
    "# Below line when column name assigned an integer 0 and not a char \n",
    "# dfThyroid.iloc[:, target_class_name] = dfThyroid.iloc[:, target_class_name].astype(int)  # pandas column is an integer \n",
    "# This line specifies a pandas column with char value\n",
    "dfThyroid[target_class_name] = dfThyroid[target_class_name].astype(int)"
   ]
  },
  {
   "cell_type": "code",
   "execution_count": 7,
   "id": "ccd4b349-9437-4cb7-9360-27e5b15b7c68",
   "metadata": {},
   "outputs": [
    {
     "name": "stdout",
     "output_type": "stream",
     "text": [
      "(3772, 6)\n"
     ]
    },
    {
     "data": {
      "text/html": [
       "<div>\n",
       "<style scoped>\n",
       "    .dataframe tbody tr th:only-of-type {\n",
       "        vertical-align: middle;\n",
       "    }\n",
       "\n",
       "    .dataframe tbody tr th {\n",
       "        vertical-align: top;\n",
       "    }\n",
       "\n",
       "    .dataframe thead th {\n",
       "        text-align: right;\n",
       "    }\n",
       "</style>\n",
       "<table border=\"1\" class=\"dataframe\">\n",
       "  <thead>\n",
       "    <tr style=\"text-align: right;\">\n",
       "      <th></th>\n",
       "      <th>0</th>\n",
       "      <th>1</th>\n",
       "      <th>2</th>\n",
       "      <th>3</th>\n",
       "      <th>4</th>\n",
       "      <th>5</th>\n",
       "    </tr>\n",
       "  </thead>\n",
       "  <tbody>\n",
       "    <tr>\n",
       "      <th>0</th>\n",
       "      <td>0.774194</td>\n",
       "      <td>0.001132</td>\n",
       "      <td>0.137571</td>\n",
       "      <td>0.275701</td>\n",
       "      <td>0.295775</td>\n",
       "      <td>0.236066</td>\n",
       "    </tr>\n",
       "    <tr>\n",
       "      <th>1</th>\n",
       "      <td>0.247312</td>\n",
       "      <td>0.000472</td>\n",
       "      <td>0.279886</td>\n",
       "      <td>0.329439</td>\n",
       "      <td>0.535211</td>\n",
       "      <td>0.173770</td>\n",
       "    </tr>\n",
       "    <tr>\n",
       "      <th>2</th>\n",
       "      <td>0.494624</td>\n",
       "      <td>0.003585</td>\n",
       "      <td>0.222960</td>\n",
       "      <td>0.233645</td>\n",
       "      <td>0.525822</td>\n",
       "      <td>0.124590</td>\n",
       "    </tr>\n",
       "    <tr>\n",
       "      <th>3</th>\n",
       "      <td>0.677419</td>\n",
       "      <td>0.001698</td>\n",
       "      <td>0.156546</td>\n",
       "      <td>0.175234</td>\n",
       "      <td>0.333333</td>\n",
       "      <td>0.136066</td>\n",
       "    </tr>\n",
       "    <tr>\n",
       "      <th>4</th>\n",
       "      <td>0.236559</td>\n",
       "      <td>0.000472</td>\n",
       "      <td>0.241935</td>\n",
       "      <td>0.320093</td>\n",
       "      <td>0.333333</td>\n",
       "      <td>0.247541</td>\n",
       "    </tr>\n",
       "    <tr>\n",
       "      <th>...</th>\n",
       "      <td>...</td>\n",
       "      <td>...</td>\n",
       "      <td>...</td>\n",
       "      <td>...</td>\n",
       "      <td>...</td>\n",
       "      <td>...</td>\n",
       "    </tr>\n",
       "    <tr>\n",
       "      <th>3767</th>\n",
       "      <td>0.817204</td>\n",
       "      <td>0.000113</td>\n",
       "      <td>0.190702</td>\n",
       "      <td>0.287383</td>\n",
       "      <td>0.413146</td>\n",
       "      <td>0.188525</td>\n",
       "    </tr>\n",
       "    <tr>\n",
       "      <th>3768</th>\n",
       "      <td>0.430108</td>\n",
       "      <td>0.002453</td>\n",
       "      <td>0.232448</td>\n",
       "      <td>0.287383</td>\n",
       "      <td>0.446009</td>\n",
       "      <td>0.175410</td>\n",
       "    </tr>\n",
       "    <tr>\n",
       "      <th>3769</th>\n",
       "      <td>0.935484</td>\n",
       "      <td>0.024528</td>\n",
       "      <td>0.160342</td>\n",
       "      <td>0.282710</td>\n",
       "      <td>0.375587</td>\n",
       "      <td>0.200000</td>\n",
       "    </tr>\n",
       "    <tr>\n",
       "      <th>3770</th>\n",
       "      <td>0.677419</td>\n",
       "      <td>0.001472</td>\n",
       "      <td>0.190702</td>\n",
       "      <td>0.242991</td>\n",
       "      <td>0.323944</td>\n",
       "      <td>0.195082</td>\n",
       "    </tr>\n",
       "    <tr>\n",
       "      <th>3771</th>\n",
       "      <td>0.483871</td>\n",
       "      <td>0.003566</td>\n",
       "      <td>0.190702</td>\n",
       "      <td>0.212617</td>\n",
       "      <td>0.338028</td>\n",
       "      <td>0.163934</td>\n",
       "    </tr>\n",
       "  </tbody>\n",
       "</table>\n",
       "<p>3772 rows × 6 columns</p>\n",
       "</div>"
      ],
      "text/plain": [
       "             0         1         2         3         4         5\n",
       "0     0.774194  0.001132  0.137571  0.275701  0.295775  0.236066\n",
       "1     0.247312  0.000472  0.279886  0.329439  0.535211  0.173770\n",
       "2     0.494624  0.003585  0.222960  0.233645  0.525822  0.124590\n",
       "3     0.677419  0.001698  0.156546  0.175234  0.333333  0.136066\n",
       "4     0.236559  0.000472  0.241935  0.320093  0.333333  0.247541\n",
       "...        ...       ...       ...       ...       ...       ...\n",
       "3767  0.817204  0.000113  0.190702  0.287383  0.413146  0.188525\n",
       "3768  0.430108  0.002453  0.232448  0.287383  0.446009  0.175410\n",
       "3769  0.935484  0.024528  0.160342  0.282710  0.375587  0.200000\n",
       "3770  0.677419  0.001472  0.190702  0.242991  0.323944  0.195082\n",
       "3771  0.483871  0.003566  0.190702  0.212617  0.338028  0.163934\n",
       "\n",
       "[3772 rows x 6 columns]"
      ]
     },
     "execution_count": 7,
     "metadata": {},
     "output_type": "execute_result"
    }
   ],
   "source": [
    "# Extracts features (X) and targets (y) \n",
    "X_dfThyroid = dfThyroid.drop(target_class_name, axis=1)\n",
    "y_dfThyroid = dfThyroid[target_class_name]\n",
    "# Prints feature details\n",
    "print(X_dfThyroid.shape)\n",
    "X_dfThyroid"
   ]
  },
  {
   "cell_type": "code",
   "execution_count": 8,
   "id": "ceeb3a05-12ba-437b-a662-b26efa16a7c0",
   "metadata": {},
   "outputs": [
    {
     "name": "stdout",
     "output_type": "stream",
     "text": [
      "(3772,)\n",
      "<class 'pandas.core.series.Series'>\n",
      "RangeIndex: 3772 entries, 0 to 3771\n",
      "Series name: 6\n",
      "Non-Null Count  Dtype\n",
      "--------------  -----\n",
      "3772 non-null   int64\n",
      "dtypes: int64(1)\n",
      "memory usage: 29.6 KB\n",
      "None\n",
      "count    3772.000000\n",
      "mean        0.024655\n",
      "std         0.155093\n",
      "min         0.000000\n",
      "25%         0.000000\n",
      "50%         0.000000\n",
      "75%         0.000000\n",
      "max         1.000000\n",
      "Name: 6, dtype: float64\n"
     ]
    }
   ],
   "source": [
    "# Prints target details\n",
    "#  Note: This is now a series since it is a single column extracted from a dataframe \n",
    "print(y_dfThyroid.shape)\n",
    "print(y_dfThyroid.info())\n",
    "print(y_dfThyroid.describe())"
   ]
  },
  {
   "cell_type": "markdown",
   "id": "2b2835a8-e13b-4d1e-9488-583c56c9fabc",
   "metadata": {},
   "source": [
    "### Randomly resamples train and test datasets while stratifying (keeping %) targets (y) "
   ]
  },
  {
   "cell_type": "code",
   "execution_count": 9,
   "id": "1258f52d-9958-42a1-971a-d7a5c73a9fef",
   "metadata": {},
   "outputs": [],
   "source": [
    "# Randomly resamples train and test datasets while stratifying (keeping %) targets (y) \n",
    "X_train_dfThyroid, X_test_dfThyroid, y_train_dfThyroid, y_test_dfThyroid = train_test_split(X_dfThyroid, y_dfThyroid, test_size=0.2, random_state=42, stratify = y_dfThyroid)"
   ]
  },
  {
   "cell_type": "code",
   "execution_count": 10,
   "id": "46c9801c-7425-4c84-a5fe-4d243f58ef35",
   "metadata": {},
   "outputs": [
    {
     "name": "stdout",
     "output_type": "stream",
     "text": [
      "Training dataset features: \n",
      "\n",
      "<class 'pandas.core.frame.DataFrame'>\n",
      "Index: 3017 entries, 1697 to 1315\n",
      "Data columns (total 6 columns):\n",
      " #   Column  Non-Null Count  Dtype  \n",
      "---  ------  --------------  -----  \n",
      " 0   0       3017 non-null   float64\n",
      " 1   1       3017 non-null   float64\n",
      " 2   2       3017 non-null   float64\n",
      " 3   3       3017 non-null   float64\n",
      " 4   4       3017 non-null   float64\n",
      " 5   5       3017 non-null   float64\n",
      "dtypes: float64(6)\n",
      "memory usage: 165.0 KB\n"
     ]
    },
    {
     "data": {
      "text/html": [
       "<div>\n",
       "<style scoped>\n",
       "    .dataframe tbody tr th:only-of-type {\n",
       "        vertical-align: middle;\n",
       "    }\n",
       "\n",
       "    .dataframe tbody tr th {\n",
       "        vertical-align: top;\n",
       "    }\n",
       "\n",
       "    .dataframe thead th {\n",
       "        text-align: right;\n",
       "    }\n",
       "</style>\n",
       "<table border=\"1\" class=\"dataframe\">\n",
       "  <thead>\n",
       "    <tr style=\"text-align: right;\">\n",
       "      <th></th>\n",
       "      <th>0</th>\n",
       "      <th>1</th>\n",
       "      <th>2</th>\n",
       "      <th>3</th>\n",
       "      <th>4</th>\n",
       "      <th>5</th>\n",
       "    </tr>\n",
       "  </thead>\n",
       "  <tbody>\n",
       "    <tr>\n",
       "      <th>count</th>\n",
       "      <td>3017.000000</td>\n",
       "      <td>3017.000000</td>\n",
       "      <td>3017.000000</td>\n",
       "      <td>3017.000000</td>\n",
       "      <td>3017.000000</td>\n",
       "      <td>3017.000000</td>\n",
       "    </tr>\n",
       "    <tr>\n",
       "      <th>mean</th>\n",
       "      <td>0.544599</td>\n",
       "      <td>0.008744</td>\n",
       "      <td>0.186698</td>\n",
       "      <td>0.247565</td>\n",
       "      <td>0.376012</td>\n",
       "      <td>0.177055</td>\n",
       "    </tr>\n",
       "    <tr>\n",
       "      <th>std</th>\n",
       "      <td>0.203830</td>\n",
       "      <td>0.039443</td>\n",
       "      <td>0.071255</td>\n",
       "      <td>0.081002</td>\n",
       "      <td>0.087422</td>\n",
       "      <td>0.054254</td>\n",
       "    </tr>\n",
       "    <tr>\n",
       "      <th>min</th>\n",
       "      <td>0.000000</td>\n",
       "      <td>0.000000</td>\n",
       "      <td>0.000000</td>\n",
       "      <td>0.002103</td>\n",
       "      <td>0.000000</td>\n",
       "      <td>0.001311</td>\n",
       "    </tr>\n",
       "    <tr>\n",
       "      <th>25%</th>\n",
       "      <td>0.376344</td>\n",
       "      <td>0.001094</td>\n",
       "      <td>0.156546</td>\n",
       "      <td>0.200935</td>\n",
       "      <td>0.328638</td>\n",
       "      <td>0.149180</td>\n",
       "    </tr>\n",
       "    <tr>\n",
       "      <th>50%</th>\n",
       "      <td>0.569892</td>\n",
       "      <td>0.003019</td>\n",
       "      <td>0.190702</td>\n",
       "      <td>0.240654</td>\n",
       "      <td>0.375587</td>\n",
       "      <td>0.173770</td>\n",
       "    </tr>\n",
       "    <tr>\n",
       "      <th>75%</th>\n",
       "      <td>0.709677</td>\n",
       "      <td>0.004717</td>\n",
       "      <td>0.203985</td>\n",
       "      <td>0.282710</td>\n",
       "      <td>0.399061</td>\n",
       "      <td>0.196721</td>\n",
       "    </tr>\n",
       "    <tr>\n",
       "      <th>max</th>\n",
       "      <td>1.000000</td>\n",
       "      <td>1.000000</td>\n",
       "      <td>1.000000</td>\n",
       "      <td>1.000000</td>\n",
       "      <td>1.000000</td>\n",
       "      <td>0.726230</td>\n",
       "    </tr>\n",
       "  </tbody>\n",
       "</table>\n",
       "</div>"
      ],
      "text/plain": [
       "                 0            1            2            3            4  \\\n",
       "count  3017.000000  3017.000000  3017.000000  3017.000000  3017.000000   \n",
       "mean      0.544599     0.008744     0.186698     0.247565     0.376012   \n",
       "std       0.203830     0.039443     0.071255     0.081002     0.087422   \n",
       "min       0.000000     0.000000     0.000000     0.002103     0.000000   \n",
       "25%       0.376344     0.001094     0.156546     0.200935     0.328638   \n",
       "50%       0.569892     0.003019     0.190702     0.240654     0.375587   \n",
       "75%       0.709677     0.004717     0.203985     0.282710     0.399061   \n",
       "max       1.000000     1.000000     1.000000     1.000000     1.000000   \n",
       "\n",
       "                 5  \n",
       "count  3017.000000  \n",
       "mean      0.177055  \n",
       "std       0.054254  \n",
       "min       0.001311  \n",
       "25%       0.149180  \n",
       "50%       0.173770  \n",
       "75%       0.196721  \n",
       "max       0.726230  "
      ]
     },
     "execution_count": 10,
     "metadata": {},
     "output_type": "execute_result"
    }
   ],
   "source": [
    "# Check \n",
    "print(\"Training dataset features: \\n\")\n",
    "pd.DataFrame.info(X_train_dfThyroid)\n",
    "pd.DataFrame.describe(X_train_dfThyroid)"
   ]
  },
  {
   "cell_type": "code",
   "execution_count": 11,
   "id": "22816130-9e6d-4aa0-9ce3-8f20037ea1b4",
   "metadata": {},
   "outputs": [
    {
     "name": "stdout",
     "output_type": "stream",
     "text": [
      "\n",
      "Testing dataset features\n",
      "<class 'pandas.core.frame.DataFrame'>\n",
      "Index: 755 entries, 3528 to 3535\n",
      "Data columns (total 6 columns):\n",
      " #   Column  Non-Null Count  Dtype  \n",
      "---  ------  --------------  -----  \n",
      " 0   0       755 non-null    float64\n",
      " 1   1       755 non-null    float64\n",
      " 2   2       755 non-null    float64\n",
      " 3   3       755 non-null    float64\n",
      " 4   4       755 non-null    float64\n",
      " 5   5       755 non-null    float64\n",
      "dtypes: float64(6)\n",
      "memory usage: 41.3 KB\n"
     ]
    },
    {
     "data": {
      "text/html": [
       "<div>\n",
       "<style scoped>\n",
       "    .dataframe tbody tr th:only-of-type {\n",
       "        vertical-align: middle;\n",
       "    }\n",
       "\n",
       "    .dataframe tbody tr th {\n",
       "        vertical-align: top;\n",
       "    }\n",
       "\n",
       "    .dataframe thead th {\n",
       "        text-align: right;\n",
       "    }\n",
       "</style>\n",
       "<table border=\"1\" class=\"dataframe\">\n",
       "  <thead>\n",
       "    <tr style=\"text-align: right;\">\n",
       "      <th></th>\n",
       "      <th>0</th>\n",
       "      <th>1</th>\n",
       "      <th>2</th>\n",
       "      <th>3</th>\n",
       "      <th>4</th>\n",
       "      <th>5</th>\n",
       "    </tr>\n",
       "  </thead>\n",
       "  <tbody>\n",
       "    <tr>\n",
       "      <th>count</th>\n",
       "      <td>755.000000</td>\n",
       "      <td>755.000000</td>\n",
       "      <td>755.000000</td>\n",
       "      <td>755.000000</td>\n",
       "      <td>755.000000</td>\n",
       "      <td>755.000000</td>\n",
       "    </tr>\n",
       "    <tr>\n",
       "      <th>mean</th>\n",
       "      <td>0.537214</td>\n",
       "      <td>0.009941</td>\n",
       "      <td>0.187341</td>\n",
       "      <td>0.251397</td>\n",
       "      <td>0.380655</td>\n",
       "      <td>0.178282</td>\n",
       "    </tr>\n",
       "    <tr>\n",
       "      <th>std</th>\n",
       "      <td>0.203661</td>\n",
       "      <td>0.058725</td>\n",
       "      <td>0.066944</td>\n",
       "      <td>0.078843</td>\n",
       "      <td>0.087182</td>\n",
       "      <td>0.057467</td>\n",
       "    </tr>\n",
       "    <tr>\n",
       "      <th>min</th>\n",
       "      <td>0.000000</td>\n",
       "      <td>0.000000</td>\n",
       "      <td>0.004744</td>\n",
       "      <td>0.000000</td>\n",
       "      <td>0.042254</td>\n",
       "      <td>0.000000</td>\n",
       "    </tr>\n",
       "    <tr>\n",
       "      <th>25%</th>\n",
       "      <td>0.365591</td>\n",
       "      <td>0.001132</td>\n",
       "      <td>0.156546</td>\n",
       "      <td>0.207944</td>\n",
       "      <td>0.328638</td>\n",
       "      <td>0.150820</td>\n",
       "    </tr>\n",
       "    <tr>\n",
       "      <th>50%</th>\n",
       "      <td>0.569892</td>\n",
       "      <td>0.002830</td>\n",
       "      <td>0.190702</td>\n",
       "      <td>0.247664</td>\n",
       "      <td>0.375587</td>\n",
       "      <td>0.177049</td>\n",
       "    </tr>\n",
       "    <tr>\n",
       "      <th>75%</th>\n",
       "      <td>0.698925</td>\n",
       "      <td>0.004340</td>\n",
       "      <td>0.213472</td>\n",
       "      <td>0.280374</td>\n",
       "      <td>0.413146</td>\n",
       "      <td>0.196721</td>\n",
       "    </tr>\n",
       "    <tr>\n",
       "      <th>max</th>\n",
       "      <td>0.956989</td>\n",
       "      <td>0.901887</td>\n",
       "      <td>0.801708</td>\n",
       "      <td>0.698598</td>\n",
       "      <td>0.816901</td>\n",
       "      <td>1.000000</td>\n",
       "    </tr>\n",
       "  </tbody>\n",
       "</table>\n",
       "</div>"
      ],
      "text/plain": [
       "                0           1           2           3           4           5\n",
       "count  755.000000  755.000000  755.000000  755.000000  755.000000  755.000000\n",
       "mean     0.537214    0.009941    0.187341    0.251397    0.380655    0.178282\n",
       "std      0.203661    0.058725    0.066944    0.078843    0.087182    0.057467\n",
       "min      0.000000    0.000000    0.004744    0.000000    0.042254    0.000000\n",
       "25%      0.365591    0.001132    0.156546    0.207944    0.328638    0.150820\n",
       "50%      0.569892    0.002830    0.190702    0.247664    0.375587    0.177049\n",
       "75%      0.698925    0.004340    0.213472    0.280374    0.413146    0.196721\n",
       "max      0.956989    0.901887    0.801708    0.698598    0.816901    1.000000"
      ]
     },
     "execution_count": 11,
     "metadata": {},
     "output_type": "execute_result"
    }
   ],
   "source": [
    "print(\"\\nTesting dataset features\")\n",
    "pd.DataFrame.info(X_test_dfThyroid)\n",
    "pd.DataFrame.describe(X_test_dfThyroid)"
   ]
  },
  {
   "cell_type": "code",
   "execution_count": 12,
   "id": "0b7dee02-414a-4699-946e-0d32723237d8",
   "metadata": {},
   "outputs": [
    {
     "name": "stdout",
     "output_type": "stream",
     "text": [
      "\n",
      "Training dataset targets\n",
      "<class 'pandas.core.series.Series'>\n",
      "Index: 3017 entries, 1697 to 1315\n",
      "Series name: 6\n",
      "Non-Null Count  Dtype\n",
      "--------------  -----\n",
      "3017 non-null   int64\n",
      "dtypes: int64(1)\n",
      "memory usage: 47.1 KB\n",
      "None\n",
      "count    3017.000000\n",
      "mean        0.024528\n",
      "std         0.154706\n",
      "min         0.000000\n",
      "25%         0.000000\n",
      "50%         0.000000\n",
      "75%         0.000000\n",
      "max         1.000000\n",
      "Name: 6, dtype: float64\n"
     ]
    }
   ],
   "source": [
    "# Check \n",
    "print(\"\\nTraining dataset targets\")\n",
    "print(y_train_dfThyroid.info())\n",
    "print(y_train_dfThyroid.describe())"
   ]
  },
  {
   "cell_type": "markdown",
   "id": "75fc0149",
   "metadata": {},
   "source": [
    "## 2. Quantify the number of outliers"
   ]
  },
  {
   "cell_type": "markdown",
   "id": "75335ab2-62d7-4093-82d0-0d816b0d6497",
   "metadata": {},
   "source": [
    "#### On the full dataset"
   ]
  },
  {
   "cell_type": "code",
   "execution_count": 13,
   "id": "c1c5bca5-2f9a-4b5d-8a96-97c9647b38e3",
   "metadata": {},
   "outputs": [
    {
     "name": "stdout",
     "output_type": "stream",
     "text": [
      "Number of outliers in entire dataset: 93\n"
     ]
    }
   ],
   "source": [
    "# Count the number of outliers\n",
    "# outlier_count = dfThyroid[dfThyroid.iloc[:, target_class_name] == 1].shape[0]\n",
    "outlier_count = dfThyroid[dfThyroid[target_class_name] == 1].shape[0]\n",
    "\n",
    "print(f\"Number of outliers in entire dataset: {outlier_count}\")"
   ]
  },
  {
   "cell_type": "markdown",
   "id": "8b91b61b-4e41-4562-88eb-8f2b41446f22",
   "metadata": {},
   "source": [
    "#### For train and test datasets (split into series y_train and y_test)"
   ]
  },
  {
   "cell_type": "code",
   "execution_count": 14,
   "id": "d887a2e3-85e6-4b76-b889-749df1eeb058",
   "metadata": {},
   "outputs": [
    {
     "name": "stdout",
     "output_type": "stream",
     "text": [
      "Number of outliers in training dataset: 74\n",
      "Number of outliers in test dataset: 19\n"
     ]
    }
   ],
   "source": [
    "# Count the number of outliers in Train and Test\n",
    "# train_outlier_count = train_dfThyroid[train_dfThyroid.iloc[:, target_class_name] == 1].shape[0]\n",
    "# train_outlier_count = y_train_dfThyroid[y_train_dfThyroid[target_class_name] == 1].shape[0]\n",
    "\n",
    "# y_train_dfThyroid = y_train_dfThyroid[target_class_name].squeeze()   # This ensures that y_dfThyroid is a series \n",
    "train_outlier_count = (y_train_dfThyroid == 1).sum()\n",
    "print(f\"Number of outliers in training dataset: {train_outlier_count}\")\n",
    "\n",
    "# Works for dataframe and not for series\n",
    "# test_outlier_count = test_dfThyroid[test_dfThyroid.iloc[:, target_class_name] == 1].shape[0]\n",
    "test_outlier_count = (y_test_dfThyroid == 1).sum()\n",
    "print(f\"Number of outliers in test dataset: {test_outlier_count}\")"
   ]
  },
  {
   "cell_type": "markdown",
   "id": "14ef7de4-654b-4ecf-adb2-f9c89f9a3efe",
   "metadata": {},
   "source": [
    "## 3. Separate out samples corresponding to the inliers"
   ]
  },
  {
   "cell_type": "markdown",
   "id": "89115d96-07a0-4acd-afa2-be4e418f6c6e",
   "metadata": {},
   "source": [
    "#### Calculate Number of Outliers in the Entire Data Set \n",
    "##### Note: Targets are now floats rather than integers?? Check back whether this affects the calculations (checking equality of floats is problematic in Python)"
   ]
  },
  {
   "cell_type": "code",
   "execution_count": 15,
   "id": "a756ca1d-bbc0-4c49-adc9-532442cf90ba",
   "metadata": {},
   "outputs": [
    {
     "name": "stdout",
     "output_type": "stream",
     "text": [
      "Number of training inliers: 3679\n",
      "Number of training outliers: 93\n"
     ]
    }
   ],
   "source": [
    "# Separate training inliers and outliers records \n",
    "# total_inliers = dfThyroid[dfThyroid.iloc[:, target_class_name] == 0]\n",
    "# total_outliers = dfThyroid[dfThyroid.iloc[:, target_class_name] == 1]\n",
    "\n",
    "total_inliers = dfThyroid[dfThyroid[target_class_name] == 0]\n",
    "total_outliers = dfThyroid[dfThyroid[target_class_name] == 1]\n",
    "\n",
    "# Display the shape of inliers and outliers DataFrames\n",
    "print(f\"Number of training inliers: {total_inliers.shape[0]}\")\n",
    "print(f\"Number of training outliers: {total_outliers.shape[0]}\")"
   ]
  },
  {
   "cell_type": "markdown",
   "id": "96f1a5e8-8717-4e4e-a7b7-3bc25ee6fed2",
   "metadata": {},
   "source": [
    "#### Calculate Proportion of Outliers \n",
    "##### Note: Targets are now floats rather than integers?? Check back whether this affects the calculations (checking equality of floats is problematic in Python)"
   ]
  },
  {
   "cell_type": "code",
   "execution_count": 16,
   "id": "7d28c1f1-aa32-4029-8f3c-cd61b61cd57a",
   "metadata": {},
   "outputs": [],
   "source": [
    "outliers_fraction = total_outliers.shape[0] / (dfThyroid.shape[0]) \n",
    "inliers_fraction =  total_inliers.shape[0] / (dfThyroid.shape[0])"
   ]
  },
  {
   "cell_type": "markdown",
   "id": "28587a56-b614-408b-b1ac-0e1c4eafd015",
   "metadata": {},
   "source": [
    "#### Calculate Percentage of Outliers and thus Baseline to Beat - Class Distributions \n",
    "##### Note: Targets are now floats rather than integers?? Check back whether this affects the calculations (checking equality of floats is problematic in Python)"
   ]
  },
  {
   "cell_type": "code",
   "execution_count": 17,
   "id": "e9b05162-87e3-4f57-9977-2ea3f14a2fb4",
   "metadata": {},
   "outputs": [
    {
     "name": "stdout",
     "output_type": "stream",
     "text": [
      "\n",
      "Inlier percentage is: 97.534%\n",
      "Outlier percentage is: 2.466%\n"
     ]
    }
   ],
   "source": [
    "# Display the shape of inliers and outliers DataFrames\n",
    "# Note: Adding % to the format string converts a proportion to a percentage\n",
    "print(f\"\\nInlier percentage is: {inliers_fraction:.3%}\")\n",
    "print(f\"Outlier percentage is: {outliers_fraction:.3%}\")\n",
    "\n",
    "# NOT assigning the rounded value to the outliers_fraction - leaving as calculated\n",
    "# outliers_fraction= 0.025 # Almost the calculated value\n",
    "\n",
    "#We will use a multiple of this as the nu or contamination factor to tell the model how many to expect"
   ]
  },
  {
   "cell_type": "code",
   "execution_count": 18,
   "id": "e16adc62-7088-48ca-b216-306330240dc3",
   "metadata": {},
   "outputs": [
    {
     "name": "stderr",
     "output_type": "stream",
     "text": [
      "/tmp/ipykernel_6654/679114168.py:2: FutureWarning: pandas.value_counts is deprecated and will be removed in a future version. Use pd.Series(obj).value_counts() instead.\n",
      "  pd.value_counts(dfThyroid[target_class_name]).plot.bar()\n"
     ]
    },
    {
     "data": {
      "text/plain": [
       "6\n",
       "0    3679\n",
       "1      93\n",
       "Name: count, dtype: int64"
      ]
     },
     "execution_count": 18,
     "metadata": {},
     "output_type": "execute_result"
    },
    {
     "data": {
      "image/png": "[encoded data removed]",
      "text/plain": [
       "<Figure size 600x400 with 1 Axes>"
      ]
     },
     "metadata": {},
     "output_type": "display_data"
    }
   ],
   "source": [
    "plt.figure(figsize=(6,4))\n",
    "pd.value_counts(dfThyroid[target_class_name]).plot.bar()\n",
    "plt.title('Histogram of class distributions')\n",
    "plt.xlabel(labels[1])\n",
    "plt.xticks(rotation=0)\n",
    "plt.ylabel('Frequency')\n",
    "dfThyroid[target_class_name].value_counts()"
   ]
  },
  {
   "cell_type": "markdown",
   "id": "737b5248-76a5-44a2-826a-062064151f2d",
   "metadata": {},
   "source": [
    "## 4. Prepare Training and Test Data"
   ]
  },
  {
   "cell_type": "markdown",
   "id": "738ee70f-184f-49d7-888f-64e4e3750251",
   "metadata": {},
   "source": [
    "### Prepare Training Data"
   ]
  },
  {
   "cell_type": "code",
   "execution_count": 19,
   "id": "8a120ee0-f0b2-4968-9d24-5808c8e3d2d1",
   "metadata": {},
   "outputs": [
    {
     "data": {
      "text/plain": [
       "(2943, 6)"
      ]
     },
     "execution_count": 19,
     "metadata": {},
     "output_type": "execute_result"
    }
   ],
   "source": [
    "# concatenate X_train with y_train to be able to identify the training samples that are outliers \n",
    "#   Then in the same step filter the outliers and drop the targets\n",
    "train_dfThyroid = pd.concat([X_train_dfThyroid, y_train_dfThyroid], axis=1)\n",
    "train_X_inliers = train_dfThyroid[train_dfThyroid[target_class_name]==0].drop(target_class_name, axis=1)\n",
    "\n",
    "# We will use inlier_X_train as the input dataset\n",
    "train_X_inliers.shape\n",
    "# That makes sense to have 3017 - 74= 2943 samples\n",
    "\n",
    "# train_X_inliers.describe()"
   ]
  },
  {
   "cell_type": "markdown",
   "id": "7f3a69c8-7d2b-4013-a3f5-4ad88f095ef6",
   "metadata": {},
   "source": [
    "### Prepare Testing Data"
   ]
  },
  {
   "cell_type": "code",
   "execution_count": 20,
   "id": "2504136e-0915-4367-b9cf-c0b165e0fd1a",
   "metadata": {},
   "outputs": [
    {
     "data": {
      "text/plain": [
       "(736, 6)"
      ]
     },
     "execution_count": 20,
     "metadata": {},
     "output_type": "execute_result"
    }
   ],
   "source": [
    "# concatenate X_train with y_train to be able to identify the testing samples that are outliers \n",
    "#   Then in the same step filter the outliers and drop the targets\n",
    "test_dfThyroid = pd.concat([X_test_dfThyroid, y_test_dfThyroid], axis=1)\n",
    "test_X_inliers = test_dfThyroid[test_dfThyroid[target_class_name]==0].drop(target_class_name, axis=1)\n",
    "\n",
    "# We will use inlier_X_test as the input dataset\n",
    "test_X_inliers.shape\n",
    "\n",
    "\n",
    "# test_X_inliers.describe()"
   ]
  },
  {
   "cell_type": "markdown",
   "id": "5046f8e0-c098-4b05-b66c-92cc5e823cd1",
   "metadata": {},
   "source": [
    "## 5C. Initialise"
   ]
  },
  {
   "cell_type": "markdown",
   "id": "f3c95fa0-1e42-4709-8ae7-68440c62b36d",
   "metadata": {},
   "source": [
    "#### Initialize dictionaries to store the instantiated models and metrics"
   ]
  },
  {
   "cell_type": "markdown",
   "id": "9a741e66-ea8e-4d4c-8524-89cb5f565ae3",
   "metadata": {},
   "source": [
    "##### NOTE: The function below is common in all later notebooks, and is not repeated. The dictionary code following changes for each different set of models"
   ]
  },
  {
   "cell_type": "code",
   "execution_count": 21,
   "id": "73f7b947-12ef-4da7-a111-6406b88b1c3a",
   "metadata": {},
   "outputs": [],
   "source": [
    "# Reuse the same function from the starter template\n",
    "def custom_classification_metrics_function(X_test, y_test, labels, classifier):\n",
    "    '''\n",
    "    Args: The features and the target column; the labels are the categories, sklearn classifier object\n",
    "    Calculates Classification metrics of interest\n",
    "    Returns: A dictionary containing the classification metrics\n",
    "    '''\n",
    "\n",
    "    # Generate the predictions on the test data which forms the basis of the evaluation metrics\n",
    "    test_pred = classifier.predict(X_test)\n",
    "        \n",
    "    # This is to convert the output labels so that the confusion matrix and the accuracy scores work correctly\n",
    "    # The anomalies identified by sklearn are labelled as -1 but we want them to recognized as 1, so we flip the labels\n",
    "    test_pred = test_pred*-1\n",
    "    test_pred[test_pred==-1]=0\n",
    "    \n",
    "    ### Classification report\n",
    "    print(classification_report(y_test, test_pred, target_names=labels))\n",
    "\n",
    "    ### Probability scores\n",
    "    \n",
    "    # Unlike the usual classifiers, Anomaly detection algorithms don't have a predict_proba() method that can be applied\n",
    "    # Instead we have to get the raw scores from the decision function applied on the test data\n",
    "    decision_score_list = classifier.decision_function(X_test)\n",
    "    \n",
    "    # ......and turn them into numbers between 0 and 1 which can be treated as probabilities\n",
    "    scaled_decision_score_list = MinMaxScaler().fit_transform(decision_score_list.reshape(-1, 1))\n",
    "\n",
    "    # This is just to flatten the list and subtract the no.s so that the outliers are closer to 1 rather than 0\n",
    "    y_scores = [1-item for sublist in scaled_decision_score_list for item in sublist]\n",
    "\n",
    "\n",
    "    ### Confusion Matrix\n",
    "    confusion_matrix_test_object = confusion_matrix(y_test, test_pred)\n",
    "                \n",
    "    # Initialize a dictionary to store the metrics we are interested in\n",
    "    metrics_dict = Counter()\n",
    "\n",
    "    # These are all the basic threshold-dependent metrics\n",
    "    metrics_dict['Accuracy']  = float(\"{0:.4f}\".format(accuracy_score(y_test, test_pred)))\n",
    "\n",
    "    # The following are more useful than the accuracy\n",
    "    metrics_dict['Precision'] = float(\"{0:.4f}\".format(precision_score(y_test, test_pred, average='macro')))\n",
    "    metrics_dict['Recall'] = float(\"{0:.4f}\".format(recall_score(y_test, test_pred, average='macro')))\n",
    "    metrics_dict['F1'] = float(\"{0:.4f}\".format(f1_score(y_test, test_pred, average='macro')))\n",
    "\n",
    "    metrics_dict['TN'] = confusion_matrix_test_object[0][0]\n",
    "    metrics_dict['TP'] = confusion_matrix_test_object[1][1]\n",
    "    metrics_dict['FN'] = confusion_matrix_test_object[1][0]\n",
    "    metrics_dict['FP'] = confusion_matrix_test_object[0][1]\n",
    "\n",
    "    # These two are threshold-invariant metrics\n",
    "    metrics_dict['ROC AUC'] = float(\"{0:.4f}\".format(roc_auc_score(y_test, y_scores)))\n",
    "    metrics_dict['Average_Precision'] = float(\"{0:.4f}\".format(\n",
    "                                        average_precision_score(y_test, y_scores, average='macro', sample_weight=None)))\n",
    "\n",
    "    return metrics_dict, confusion_matrix_test_object   # Added also return conf matrix test obj 12 July 2024"
   ]
  },
  {
   "cell_type": "code",
   "execution_count": 22,
   "id": "3d505e88-b018-4e05-ba0e-7037ec55a0c4",
   "metadata": {},
   "outputs": [
    {
     "data": {
      "text/html": [
       "<div>\n",
       "<style scoped>\n",
       "    .dataframe tbody tr th:only-of-type {\n",
       "        vertical-align: middle;\n",
       "    }\n",
       "\n",
       "    .dataframe tbody tr th {\n",
       "        vertical-align: top;\n",
       "    }\n",
       "\n",
       "    .dataframe thead th {\n",
       "        text-align: right;\n",
       "    }\n",
       "</style>\n",
       "<table border=\"1\" class=\"dataframe\">\n",
       "  <thead>\n",
       "    <tr style=\"text-align: right;\">\n",
       "      <th></th>\n",
       "      <th>Accuracy</th>\n",
       "      <th>Precision</th>\n",
       "      <th>Recall</th>\n",
       "      <th>F1</th>\n",
       "      <th>ROC AUC</th>\n",
       "      <th>FN</th>\n",
       "      <th>TP</th>\n",
       "      <th>FP</th>\n",
       "      <th>TN</th>\n",
       "      <th>Average_Precision</th>\n",
       "    </tr>\n",
       "  </thead>\n",
       "  <tbody>\n",
       "    <tr>\n",
       "      <th>Novelty OCSVM RBF</th>\n",
       "      <td>NaN</td>\n",
       "      <td>NaN</td>\n",
       "      <td>NaN</td>\n",
       "      <td>NaN</td>\n",
       "      <td>NaN</td>\n",
       "      <td>NaN</td>\n",
       "      <td>NaN</td>\n",
       "      <td>NaN</td>\n",
       "      <td>NaN</td>\n",
       "      <td>NaN</td>\n",
       "    </tr>\n",
       "    <tr>\n",
       "      <th>Novelty OCSVM poly degree 2</th>\n",
       "      <td>NaN</td>\n",
       "      <td>NaN</td>\n",
       "      <td>NaN</td>\n",
       "      <td>NaN</td>\n",
       "      <td>NaN</td>\n",
       "      <td>NaN</td>\n",
       "      <td>NaN</td>\n",
       "      <td>NaN</td>\n",
       "      <td>NaN</td>\n",
       "      <td>NaN</td>\n",
       "    </tr>\n",
       "    <tr>\n",
       "      <th>Novelty OCSVM poly degree 3</th>\n",
       "      <td>NaN</td>\n",
       "      <td>NaN</td>\n",
       "      <td>NaN</td>\n",
       "      <td>NaN</td>\n",
       "      <td>NaN</td>\n",
       "      <td>NaN</td>\n",
       "      <td>NaN</td>\n",
       "      <td>NaN</td>\n",
       "      <td>NaN</td>\n",
       "      <td>NaN</td>\n",
       "    </tr>\n",
       "  </tbody>\n",
       "</table>\n",
       "</div>"
      ],
      "text/plain": [
       "                            Accuracy Precision Recall   F1 ROC AUC   FN   TP  \\\n",
       "Novelty OCSVM RBF                NaN       NaN    NaN  NaN     NaN  NaN  NaN   \n",
       "Novelty OCSVM poly degree 2      NaN       NaN    NaN  NaN     NaN  NaN  NaN   \n",
       "Novelty OCSVM poly degree 3      NaN       NaN    NaN  NaN     NaN  NaN  NaN   \n",
       "\n",
       "                              FP   TN Average_Precision  \n",
       "Novelty OCSVM RBF            NaN  NaN               NaN  \n",
       "Novelty OCSVM poly degree 2  NaN  NaN               NaN  \n",
       "Novelty OCSVM poly degree 3  NaN  NaN               NaN  "
      ]
     },
     "execution_count": 22,
     "metadata": {},
     "output_type": "execute_result"
    }
   ],
   "source": [
    "# Initialize a dictionary to store the variants of the model with different kernel types\n",
    "# Add a prefix Novelty' to indicate that our training method relies on a pure sample of inliers\n",
    "classifier_dict = {\"Novelty OCSVM RBF\":OneClassSVM(nu=outliers_fraction*4, kernel=\"rbf\"), \n",
    "                   \"Novelty OCSVM poly degree 2\":OneClassSVM(nu=outliers_fraction*4, kernel=\"poly\", degree=2),\n",
    "                   \"Novelty OCSVM poly degree 3\":OneClassSVM(nu=outliers_fraction*4, kernel=\"poly\",degree=3)}\n",
    "\n",
    "# nu is a hyperparameter in the model that controls the upper bound of the training error. \n",
    "# nu is usually set empirically (can also be tuned by hyperparameter tunning).\n",
    "\n",
    "# Note: though the actual no. of outliers in the train data is 2.5%, due to the inherent inaccuracies, \n",
    "# it makes sense to intentionally tell the model to look for more outliers than is the case to increase Precision\n",
    "# This of course increases the False Positives but that is a tradeoff worth making when detection of rare diseases is needed\n",
    "\n",
    "# Initialize a dataframe with the columns that we want to store being the various metrics of interest\n",
    "metrics_df = pd.DataFrame(\n",
    "columns = ['Accuracy','Precision','Recall','F1', 'ROC AUC', \n",
    "           'FN','TP','FP','TN', 'Average_Precision'],\n",
    "index = [classifier_name for classifier_name in classifier_dict.keys()])\n",
    "\n",
    "metrics_df\n",
    "# As seen below, the rows are the names of the classifiers and the columns are the metrics of interest\n",
    "# These NaNs will be replaced with the values of the metrics when you train the model and predict on the test data next\n"
   ]
  },
  {
   "cell_type": "markdown",
   "id": "0fe6a220-993a-4c42-933c-5ad47652712c",
   "metadata": {},
   "source": [
    "## 6C. Run the variants of the Isol Forest model with different kernel types and print"
   ]
  },
  {
   "cell_type": "markdown",
   "id": "8d8e3ca4-8a87-4e64-ad33-ddf621308480",
   "metadata": {},
   "source": [
    "#### Run the various classifiers and store the metrics"
   ]
  },
  {
   "cell_type": "code",
   "execution_count": 23,
   "id": "027751d9-c162-4d97-ac3c-947d9b3ca81c",
   "metadata": {},
   "outputs": [
    {
     "name": "stdout",
     "output_type": "stream",
     "text": [
      "***********\n",
      "Novelty OCSVM RBF\n",
      "              precision    recall  f1-score   support\n",
      "\n",
      "     inliers       0.99      0.92      0.96       736\n",
      "    outliers       0.19      0.74      0.31        19\n",
      "\n",
      "    accuracy                           0.92       755\n",
      "   macro avg       0.59      0.83      0.63       755\n",
      "weighted avg       0.97      0.92      0.94       755\n",
      "\n",
      "Counter({'TN': 678, 'FP': 58, 'TP': 14, 'FN': 5, 'ROC AUC': 0.9489, 'Accuracy': 0.9166, 'Recall': 0.829, 'F1': 0.6316, 'Precision': 0.5936, 'Average_Precision': 0.434})\n",
      "[[678  58]\n",
      " [  5  14]]\n",
      "***********\n",
      "Novelty OCSVM poly degree 2\n",
      "              precision    recall  f1-score   support\n",
      "\n",
      "     inliers       0.98      0.91      0.94       736\n",
      "    outliers       0.11      0.42      0.17        19\n",
      "\n",
      "    accuracy                           0.90       755\n",
      "   macro avg       0.54      0.66      0.56       755\n",
      "weighted avg       0.96      0.90      0.92       755\n",
      "\n",
      "Counter({'TN': 668, 'FP': 68, 'FN': 11, 'TP': 8, 'Accuracy': 0.8954, 'ROC AUC': 0.7958, 'Recall': 0.6643, 'F1': 0.5563, 'Precision': 0.5445, 'Average_Precision': 0.22})\n",
      "[[668  68]\n",
      " [ 11   8]]\n",
      "***********\n",
      "Novelty OCSVM poly degree 3\n",
      "              precision    recall  f1-score   support\n",
      "\n",
      "     inliers       0.98      0.91      0.94       736\n",
      "    outliers       0.11      0.42      0.17        19\n",
      "\n",
      "    accuracy                           0.90       755\n",
      "   macro avg       0.54      0.66      0.56       755\n",
      "weighted avg       0.96      0.90      0.92       755\n",
      "\n",
      "Counter({'TN': 668, 'FP': 68, 'FN': 11, 'TP': 8, 'Accuracy': 0.8954, 'ROC AUC': 0.7944, 'Recall': 0.6643, 'F1': 0.5563, 'Precision': 0.5445, 'Average_Precision': 0.219})\n",
      "[[668  68]\n",
      " [ 11   8]]\n"
     ]
    }
   ],
   "source": [
    "for classifier_name, classifier in classifier_dict.items(): \n",
    "    \n",
    "    # Replace the X_train with train_X_inliers for one-class novelty training\n",
    "    classifier.fit(train_X_inliers)\n",
    "    print('***********') \n",
    "    print(classifier_name) \n",
    "    metrics_dict, confusion_matrix_object = custom_classification_metrics_function(X_test_dfThyroid, y_test_dfThyroid, labels, classifier)\n",
    "    print(metrics_dict)\n",
    "    print(confusion_matrix_object)\n",
    "    \n",
    "    # store the metrics as a single row in the dataframe against each classifier name\n",
    "    metrics_df.loc[classifier_name] = metrics_dict"
   ]
  },
  {
   "cell_type": "markdown",
   "id": "a16947b3-c752-4239-be03-713c3bedf86b",
   "metadata": {},
   "source": [
    "## 7C. Describe Performance"
   ]
  },
  {
   "cell_type": "code",
   "execution_count": 24,
   "id": "f270460e-f9c4-4cc0-9b6c-827f4f4a8701",
   "metadata": {},
   "outputs": [
    {
     "data": {
      "text/html": [
       "<div>\n",
       "<style scoped>\n",
       "    .dataframe tbody tr th:only-of-type {\n",
       "        vertical-align: middle;\n",
       "    }\n",
       "\n",
       "    .dataframe tbody tr th {\n",
       "        vertical-align: top;\n",
       "    }\n",
       "\n",
       "    .dataframe thead th {\n",
       "        text-align: right;\n",
       "    }\n",
       "</style>\n",
       "<table border=\"1\" class=\"dataframe\">\n",
       "  <thead>\n",
       "    <tr style=\"text-align: right;\">\n",
       "      <th></th>\n",
       "      <th>Accuracy</th>\n",
       "      <th>Precision</th>\n",
       "      <th>Recall</th>\n",
       "      <th>F1</th>\n",
       "      <th>ROC AUC</th>\n",
       "      <th>FN</th>\n",
       "      <th>TP</th>\n",
       "      <th>FP</th>\n",
       "      <th>TN</th>\n",
       "      <th>Average_Precision</th>\n",
       "    </tr>\n",
       "  </thead>\n",
       "  <tbody>\n",
       "    <tr>\n",
       "      <th>Novelty OCSVM RBF</th>\n",
       "      <td>0.9166</td>\n",
       "      <td>0.5936</td>\n",
       "      <td>0.829</td>\n",
       "      <td>0.6316</td>\n",
       "      <td>0.9489</td>\n",
       "      <td>5.0</td>\n",
       "      <td>14.0</td>\n",
       "      <td>58.0</td>\n",
       "      <td>678.0</td>\n",
       "      <td>0.434</td>\n",
       "    </tr>\n",
       "    <tr>\n",
       "      <th>Novelty OCSVM poly degree 2</th>\n",
       "      <td>0.8954</td>\n",
       "      <td>0.5445</td>\n",
       "      <td>0.6643</td>\n",
       "      <td>0.5563</td>\n",
       "      <td>0.7958</td>\n",
       "      <td>11.0</td>\n",
       "      <td>8.0</td>\n",
       "      <td>68.0</td>\n",
       "      <td>668.0</td>\n",
       "      <td>0.22</td>\n",
       "    </tr>\n",
       "    <tr>\n",
       "      <th>Novelty OCSVM poly degree 3</th>\n",
       "      <td>0.8954</td>\n",
       "      <td>0.5445</td>\n",
       "      <td>0.6643</td>\n",
       "      <td>0.5563</td>\n",
       "      <td>0.7944</td>\n",
       "      <td>11.0</td>\n",
       "      <td>8.0</td>\n",
       "      <td>68.0</td>\n",
       "      <td>668.0</td>\n",
       "      <td>0.219</td>\n",
       "    </tr>\n",
       "  </tbody>\n",
       "</table>\n",
       "</div>"
      ],
      "text/plain": [
       "                            Accuracy Precision  Recall      F1 ROC AUC    FN  \\\n",
       "Novelty OCSVM RBF             0.9166    0.5936   0.829  0.6316  0.9489   5.0   \n",
       "Novelty OCSVM poly degree 2   0.8954    0.5445  0.6643  0.5563  0.7958  11.0   \n",
       "Novelty OCSVM poly degree 3   0.8954    0.5445  0.6643  0.5563  0.7944  11.0   \n",
       "\n",
       "                               TP    FP     TN Average_Precision  \n",
       "Novelty OCSVM RBF            14.0  58.0  678.0             0.434  \n",
       "Novelty OCSVM poly degree 2   8.0  68.0  668.0              0.22  \n",
       "Novelty OCSVM poly degree 3   8.0  68.0  668.0             0.219  "
      ]
     },
     "execution_count": 24,
     "metadata": {},
     "output_type": "execute_result"
    }
   ],
   "source": [
    "metrics_df\n",
    "# Note that the Precision, Recall, F1 score are macro averaged metrics"
   ]
  },
  {
   "cell_type": "markdown",
   "id": "ea1cdb88-d44f-4bb2-a2b3-0d41e6f9378b",
   "metadata": {},
   "source": [
    "#### And set up dataframe to accumulate metrics from the models as they are added"
   ]
  },
  {
   "cell_type": "code",
   "execution_count": 25,
   "id": "4f83b26b-2536-4110-9dd3-d48cccdaa66e",
   "metadata": {},
   "outputs": [
    {
     "data": {
      "text/html": [
       "<div>\n",
       "<style scoped>\n",
       "    .dataframe tbody tr th:only-of-type {\n",
       "        vertical-align: middle;\n",
       "    }\n",
       "\n",
       "    .dataframe tbody tr th {\n",
       "        vertical-align: top;\n",
       "    }\n",
       "\n",
       "    .dataframe thead th {\n",
       "        text-align: right;\n",
       "    }\n",
       "</style>\n",
       "<table border=\"1\" class=\"dataframe\">\n",
       "  <thead>\n",
       "    <tr style=\"text-align: right;\">\n",
       "      <th></th>\n",
       "      <th>Accuracy</th>\n",
       "      <th>Precision</th>\n",
       "      <th>Recall</th>\n",
       "      <th>F1</th>\n",
       "      <th>ROC AUC</th>\n",
       "      <th>FN</th>\n",
       "      <th>TP</th>\n",
       "      <th>FP</th>\n",
       "      <th>TN</th>\n",
       "      <th>Average_Precision</th>\n",
       "    </tr>\n",
       "  </thead>\n",
       "  <tbody>\n",
       "    <tr>\n",
       "      <th>Novelty OCSVM RBF</th>\n",
       "      <td>0.9166</td>\n",
       "      <td>0.5936</td>\n",
       "      <td>0.829</td>\n",
       "      <td>0.6316</td>\n",
       "      <td>0.9489</td>\n",
       "      <td>5.0</td>\n",
       "      <td>14.0</td>\n",
       "      <td>58.0</td>\n",
       "      <td>678.0</td>\n",
       "      <td>0.434</td>\n",
       "    </tr>\n",
       "    <tr>\n",
       "      <th>Novelty OCSVM poly degree 2</th>\n",
       "      <td>0.8954</td>\n",
       "      <td>0.5445</td>\n",
       "      <td>0.6643</td>\n",
       "      <td>0.5563</td>\n",
       "      <td>0.7958</td>\n",
       "      <td>11.0</td>\n",
       "      <td>8.0</td>\n",
       "      <td>68.0</td>\n",
       "      <td>668.0</td>\n",
       "      <td>0.22</td>\n",
       "    </tr>\n",
       "    <tr>\n",
       "      <th>Novelty OCSVM poly degree 3</th>\n",
       "      <td>0.8954</td>\n",
       "      <td>0.5445</td>\n",
       "      <td>0.6643</td>\n",
       "      <td>0.5563</td>\n",
       "      <td>0.7944</td>\n",
       "      <td>11.0</td>\n",
       "      <td>8.0</td>\n",
       "      <td>68.0</td>\n",
       "      <td>668.0</td>\n",
       "      <td>0.219</td>\n",
       "    </tr>\n",
       "  </tbody>\n",
       "</table>\n",
       "</div>"
      ],
      "text/plain": [
       "                            Accuracy Precision  Recall      F1 ROC AUC    FN  \\\n",
       "Novelty OCSVM RBF             0.9166    0.5936   0.829  0.6316  0.9489   5.0   \n",
       "Novelty OCSVM poly degree 2   0.8954    0.5445  0.6643  0.5563  0.7958  11.0   \n",
       "Novelty OCSVM poly degree 3   0.8954    0.5445  0.6643  0.5563  0.7944  11.0   \n",
       "\n",
       "                               TP    FP     TN Average_Precision  \n",
       "Novelty OCSVM RBF            14.0  58.0  678.0             0.434  \n",
       "Novelty OCSVM poly degree 2   8.0  68.0  668.0              0.22  \n",
       "Novelty OCSVM poly degree 3   8.0  68.0  668.0             0.219  "
      ]
     },
     "execution_count": 25,
     "metadata": {},
     "output_type": "execute_result"
    }
   ],
   "source": [
    "cumulative_metrics_df = metrics_df.copy()\n",
    "cumulative_metrics_df"
   ]
  },
  {
   "cell_type": "code",
   "execution_count": null,
   "id": "3e0961e6-fcf2-4db7-b57a-dae640d76123",
   "metadata": {},
   "outputs": [],
   "source": []
  },
  {
   "cell_type": "markdown",
   "id": "071ad169-eadf-4992-95b0-923e0d1fb507",
   "metadata": {},
   "source": [
    "### 8C. Plot Metrics and Confusion Matrix"
   ]
  },
  {
   "cell_type": "code",
   "execution_count": 26,
   "id": "36be588c-576b-406e-af75-253c03e933ba",
   "metadata": {},
   "outputs": [
    {
     "data": {
      "image/png": "[encoded data removed]",
      "text/plain": [
       "<Figure size 1000x600 with 1 Axes>"
      ]
     },
     "metadata": {},
     "output_type": "display_data"
    }
   ],
   "source": [
    "# Plot the metrics\n",
    "metrics_to_plot = ['Accuracy', 'Precision', 'Recall', 'F1']\n",
    "metrics_df[metrics_to_plot].plot(kind='bar', figsize=(10, 6))\n",
    "plt.title('Model Performance Metrics')\n",
    "plt.ylabel('Score')\n",
    "plt.xticks(rotation=45)\n",
    "plt.legend(loc='lower right')\n",
    "plt.show()"
   ]
  },
  {
   "cell_type": "markdown",
   "id": "e7c94990-964e-4857-8a21-735f0b1e011a",
   "metadata": {},
   "source": [
    "## The Confusion Matrix values are not plotted correctly as the order in which they are stored does not match convention and only the first plot is given"
   ]
  },
  {
   "cell_type": "code",
   "execution_count": 27,
   "id": "b1bda948-42d9-4343-ba04-1b9e850c9822",
   "metadata": {},
   "outputs": [],
   "source": [
    "def plot_confusion_matrix(conf_matr, title='Confusion Matrix', labels=['Inliers', 'Outliers']):\n",
    "    plt.figure(figsize=(8, 6))\n",
    "    sns.heatmap(conf_matr, annot=True, fmt=\"d\", cmap='Blues', xticklabels=labels, yticklabels=labels)\n",
    "    plt.title(title)\n",
    "    plt.ylabel('True Label')\n",
    "    plt.xlabel('Predicted Label')\n",
    "    plt.show()"
   ]
  },
  {
   "cell_type": "code",
   "execution_count": 28,
   "id": "07e9481b-4b27-4c45-95ad-876fbb47789a",
   "metadata": {},
   "outputs": [
    {
     "data": {
      "image/png": "[encoded data removed]",
      "text/plain": [
       "<Figure size 800x600 with 2 Axes>"
      ]
     },
     "metadata": {},
     "output_type": "display_data"
    }
   ],
   "source": [
    "# Call the plot function for the CM\n",
    "plot_confusion_matrix(confusion_matrix_object, title='Confusion Matrix for OneClassSVM')"
   ]
  },
  {
   "cell_type": "code",
   "execution_count": null,
   "id": "5da6bf92-1e5d-4790-8d7e-40bdb2c15b11",
   "metadata": {},
   "outputs": [],
   "source": []
  },
  {
   "cell_type": "code",
   "execution_count": null,
   "id": "7e69d715-3d38-4f2f-a433-3f778cf4a30f",
   "metadata": {},
   "outputs": [],
   "source": []
  },
  {
   "cell_type": "code",
   "execution_count": null,
   "id": "fbf9d291-f868-4d7d-813e-dc1cbf9cd495",
   "metadata": {},
   "outputs": [],
   "source": []
  },
  {
   "cell_type": "markdown",
   "id": "6501a243-442c-48d2-957f-1a7e049e7f7e",
   "metadata": {},
   "source": [
    "## ============== Chapter 3 - Robust Covariance ================="
   ]
  },
  {
   "cell_type": "markdown",
   "id": "4b5e022b-14ae-4f98-ba63-86b4986713c5",
   "metadata": {},
   "source": [
    "### 5B. Initialise"
   ]
  },
  {
   "cell_type": "markdown",
   "id": "36bc3f8d-9689-4854-aeae-c4cf0a45ed53",
   "metadata": {},
   "source": [
    "#### Placeholder - custom_classification_metrics_function has laready been defined"
   ]
  },
  {
   "cell_type": "markdown",
   "id": "5cb15855-529c-477c-979a-58abba38c9aa",
   "metadata": {},
   "source": [
    "#### Robust Covariance Dictionary Follows"
   ]
  },
  {
   "cell_type": "code",
   "execution_count": 29,
   "id": "f2528e78-ddbf-49f1-b978-83847af4295b",
   "metadata": {},
   "outputs": [
    {
     "data": {
      "text/html": [
       "<div>\n",
       "<style scoped>\n",
       "    .dataframe tbody tr th:only-of-type {\n",
       "        vertical-align: middle;\n",
       "    }\n",
       "\n",
       "    .dataframe tbody tr th {\n",
       "        vertical-align: top;\n",
       "    }\n",
       "\n",
       "    .dataframe thead th {\n",
       "        text-align: right;\n",
       "    }\n",
       "</style>\n",
       "<table border=\"1\" class=\"dataframe\">\n",
       "  <thead>\n",
       "    <tr style=\"text-align: right;\">\n",
       "      <th></th>\n",
       "      <th>Accuracy</th>\n",
       "      <th>Precision</th>\n",
       "      <th>Recall</th>\n",
       "      <th>F1</th>\n",
       "      <th>ROC AUC</th>\n",
       "      <th>FN</th>\n",
       "      <th>TP</th>\n",
       "      <th>FP</th>\n",
       "      <th>TN</th>\n",
       "      <th>Average_Precision</th>\n",
       "    </tr>\n",
       "  </thead>\n",
       "  <tbody>\n",
       "    <tr>\n",
       "      <th>Robust covariance outliers 4x</th>\n",
       "      <td>NaN</td>\n",
       "      <td>NaN</td>\n",
       "      <td>NaN</td>\n",
       "      <td>NaN</td>\n",
       "      <td>NaN</td>\n",
       "      <td>NaN</td>\n",
       "      <td>NaN</td>\n",
       "      <td>NaN</td>\n",
       "      <td>NaN</td>\n",
       "      <td>NaN</td>\n",
       "    </tr>\n",
       "    <tr>\n",
       "      <th>Robust covariance outliers 2x</th>\n",
       "      <td>NaN</td>\n",
       "      <td>NaN</td>\n",
       "      <td>NaN</td>\n",
       "      <td>NaN</td>\n",
       "      <td>NaN</td>\n",
       "      <td>NaN</td>\n",
       "      <td>NaN</td>\n",
       "      <td>NaN</td>\n",
       "      <td>NaN</td>\n",
       "      <td>NaN</td>\n",
       "    </tr>\n",
       "    <tr>\n",
       "      <th>Robust covariance outliers 1x</th>\n",
       "      <td>NaN</td>\n",
       "      <td>NaN</td>\n",
       "      <td>NaN</td>\n",
       "      <td>NaN</td>\n",
       "      <td>NaN</td>\n",
       "      <td>NaN</td>\n",
       "      <td>NaN</td>\n",
       "      <td>NaN</td>\n",
       "      <td>NaN</td>\n",
       "      <td>NaN</td>\n",
       "    </tr>\n",
       "  </tbody>\n",
       "</table>\n",
       "</div>"
      ],
      "text/plain": [
       "                              Accuracy Precision Recall   F1 ROC AUC   FN  \\\n",
       "Robust covariance outliers 4x      NaN       NaN    NaN  NaN     NaN  NaN   \n",
       "Robust covariance outliers 2x      NaN       NaN    NaN  NaN     NaN  NaN   \n",
       "Robust covariance outliers 1x      NaN       NaN    NaN  NaN     NaN  NaN   \n",
       "\n",
       "                                TP   FP   TN Average_Precision  \n",
       "Robust covariance outliers 4x  NaN  NaN  NaN               NaN  \n",
       "Robust covariance outliers 2x  NaN  NaN  NaN               NaN  \n",
       "Robust covariance outliers 1x  NaN  NaN  NaN               NaN  "
      ]
     },
     "execution_count": 29,
     "metadata": {},
     "output_type": "execute_result"
    }
   ],
   "source": [
    "classifier_dict ={\n",
    "    \"Robust covariance outliers 4x\": EllipticEnvelope(contamination=outliers_fraction*4),\n",
    "    \"Robust covariance outliers 2x\": EllipticEnvelope(contamination=outliers_fraction*2),\n",
    "    \"Robust covariance outliers 1x\": EllipticEnvelope(contamination=outliers_fraction)\n",
    "}\n",
    "\n",
    "metrics_df = pd.DataFrame(\n",
    "columns = ['Accuracy','Precision','Recall','F1', 'ROC AUC', \n",
    "           'FN','TP','FP','TN', 'Average_Precision'],\n",
    "index = [classifier_name for classifier_name in classifier_dict.keys()])\n",
    "\n",
    "metrics_df"
   ]
  },
  {
   "cell_type": "markdown",
   "id": "36e695ae-ecea-49a8-8b77-c0cf6502c138",
   "metadata": {},
   "source": [
    "## 6B. Run the variants of the model with different options and print out"
   ]
  },
  {
   "cell_type": "markdown",
   "id": "9f258a3a-e9e8-4b0a-99c3-67d1cf94df32",
   "metadata": {},
   "source": [
    "#### Run the various classifiers and store the metrics"
   ]
  },
  {
   "cell_type": "code",
   "execution_count": 30,
   "id": "26110b4f-c2be-457f-bf35-32abd7a8fcca",
   "metadata": {},
   "outputs": [
    {
     "name": "stdout",
     "output_type": "stream",
     "text": [
      "***********\n",
      "Robust covariance outliers 4x\n",
      "              precision    recall  f1-score   support\n",
      "\n",
      "     inliers       1.00      0.91      0.95       736\n",
      "    outliers       0.22      0.95      0.35        19\n",
      "\n",
      "    accuracy                           0.91       755\n",
      "   macro avg       0.61      0.93      0.65       755\n",
      "weighted avg       0.98      0.91      0.94       755\n",
      "\n",
      "Counter({'TN': 671, 'FP': 65, 'TP': 18, 'FN': 1, 'ROC AUC': 0.9858, 'Recall': 0.9295, 'Accuracy': 0.9126, 'Average_Precision': 0.7728, 'F1': 0.653, 'Precision': 0.6077})\n",
      "***********\n",
      "Robust covariance outliers 2x\n",
      "              precision    recall  f1-score   support\n",
      "\n",
      "     inliers       1.00      0.96      0.98       736\n",
      "    outliers       0.37      0.95      0.53        19\n",
      "\n",
      "    accuracy                           0.96       755\n",
      "   macro avg       0.68      0.95      0.75       755\n",
      "weighted avg       0.98      0.96      0.97       755\n",
      "\n",
      "Counter({'TN': 705, 'FP': 31, 'TP': 18, 'FN': 1, 'ROC AUC': 0.9859, 'Accuracy': 0.9576, 'Recall': 0.9526, 'Average_Precision': 0.7738, 'F1': 0.7536, 'Precision': 0.683})\n",
      "***********\n",
      "Robust covariance outliers 1x\n",
      "              precision    recall  f1-score   support\n",
      "\n",
      "     inliers       0.99      0.99      0.99       736\n",
      "    outliers       0.60      0.79      0.68        19\n",
      "\n",
      "    accuracy                           0.98       755\n",
      "   macro avg       0.80      0.89      0.84       755\n",
      "weighted avg       0.98      0.98      0.98       755\n",
      "\n",
      "Counter({'TN': 726, 'TP': 15, 'FP': 10, 'FN': 4, 'ROC AUC': 0.9858, 'Accuracy': 0.9815, 'Recall': 0.8879, 'F1': 0.8361, 'Precision': 0.7973, 'Average_Precision': 0.7728})\n"
     ]
    }
   ],
   "source": [
    "for classifier_name, classifier in classifier_dict.items(): \n",
    "    classifier.fit(train_X_inliers)\n",
    "    print('***********') \n",
    "    print(classifier_name) \n",
    "    metrics_dict, confusion_matrix_object = custom_classification_metrics_function(X_test_dfThyroid, y_test_dfThyroid, labels, classifier)\n",
    "    print(metrics_dict)\n",
    "    \n",
    "    # store the metrics as a single row in the dataframe against each classifier name\n",
    "    metrics_df.loc[classifier_name] = metrics_dict"
   ]
  },
  {
   "cell_type": "markdown",
   "id": "44b51e55-438a-4460-b060-2b4635bf012f",
   "metadata": {},
   "source": [
    "## 7B. Describe Performance "
   ]
  },
  {
   "cell_type": "code",
   "execution_count": 31,
   "id": "96fd5933-36ab-434d-a256-fed8bc7c0f95",
   "metadata": {},
   "outputs": [
    {
     "data": {
      "text/html": [
       "<div>\n",
       "<style scoped>\n",
       "    .dataframe tbody tr th:only-of-type {\n",
       "        vertical-align: middle;\n",
       "    }\n",
       "\n",
       "    .dataframe tbody tr th {\n",
       "        vertical-align: top;\n",
       "    }\n",
       "\n",
       "    .dataframe thead th {\n",
       "        text-align: right;\n",
       "    }\n",
       "</style>\n",
       "<table border=\"1\" class=\"dataframe\">\n",
       "  <thead>\n",
       "    <tr style=\"text-align: right;\">\n",
       "      <th></th>\n",
       "      <th>Accuracy</th>\n",
       "      <th>Precision</th>\n",
       "      <th>Recall</th>\n",
       "      <th>F1</th>\n",
       "      <th>ROC AUC</th>\n",
       "      <th>FN</th>\n",
       "      <th>TP</th>\n",
       "      <th>FP</th>\n",
       "      <th>TN</th>\n",
       "      <th>Average_Precision</th>\n",
       "    </tr>\n",
       "  </thead>\n",
       "  <tbody>\n",
       "    <tr>\n",
       "      <th>Robust covariance outliers 4x</th>\n",
       "      <td>0.9126</td>\n",
       "      <td>0.6077</td>\n",
       "      <td>0.9295</td>\n",
       "      <td>0.653</td>\n",
       "      <td>0.9858</td>\n",
       "      <td>1.0</td>\n",
       "      <td>18.0</td>\n",
       "      <td>65.0</td>\n",
       "      <td>671.0</td>\n",
       "      <td>0.7728</td>\n",
       "    </tr>\n",
       "    <tr>\n",
       "      <th>Robust covariance outliers 2x</th>\n",
       "      <td>0.9576</td>\n",
       "      <td>0.683</td>\n",
       "      <td>0.9526</td>\n",
       "      <td>0.7536</td>\n",
       "      <td>0.9859</td>\n",
       "      <td>1.0</td>\n",
       "      <td>18.0</td>\n",
       "      <td>31.0</td>\n",
       "      <td>705.0</td>\n",
       "      <td>0.7738</td>\n",
       "    </tr>\n",
       "    <tr>\n",
       "      <th>Robust covariance outliers 1x</th>\n",
       "      <td>0.9815</td>\n",
       "      <td>0.7973</td>\n",
       "      <td>0.8879</td>\n",
       "      <td>0.8361</td>\n",
       "      <td>0.9858</td>\n",
       "      <td>4.0</td>\n",
       "      <td>15.0</td>\n",
       "      <td>10.0</td>\n",
       "      <td>726.0</td>\n",
       "      <td>0.7728</td>\n",
       "    </tr>\n",
       "  </tbody>\n",
       "</table>\n",
       "</div>"
      ],
      "text/plain": [
       "                              Accuracy Precision  Recall      F1 ROC AUC   FN  \\\n",
       "Robust covariance outliers 4x   0.9126    0.6077  0.9295   0.653  0.9858  1.0   \n",
       "Robust covariance outliers 2x   0.9576     0.683  0.9526  0.7536  0.9859  1.0   \n",
       "Robust covariance outliers 1x   0.9815    0.7973  0.8879  0.8361  0.9858  4.0   \n",
       "\n",
       "                                 TP    FP     TN Average_Precision  \n",
       "Robust covariance outliers 4x  18.0  65.0  671.0            0.7728  \n",
       "Robust covariance outliers 2x  18.0  31.0  705.0            0.7738  \n",
       "Robust covariance outliers 1x  15.0  10.0  726.0            0.7728  "
      ]
     },
     "execution_count": 31,
     "metadata": {},
     "output_type": "execute_result"
    }
   ],
   "source": [
    "metrics_df"
   ]
  },
  {
   "cell_type": "markdown",
   "id": "124b74f9-f12e-403a-bca1-bbeabcad1e0c",
   "metadata": {},
   "source": [
    "####  The Recall performance of the Robust Covariance with contamination factor being 4x the outliers fraction has slightly better Recall than the one with 2x\n",
    "#### Overall, Robust Covariance is significantly better than OCSVM. "
   ]
  },
  {
   "cell_type": "markdown",
   "id": "5128631e-c1ca-4a83-8ec8-48f5afdeff7b",
   "metadata": {},
   "source": [
    "## 8B. Plot Metrics and Confusion Matrix"
   ]
  },
  {
   "cell_type": "code",
   "execution_count": 32,
   "id": "1e3cceb3-1255-40fb-8963-b0165562eb0e",
   "metadata": {},
   "outputs": [
    {
     "data": {
      "text/html": [
       "<div>\n",
       "<style scoped>\n",
       "    .dataframe tbody tr th:only-of-type {\n",
       "        vertical-align: middle;\n",
       "    }\n",
       "\n",
       "    .dataframe tbody tr th {\n",
       "        vertical-align: top;\n",
       "    }\n",
       "\n",
       "    .dataframe thead th {\n",
       "        text-align: right;\n",
       "    }\n",
       "</style>\n",
       "<table border=\"1\" class=\"dataframe\">\n",
       "  <thead>\n",
       "    <tr style=\"text-align: right;\">\n",
       "      <th></th>\n",
       "      <th>Accuracy</th>\n",
       "      <th>Precision</th>\n",
       "      <th>Recall</th>\n",
       "      <th>F1</th>\n",
       "      <th>ROC AUC</th>\n",
       "      <th>FN</th>\n",
       "      <th>TP</th>\n",
       "      <th>FP</th>\n",
       "      <th>TN</th>\n",
       "      <th>Average_Precision</th>\n",
       "    </tr>\n",
       "  </thead>\n",
       "  <tbody>\n",
       "    <tr>\n",
       "      <th>Novelty OCSVM RBF</th>\n",
       "      <td>0.9166</td>\n",
       "      <td>0.5936</td>\n",
       "      <td>0.829</td>\n",
       "      <td>0.6316</td>\n",
       "      <td>0.9489</td>\n",
       "      <td>5.0</td>\n",
       "      <td>14.0</td>\n",
       "      <td>58.0</td>\n",
       "      <td>678.0</td>\n",
       "      <td>0.434</td>\n",
       "    </tr>\n",
       "    <tr>\n",
       "      <th>Novelty OCSVM poly degree 2</th>\n",
       "      <td>0.8954</td>\n",
       "      <td>0.5445</td>\n",
       "      <td>0.6643</td>\n",
       "      <td>0.5563</td>\n",
       "      <td>0.7958</td>\n",
       "      <td>11.0</td>\n",
       "      <td>8.0</td>\n",
       "      <td>68.0</td>\n",
       "      <td>668.0</td>\n",
       "      <td>0.22</td>\n",
       "    </tr>\n",
       "    <tr>\n",
       "      <th>Novelty OCSVM poly degree 3</th>\n",
       "      <td>0.8954</td>\n",
       "      <td>0.5445</td>\n",
       "      <td>0.6643</td>\n",
       "      <td>0.5563</td>\n",
       "      <td>0.7944</td>\n",
       "      <td>11.0</td>\n",
       "      <td>8.0</td>\n",
       "      <td>68.0</td>\n",
       "      <td>668.0</td>\n",
       "      <td>0.219</td>\n",
       "    </tr>\n",
       "    <tr>\n",
       "      <th>Robust covariance outliers 4x</th>\n",
       "      <td>0.9126</td>\n",
       "      <td>0.6077</td>\n",
       "      <td>0.9295</td>\n",
       "      <td>0.653</td>\n",
       "      <td>0.9858</td>\n",
       "      <td>1.0</td>\n",
       "      <td>18.0</td>\n",
       "      <td>65.0</td>\n",
       "      <td>671.0</td>\n",
       "      <td>0.7728</td>\n",
       "    </tr>\n",
       "    <tr>\n",
       "      <th>Robust covariance outliers 2x</th>\n",
       "      <td>0.9576</td>\n",
       "      <td>0.683</td>\n",
       "      <td>0.9526</td>\n",
       "      <td>0.7536</td>\n",
       "      <td>0.9859</td>\n",
       "      <td>1.0</td>\n",
       "      <td>18.0</td>\n",
       "      <td>31.0</td>\n",
       "      <td>705.0</td>\n",
       "      <td>0.7738</td>\n",
       "    </tr>\n",
       "    <tr>\n",
       "      <th>Robust covariance outliers 1x</th>\n",
       "      <td>0.9815</td>\n",
       "      <td>0.7973</td>\n",
       "      <td>0.8879</td>\n",
       "      <td>0.8361</td>\n",
       "      <td>0.9858</td>\n",
       "      <td>4.0</td>\n",
       "      <td>15.0</td>\n",
       "      <td>10.0</td>\n",
       "      <td>726.0</td>\n",
       "      <td>0.7728</td>\n",
       "    </tr>\n",
       "  </tbody>\n",
       "</table>\n",
       "</div>"
      ],
      "text/plain": [
       "                              Accuracy Precision  Recall      F1 ROC AUC  \\\n",
       "Novelty OCSVM RBF               0.9166    0.5936   0.829  0.6316  0.9489   \n",
       "Novelty OCSVM poly degree 2     0.8954    0.5445  0.6643  0.5563  0.7958   \n",
       "Novelty OCSVM poly degree 3     0.8954    0.5445  0.6643  0.5563  0.7944   \n",
       "Robust covariance outliers 4x   0.9126    0.6077  0.9295   0.653  0.9858   \n",
       "Robust covariance outliers 2x   0.9576     0.683  0.9526  0.7536  0.9859   \n",
       "Robust covariance outliers 1x   0.9815    0.7973  0.8879  0.8361  0.9858   \n",
       "\n",
       "                                 FN    TP    FP     TN Average_Precision  \n",
       "Novelty OCSVM RBF               5.0  14.0  58.0  678.0             0.434  \n",
       "Novelty OCSVM poly degree 2    11.0   8.0  68.0  668.0              0.22  \n",
       "Novelty OCSVM poly degree 3    11.0   8.0  68.0  668.0             0.219  \n",
       "Robust covariance outliers 4x   1.0  18.0  65.0  671.0            0.7728  \n",
       "Robust covariance outliers 2x   1.0  18.0  31.0  705.0            0.7738  \n",
       "Robust covariance outliers 1x   4.0  15.0  10.0  726.0            0.7728  "
      ]
     },
     "execution_count": 32,
     "metadata": {},
     "output_type": "execute_result"
    }
   ],
   "source": [
    "# Do an outer join of the new metrics_df with the existing 0nes from before \n",
    "cumulative_metrics_df = pd.concat([cumulative_metrics_df, metrics_df], axis = 0) \n",
    "cumulative_metrics_df"
   ]
  },
  {
   "cell_type": "code",
   "execution_count": null,
   "id": "499d283d-c207-42ef-ae09-ec04a614f689",
   "metadata": {},
   "outputs": [],
   "source": []
  },
  {
   "cell_type": "code",
   "execution_count": 33,
   "id": "49e419fa-6665-4168-999f-745ec1114bd0",
   "metadata": {},
   "outputs": [
    {
     "data": {
      "image/png": "[encoded data removed]",
      "text/plain": [
       "<Figure size 1000x600 with 1 Axes>"
      ]
     },
     "metadata": {},
     "output_type": "display_data"
    }
   ],
   "source": [
    "# Plot the metrics\n",
    "metrics_to_plot = ['Accuracy', 'Precision', 'Recall', 'F1']\n",
    "metrics_df[metrics_to_plot].plot(kind='bar', figsize=(10, 6))\n",
    "plt.title('Model Performance Metrics')\n",
    "plt.ylabel('Score')\n",
    "plt.xticks(rotation=45)\n",
    "plt.legend(loc='lower right')\n",
    "plt.show()"
   ]
  },
  {
   "cell_type": "markdown",
   "id": "b2be4f9b-8d22-4617-aa52-34b144a04d46",
   "metadata": {},
   "source": [
    "## The Confusion Matrix values are not plotted correctly as the order in which they are stored does not match convention and only the first plot is given"
   ]
  },
  {
   "cell_type": "code",
   "execution_count": 34,
   "id": "aac15736-ea14-467e-9a7f-7ae62eb2d3f3",
   "metadata": {},
   "outputs": [],
   "source": [
    "def plot_confusion_matrix(conf_matr, title='Confusion Matrix', labels=['Inliers', 'Outliers']):\n",
    "    plt.figure(figsize=(8, 6))\n",
    "    sns.heatmap(conf_matr, annot=True, fmt=\"d\", cmap='Blues', xticklabels=labels, yticklabels=labels)\n",
    "    plt.title(title)\n",
    "    plt.ylabel('True Label')\n",
    "    plt.xlabel('Predicted Label')\n",
    "    plt.show()"
   ]
  },
  {
   "cell_type": "code",
   "execution_count": 35,
   "id": "4348281e-c6de-4f49-9b98-c2089634c3e7",
   "metadata": {},
   "outputs": [],
   "source": [
    "# NOTE: Confusion Matrix Convention:\n",
    "# Top Row:\n",
    "# TP: Correctly predicted positive instances.\n",
    "# FN: Incorrectly predicted negative instances.\n",
    "\n",
    "# Bottom Row:\n",
    "# FP: Incorrectly predicted positive instances.\n",
    "# TN: Correctly predicted negative instances."
   ]
  },
  {
   "cell_type": "code",
   "execution_count": 36,
   "id": "251ff6c4-680c-4567-b4f6-7d8198f887e4",
   "metadata": {},
   "outputs": [
    {
     "data": {
      "image/png": "[encoded data removed]",
      "text/plain": [
       "<Figure size 800x600 with 2 Axes>"
      ]
     },
     "metadata": {},
     "output_type": "display_data"
    }
   ],
   "source": [
    "# Call the plot function for the CM\n",
    "plot_confusion_matrix(confusion_matrix_object, title='Confusion Matrix for Robust Covariane Outliers 4x')"
   ]
  },
  {
   "cell_type": "markdown",
   "id": "babc4e9b-5893-42bd-83c0-24a910c8f62b",
   "metadata": {},
   "source": [
    "## ============== Chapter 4 - Isolation Forest ================="
   ]
  },
  {
   "cell_type": "markdown",
   "id": "af3810fb-cffc-462b-9e43-672b920ba5d2",
   "metadata": {},
   "source": [
    "### 5C. Initialise"
   ]
  },
  {
   "cell_type": "markdown",
   "id": "3a10b343-7590-4109-a0c9-23aa85e52010",
   "metadata": {},
   "source": [
    "#### Placeholder - custom_classification_metrics_function has already been defined"
   ]
  },
  {
   "cell_type": "markdown",
   "id": "625bbd42-07e9-4949-ad52-c79cf83e5988",
   "metadata": {},
   "source": [
    "#### Isolation Forest Dictionary Follows"
   ]
  },
  {
   "cell_type": "code",
   "execution_count": 37,
   "id": "b4fffb37-e807-47e5-ace3-d47d8e4e20fa",
   "metadata": {},
   "outputs": [
    {
     "data": {
      "text/html": [
       "<div>\n",
       "<style scoped>\n",
       "    .dataframe tbody tr th:only-of-type {\n",
       "        vertical-align: middle;\n",
       "    }\n",
       "\n",
       "    .dataframe tbody tr th {\n",
       "        vertical-align: top;\n",
       "    }\n",
       "\n",
       "    .dataframe thead th {\n",
       "        text-align: right;\n",
       "    }\n",
       "</style>\n",
       "<table border=\"1\" class=\"dataframe\">\n",
       "  <thead>\n",
       "    <tr style=\"text-align: right;\">\n",
       "      <th></th>\n",
       "      <th>Accuracy</th>\n",
       "      <th>Precision</th>\n",
       "      <th>Recall</th>\n",
       "      <th>F1</th>\n",
       "      <th>ROC AUC</th>\n",
       "      <th>FN</th>\n",
       "      <th>TP</th>\n",
       "      <th>FP</th>\n",
       "      <th>TN</th>\n",
       "      <th>Average_Precision</th>\n",
       "    </tr>\n",
       "  </thead>\n",
       "  <tbody>\n",
       "    <tr>\n",
       "      <th>Novelty Isolation Forest 50 trees</th>\n",
       "      <td>NaN</td>\n",
       "      <td>NaN</td>\n",
       "      <td>NaN</td>\n",
       "      <td>NaN</td>\n",
       "      <td>NaN</td>\n",
       "      <td>NaN</td>\n",
       "      <td>NaN</td>\n",
       "      <td>NaN</td>\n",
       "      <td>NaN</td>\n",
       "      <td>NaN</td>\n",
       "    </tr>\n",
       "    <tr>\n",
       "      <th>Novelty Isolation Forest 100 trees</th>\n",
       "      <td>NaN</td>\n",
       "      <td>NaN</td>\n",
       "      <td>NaN</td>\n",
       "      <td>NaN</td>\n",
       "      <td>NaN</td>\n",
       "      <td>NaN</td>\n",
       "      <td>NaN</td>\n",
       "      <td>NaN</td>\n",
       "      <td>NaN</td>\n",
       "      <td>NaN</td>\n",
       "    </tr>\n",
       "    <tr>\n",
       "      <th>Novelty Isolation Forest 200 trees</th>\n",
       "      <td>NaN</td>\n",
       "      <td>NaN</td>\n",
       "      <td>NaN</td>\n",
       "      <td>NaN</td>\n",
       "      <td>NaN</td>\n",
       "      <td>NaN</td>\n",
       "      <td>NaN</td>\n",
       "      <td>NaN</td>\n",
       "      <td>NaN</td>\n",
       "      <td>NaN</td>\n",
       "    </tr>\n",
       "  </tbody>\n",
       "</table>\n",
       "</div>"
      ],
      "text/plain": [
       "                                   Accuracy Precision Recall   F1 ROC AUC  \\\n",
       "Novelty Isolation Forest 50 trees       NaN       NaN    NaN  NaN     NaN   \n",
       "Novelty Isolation Forest 100 trees      NaN       NaN    NaN  NaN     NaN   \n",
       "Novelty Isolation Forest 200 trees      NaN       NaN    NaN  NaN     NaN   \n",
       "\n",
       "                                     FN   TP   FP   TN Average_Precision  \n",
       "Novelty Isolation Forest 50 trees   NaN  NaN  NaN  NaN               NaN  \n",
       "Novelty Isolation Forest 100 trees  NaN  NaN  NaN  NaN               NaN  \n",
       "Novelty Isolation Forest 200 trees  NaN  NaN  NaN  NaN               NaN  "
      ]
     },
     "execution_count": 37,
     "metadata": {},
     "output_type": "execute_result"
    }
   ],
   "source": [
    "classifier_dict = { \n",
    "    \"Novelty Isolation Forest 50 trees\": IsolationForest(contamination=outliers_fraction,n_estimators=50, random_state=42),\n",
    "    \"Novelty Isolation Forest 100 trees\":IsolationForest(contamination=outliers_fraction,n_estimators=100, random_state=42),\n",
    "    \"Novelty Isolation Forest 200 trees\":IsolationForest(contamination=outliers_fraction,n_estimators=200, random_state=42)\n",
    "}\n",
    "\n",
    "# Note: In production environments when you are comparing different n_estimators, you may want to set the warm_start = True\n",
    "# This will speed up the fitting because the forest can start from the previoiusly left off tree\n",
    "\n",
    "metrics_df = pd.DataFrame(\n",
    "columns = ['Accuracy','Precision','Recall','F1', 'ROC AUC', \n",
    "           'FN','TP','FP','TN', 'Average_Precision'],\n",
    "index = [classifier_name for classifier_name in classifier_dict.keys()])\n",
    "metrics_df"
   ]
  },
  {
   "cell_type": "markdown",
   "id": "5e8fcebc-34a5-4fa2-ab97-0e3436bc5472",
   "metadata": {},
   "source": [
    "## 6C. Run the variants of the model and print"
   ]
  },
  {
   "cell_type": "markdown",
   "id": "0ca16303-7c15-48ac-bf74-7331e6235533",
   "metadata": {},
   "source": [
    "#### Run the various classifiers and store the metrics"
   ]
  },
  {
   "cell_type": "code",
   "execution_count": 38,
   "id": "0c88e51a-bf96-4dcb-a793-b11ad9df4946",
   "metadata": {},
   "outputs": [
    {
     "name": "stdout",
     "output_type": "stream",
     "text": [
      "***********\n",
      "Novelty Isolation Forest 50 trees\n",
      "              precision    recall  f1-score   support\n",
      "\n",
      "     inliers       1.00      0.97      0.99       736\n",
      "    outliers       0.47      0.89      0.62        19\n",
      "\n",
      "    accuracy                           0.97       755\n",
      "   macro avg       0.73      0.93      0.80       755\n",
      "weighted avg       0.98      0.97      0.98       755\n",
      "\n",
      "Counter({'TN': 717, 'FP': 19, 'TP': 17, 'FN': 2, 'ROC AUC': 0.9863, 'Accuracy': 0.9722, 'Recall': 0.9345, 'F1': 0.8019, 'Precision': 0.7347, 'Average_Precision': 0.6964})\n",
      "***********\n",
      "Novelty Isolation Forest 100 trees\n",
      "              precision    recall  f1-score   support\n",
      "\n",
      "     inliers       1.00      0.97      0.99       736\n",
      "    outliers       0.47      0.89      0.62        19\n",
      "\n",
      "    accuracy                           0.97       755\n",
      "   macro avg       0.73      0.93      0.80       755\n",
      "weighted avg       0.98      0.97      0.98       755\n",
      "\n",
      "Counter({'TN': 717, 'FP': 19, 'TP': 17, 'FN': 2, 'ROC AUC': 0.9866, 'Accuracy': 0.9722, 'Recall': 0.9345, 'F1': 0.8019, 'Precision': 0.7347, 'Average_Precision': 0.6407})\n",
      "***********\n",
      "Novelty Isolation Forest 200 trees\n",
      "              precision    recall  f1-score   support\n",
      "\n",
      "     inliers       1.00      0.98      0.99       736\n",
      "    outliers       0.52      0.89      0.65        19\n",
      "\n",
      "    accuracy                           0.98       755\n",
      "   macro avg       0.76      0.94      0.82       755\n",
      "weighted avg       0.99      0.98      0.98       755\n",
      "\n",
      "Counter({'TN': 720, 'TP': 17, 'FP': 16, 'FN': 2, 'ROC AUC': 0.9868, 'Accuracy': 0.9762, 'Recall': 0.9365, 'F1': 0.8208, 'Average_Precision': 0.7714, 'Precision': 0.7562})\n"
     ]
    }
   ],
   "source": [
    "for classifier_name, classifier in classifier_dict.items(): \n",
    "    classifier.fit(train_X_inliers)\n",
    "    print('***********') \n",
    "    print(classifier_name) \n",
    "    metrics_dict, confusion_matrix_object = custom_classification_metrics_function(X_test_dfThyroid, y_test_dfThyroid, labels, classifier)\n",
    "    print(metrics_dict)\n",
    "    \n",
    "    # store the metrics as a single row in the dataframe against each classifier name\n",
    "    metrics_df.loc[classifier_name] = metrics_dict"
   ]
  },
  {
   "cell_type": "markdown",
   "id": "36f076af-a4bf-4e09-b913-7cf01089b676",
   "metadata": {},
   "source": [
    "## 7C. Describe Performance "
   ]
  },
  {
   "cell_type": "code",
   "execution_count": 39,
   "id": "933dab14-7a8b-473a-b480-002a3446fa10",
   "metadata": {},
   "outputs": [
    {
     "data": {
      "text/html": [
       "<div>\n",
       "<style scoped>\n",
       "    .dataframe tbody tr th:only-of-type {\n",
       "        vertical-align: middle;\n",
       "    }\n",
       "\n",
       "    .dataframe tbody tr th {\n",
       "        vertical-align: top;\n",
       "    }\n",
       "\n",
       "    .dataframe thead th {\n",
       "        text-align: right;\n",
       "    }\n",
       "</style>\n",
       "<table border=\"1\" class=\"dataframe\">\n",
       "  <thead>\n",
       "    <tr style=\"text-align: right;\">\n",
       "      <th></th>\n",
       "      <th>Accuracy</th>\n",
       "      <th>Precision</th>\n",
       "      <th>Recall</th>\n",
       "      <th>F1</th>\n",
       "      <th>ROC AUC</th>\n",
       "      <th>FN</th>\n",
       "      <th>TP</th>\n",
       "      <th>FP</th>\n",
       "      <th>TN</th>\n",
       "      <th>Average_Precision</th>\n",
       "    </tr>\n",
       "  </thead>\n",
       "  <tbody>\n",
       "    <tr>\n",
       "      <th>Novelty Isolation Forest 50 trees</th>\n",
       "      <td>0.9722</td>\n",
       "      <td>0.7347</td>\n",
       "      <td>0.9345</td>\n",
       "      <td>0.8019</td>\n",
       "      <td>0.9863</td>\n",
       "      <td>2.0</td>\n",
       "      <td>17.0</td>\n",
       "      <td>19.0</td>\n",
       "      <td>717.0</td>\n",
       "      <td>0.6964</td>\n",
       "    </tr>\n",
       "    <tr>\n",
       "      <th>Novelty Isolation Forest 100 trees</th>\n",
       "      <td>0.9722</td>\n",
       "      <td>0.7347</td>\n",
       "      <td>0.9345</td>\n",
       "      <td>0.8019</td>\n",
       "      <td>0.9866</td>\n",
       "      <td>2.0</td>\n",
       "      <td>17.0</td>\n",
       "      <td>19.0</td>\n",
       "      <td>717.0</td>\n",
       "      <td>0.6407</td>\n",
       "    </tr>\n",
       "    <tr>\n",
       "      <th>Novelty Isolation Forest 200 trees</th>\n",
       "      <td>0.9762</td>\n",
       "      <td>0.7562</td>\n",
       "      <td>0.9365</td>\n",
       "      <td>0.8208</td>\n",
       "      <td>0.9868</td>\n",
       "      <td>2.0</td>\n",
       "      <td>17.0</td>\n",
       "      <td>16.0</td>\n",
       "      <td>720.0</td>\n",
       "      <td>0.7714</td>\n",
       "    </tr>\n",
       "  </tbody>\n",
       "</table>\n",
       "</div>"
      ],
      "text/plain": [
       "                                   Accuracy Precision  Recall      F1 ROC AUC  \\\n",
       "Novelty Isolation Forest 50 trees    0.9722    0.7347  0.9345  0.8019  0.9863   \n",
       "Novelty Isolation Forest 100 trees   0.9722    0.7347  0.9345  0.8019  0.9866   \n",
       "Novelty Isolation Forest 200 trees   0.9762    0.7562  0.9365  0.8208  0.9868   \n",
       "\n",
       "                                     FN    TP    FP     TN Average_Precision  \n",
       "Novelty Isolation Forest 50 trees   2.0  17.0  19.0  717.0            0.6964  \n",
       "Novelty Isolation Forest 100 trees  2.0  17.0  19.0  717.0            0.6407  \n",
       "Novelty Isolation Forest 200 trees  2.0  17.0  16.0  720.0            0.7714  "
      ]
     },
     "execution_count": 39,
     "metadata": {},
     "output_type": "execute_result"
    }
   ],
   "source": [
    "metrics_df"
   ]
  },
  {
   "cell_type": "markdown",
   "id": "d0a27896-ddc2-400c-8608-874af47b0c99",
   "metadata": {},
   "source": [
    "#### Recall and Average Precision are much better for the model with just 50 trees. It is comparable to Robust Covariance techniques"
   ]
  },
  {
   "cell_type": "code",
   "execution_count": 41,
   "id": "fd0ac825-d627-4d5e-8d24-78f9d6537b86",
   "metadata": {},
   "outputs": [
    {
     "data": {
      "text/html": [
       "<div>\n",
       "<style scoped>\n",
       "    .dataframe tbody tr th:only-of-type {\n",
       "        vertical-align: middle;\n",
       "    }\n",
       "\n",
       "    .dataframe tbody tr th {\n",
       "        vertical-align: top;\n",
       "    }\n",
       "\n",
       "    .dataframe thead th {\n",
       "        text-align: right;\n",
       "    }\n",
       "</style>\n",
       "<table border=\"1\" class=\"dataframe\">\n",
       "  <thead>\n",
       "    <tr style=\"text-align: right;\">\n",
       "      <th></th>\n",
       "      <th>Accuracy</th>\n",
       "      <th>Precision</th>\n",
       "      <th>Recall</th>\n",
       "      <th>F1</th>\n",
       "      <th>ROC AUC</th>\n",
       "      <th>FN</th>\n",
       "      <th>TP</th>\n",
       "      <th>FP</th>\n",
       "      <th>TN</th>\n",
       "      <th>Average_Precision</th>\n",
       "    </tr>\n",
       "  </thead>\n",
       "  <tbody>\n",
       "    <tr>\n",
       "      <th>Novelty OCSVM RBF</th>\n",
       "      <td>0.9166</td>\n",
       "      <td>0.5936</td>\n",
       "      <td>0.829</td>\n",
       "      <td>0.6316</td>\n",
       "      <td>0.9489</td>\n",
       "      <td>5.0</td>\n",
       "      <td>14.0</td>\n",
       "      <td>58.0</td>\n",
       "      <td>678.0</td>\n",
       "      <td>0.434</td>\n",
       "    </tr>\n",
       "    <tr>\n",
       "      <th>Novelty OCSVM poly degree 2</th>\n",
       "      <td>0.8954</td>\n",
       "      <td>0.5445</td>\n",
       "      <td>0.6643</td>\n",
       "      <td>0.5563</td>\n",
       "      <td>0.7958</td>\n",
       "      <td>11.0</td>\n",
       "      <td>8.0</td>\n",
       "      <td>68.0</td>\n",
       "      <td>668.0</td>\n",
       "      <td>0.22</td>\n",
       "    </tr>\n",
       "    <tr>\n",
       "      <th>Novelty OCSVM poly degree 3</th>\n",
       "      <td>0.8954</td>\n",
       "      <td>0.5445</td>\n",
       "      <td>0.6643</td>\n",
       "      <td>0.5563</td>\n",
       "      <td>0.7944</td>\n",
       "      <td>11.0</td>\n",
       "      <td>8.0</td>\n",
       "      <td>68.0</td>\n",
       "      <td>668.0</td>\n",
       "      <td>0.219</td>\n",
       "    </tr>\n",
       "    <tr>\n",
       "      <th>Robust covariance outliers 4x</th>\n",
       "      <td>0.9126</td>\n",
       "      <td>0.6077</td>\n",
       "      <td>0.9295</td>\n",
       "      <td>0.653</td>\n",
       "      <td>0.9858</td>\n",
       "      <td>1.0</td>\n",
       "      <td>18.0</td>\n",
       "      <td>65.0</td>\n",
       "      <td>671.0</td>\n",
       "      <td>0.7728</td>\n",
       "    </tr>\n",
       "    <tr>\n",
       "      <th>Robust covariance outliers 2x</th>\n",
       "      <td>0.9576</td>\n",
       "      <td>0.683</td>\n",
       "      <td>0.9526</td>\n",
       "      <td>0.7536</td>\n",
       "      <td>0.9859</td>\n",
       "      <td>1.0</td>\n",
       "      <td>18.0</td>\n",
       "      <td>31.0</td>\n",
       "      <td>705.0</td>\n",
       "      <td>0.7738</td>\n",
       "    </tr>\n",
       "    <tr>\n",
       "      <th>Robust covariance outliers 1x</th>\n",
       "      <td>0.9815</td>\n",
       "      <td>0.7973</td>\n",
       "      <td>0.8879</td>\n",
       "      <td>0.8361</td>\n",
       "      <td>0.9858</td>\n",
       "      <td>4.0</td>\n",
       "      <td>15.0</td>\n",
       "      <td>10.0</td>\n",
       "      <td>726.0</td>\n",
       "      <td>0.7728</td>\n",
       "    </tr>\n",
       "    <tr>\n",
       "      <th>Novelty Isolation Forest 50 trees</th>\n",
       "      <td>0.9722</td>\n",
       "      <td>0.7347</td>\n",
       "      <td>0.9345</td>\n",
       "      <td>0.8019</td>\n",
       "      <td>0.9863</td>\n",
       "      <td>2.0</td>\n",
       "      <td>17.0</td>\n",
       "      <td>19.0</td>\n",
       "      <td>717.0</td>\n",
       "      <td>0.6964</td>\n",
       "    </tr>\n",
       "    <tr>\n",
       "      <th>Novelty Isolation Forest 100 trees</th>\n",
       "      <td>0.9722</td>\n",
       "      <td>0.7347</td>\n",
       "      <td>0.9345</td>\n",
       "      <td>0.8019</td>\n",
       "      <td>0.9866</td>\n",
       "      <td>2.0</td>\n",
       "      <td>17.0</td>\n",
       "      <td>19.0</td>\n",
       "      <td>717.0</td>\n",
       "      <td>0.6407</td>\n",
       "    </tr>\n",
       "    <tr>\n",
       "      <th>Novelty Isolation Forest 200 trees</th>\n",
       "      <td>0.9762</td>\n",
       "      <td>0.7562</td>\n",
       "      <td>0.9365</td>\n",
       "      <td>0.8208</td>\n",
       "      <td>0.9868</td>\n",
       "      <td>2.0</td>\n",
       "      <td>17.0</td>\n",
       "      <td>16.0</td>\n",
       "      <td>720.0</td>\n",
       "      <td>0.7714</td>\n",
       "    </tr>\n",
       "    <tr>\n",
       "      <th>Novelty Isolation Forest 50 trees</th>\n",
       "      <td>0.9722</td>\n",
       "      <td>0.7347</td>\n",
       "      <td>0.9345</td>\n",
       "      <td>0.8019</td>\n",
       "      <td>0.9863</td>\n",
       "      <td>2.0</td>\n",
       "      <td>17.0</td>\n",
       "      <td>19.0</td>\n",
       "      <td>717.0</td>\n",
       "      <td>0.6964</td>\n",
       "    </tr>\n",
       "    <tr>\n",
       "      <th>Novelty Isolation Forest 100 trees</th>\n",
       "      <td>0.9722</td>\n",
       "      <td>0.7347</td>\n",
       "      <td>0.9345</td>\n",
       "      <td>0.8019</td>\n",
       "      <td>0.9866</td>\n",
       "      <td>2.0</td>\n",
       "      <td>17.0</td>\n",
       "      <td>19.0</td>\n",
       "      <td>717.0</td>\n",
       "      <td>0.6407</td>\n",
       "    </tr>\n",
       "    <tr>\n",
       "      <th>Novelty Isolation Forest 200 trees</th>\n",
       "      <td>0.9762</td>\n",
       "      <td>0.7562</td>\n",
       "      <td>0.9365</td>\n",
       "      <td>0.8208</td>\n",
       "      <td>0.9868</td>\n",
       "      <td>2.0</td>\n",
       "      <td>17.0</td>\n",
       "      <td>16.0</td>\n",
       "      <td>720.0</td>\n",
       "      <td>0.7714</td>\n",
       "    </tr>\n",
       "  </tbody>\n",
       "</table>\n",
       "</div>"
      ],
      "text/plain": [
       "                                   Accuracy Precision  Recall      F1 ROC AUC  \\\n",
       "Novelty OCSVM RBF                    0.9166    0.5936   0.829  0.6316  0.9489   \n",
       "Novelty OCSVM poly degree 2          0.8954    0.5445  0.6643  0.5563  0.7958   \n",
       "Novelty OCSVM poly degree 3          0.8954    0.5445  0.6643  0.5563  0.7944   \n",
       "Robust covariance outliers 4x        0.9126    0.6077  0.9295   0.653  0.9858   \n",
       "Robust covariance outliers 2x        0.9576     0.683  0.9526  0.7536  0.9859   \n",
       "Robust covariance outliers 1x        0.9815    0.7973  0.8879  0.8361  0.9858   \n",
       "Novelty Isolation Forest 50 trees    0.9722    0.7347  0.9345  0.8019  0.9863   \n",
       "Novelty Isolation Forest 100 trees   0.9722    0.7347  0.9345  0.8019  0.9866   \n",
       "Novelty Isolation Forest 200 trees   0.9762    0.7562  0.9365  0.8208  0.9868   \n",
       "Novelty Isolation Forest 50 trees    0.9722    0.7347  0.9345  0.8019  0.9863   \n",
       "Novelty Isolation Forest 100 trees   0.9722    0.7347  0.9345  0.8019  0.9866   \n",
       "Novelty Isolation Forest 200 trees   0.9762    0.7562  0.9365  0.8208  0.9868   \n",
       "\n",
       "                                      FN    TP    FP     TN Average_Precision  \n",
       "Novelty OCSVM RBF                    5.0  14.0  58.0  678.0             0.434  \n",
       "Novelty OCSVM poly degree 2         11.0   8.0  68.0  668.0              0.22  \n",
       "Novelty OCSVM poly degree 3         11.0   8.0  68.0  668.0             0.219  \n",
       "Robust covariance outliers 4x        1.0  18.0  65.0  671.0            0.7728  \n",
       "Robust covariance outliers 2x        1.0  18.0  31.0  705.0            0.7738  \n",
       "Robust covariance outliers 1x        4.0  15.0  10.0  726.0            0.7728  \n",
       "Novelty Isolation Forest 50 trees    2.0  17.0  19.0  717.0            0.6964  \n",
       "Novelty Isolation Forest 100 trees   2.0  17.0  19.0  717.0            0.6407  \n",
       "Novelty Isolation Forest 200 trees   2.0  17.0  16.0  720.0            0.7714  \n",
       "Novelty Isolation Forest 50 trees    2.0  17.0  19.0  717.0            0.6964  \n",
       "Novelty Isolation Forest 100 trees   2.0  17.0  19.0  717.0            0.6407  \n",
       "Novelty Isolation Forest 200 trees   2.0  17.0  16.0  720.0            0.7714  "
      ]
     },
     "execution_count": 41,
     "metadata": {},
     "output_type": "execute_result"
    }
   ],
   "source": [
    "# Do an outer join of the new metrics_df with the existing one5 from before \n",
    "cumulative_metrics_df = pd.concat([cumulative_metrics_df, metrics_df], axis = 0) \n",
    "cumulative_metrics_df"
   ]
  },
  {
   "cell_type": "markdown",
   "id": "b20c4c8c-f342-46bd-ab7f-bd4552b8aac8",
   "metadata": {},
   "source": [
    "## 8C. Plot Metrics and Confusion Matrix"
   ]
  },
  {
   "cell_type": "code",
   "execution_count": 42,
   "id": "040506bd-da23-456b-a0fc-48ef83f5124a",
   "metadata": {},
   "outputs": [
    {
     "data": {
      "image/png": "[encoded data removed]",
      "text/plain": [
       "<Figure size 1000x600 with 1 Axes>"
      ]
     },
     "metadata": {},
     "output_type": "display_data"
    }
   ],
   "source": [
    "# Plot the metrics\n",
    "metrics_to_plot = ['Accuracy', 'Precision', 'Recall', 'F1']\n",
    "metrics_df[metrics_to_plot].plot(kind='bar', figsize=(10, 6))\n",
    "plt.title('Model Performance Metrics')\n",
    "plt.ylabel('Score')\n",
    "plt.xticks(rotation=45)\n",
    "plt.legend(loc='lower right')\n",
    "plt.show()"
   ]
  },
  {
   "cell_type": "markdown",
   "id": "50605fc8-6f58-4b1c-8785-82b5a56719ce",
   "metadata": {},
   "source": [
    "## The Confusion Matrix values are not plotted correctly as the order in which they are stored does not match convention and only the first plot is given"
   ]
  },
  {
   "cell_type": "code",
   "execution_count": 43,
   "id": "464b9a1b-78d7-4f59-a98a-a56b834db362",
   "metadata": {},
   "outputs": [],
   "source": [
    "def plot_confusion_matrix(conf_matr, title='Confusion Matrix', labels=['Inliers', 'Outliers']):\n",
    "    plt.figure(figsize=(8, 6))\n",
    "    sns.heatmap(conf_matr, annot=True, fmt=\"d\", cmap='Blues', xticklabels=labels, yticklabels=labels)\n",
    "    plt.title(title)\n",
    "    plt.ylabel('True Label')\n",
    "    plt.xlabel('Predicted Label')\n",
    "    plt.show()"
   ]
  },
  {
   "cell_type": "code",
   "execution_count": null,
   "id": "28f3af2f-e34a-4bc1-986e-0b56420ae46b",
   "metadata": {},
   "outputs": [],
   "source": [
    "# NOTE: Confusion Matrix Convention:\n",
    "# Top Row:\n",
    "# TP: Correctly predicted positive instances.\n",
    "# FN: Incorrectly predicted negative instances.\n",
    "\n",
    "# Bottom Row:\n",
    "# FP: Incorrectly predicted positive instances.\n",
    "# TN: Correctly predicted negative instances."
   ]
  },
  {
   "cell_type": "code",
   "execution_count": null,
   "id": "5e68dfc9-0e8f-4314-9957-a37ad6f94964",
   "metadata": {},
   "outputs": [],
   "source": []
  },
  {
   "cell_type": "code",
   "execution_count": 44,
   "id": "8a407e87-9c5f-43e6-973f-c23cc513fd8b",
   "metadata": {},
   "outputs": [
    {
     "data": {
      "image/png": "[encoded data removed]",
      "text/plain": [
       "<Figure size 800x600 with 2 Axes>"
      ]
     },
     "metadata": {},
     "output_type": "display_data"
    }
   ],
   "source": [
    "# Call the plot function for the CM\n",
    "plot_confusion_matrix(confusion_matrix_object, title='Confusion Matrix for Isolation Forest 50 Trees')"
   ]
  },
  {
   "cell_type": "code",
   "execution_count": null,
   "id": "55083860-30a6-47c0-8cab-062a965d41d1",
   "metadata": {},
   "outputs": [],
   "source": []
  }
 ],
 "metadata": {
  "kernelspec": {
   "display_name": "Python 3 (ipykernel)",
   "language": "python",
   "name": "python3"
  },
  "language_info": {
   "codemirror_mode": {
    "name": "ipython",
    "version": 3
   },
   "file_extension": ".py",
   "mimetype": "text/x-python",
   "name": "python",
   "nbconvert_exporter": "python",
   "pygments_lexer": "ipython3",
   "version": "3.10.14"
  }
 },
 "nbformat": 4,
 "nbformat_minor": 5
}
