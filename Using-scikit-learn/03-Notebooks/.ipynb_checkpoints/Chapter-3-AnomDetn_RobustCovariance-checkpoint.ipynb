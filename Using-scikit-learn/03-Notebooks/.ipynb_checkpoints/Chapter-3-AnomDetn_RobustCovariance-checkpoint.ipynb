{
 "cells": [
  {
   "cell_type": "markdown",
   "id": "7de56c83",
   "metadata": {},
   "source": [
    "# Anomaly Detection Notebook\n",
    "### Date Started:   12 June 2024\n",
    "### Latest Update: 16 July 2024 - vs Full Solution"
   ]
  },
  {
   "cell_type": "markdown",
   "id": "5564110e",
   "metadata": {},
   "source": [
    "## Chapter 3: Robust Covariance\n",
    "#### Tries out Elliptic Envelope method with three different contamination parameters "
   ]
  },
  {
   "cell_type": "markdown",
   "id": "7df94904",
   "metadata": {},
   "source": [
    "## 1. Split Dataframe into Train and Test "
   ]
  },
  {
   "cell_type": "code",
   "execution_count": 1,
   "id": "2b04350e-6adc-49e7-9834-716ec2aa9047",
   "metadata": {},
   "outputs": [],
   "source": [
    "# My first effort\n",
    "# import pandas as pd\n",
    "# import sklearn\n",
    "# from sklearn.model_selection import train_test_split\n",
    "# from sklearn.svm import OneClassSVM\n",
    "# from sklearn.covariance import EllipticEnvelope\n",
    "\n",
    "\n",
    "# from sklearn.metrics import precision_score, recall_score, f1_score,  average_precision_score, confusion_matrix\n",
    "\n",
    "# import scipy\n",
    "# import matplotlib\n",
    "# import matplotlib.pyplot as plt\n",
    "# import seaborn"
   ]
  },
  {
   "cell_type": "code",
   "execution_count": 2,
   "id": "1cf7cbbf-bd05-4e5f-8a0b-d5a6a13293c9",
   "metadata": {},
   "outputs": [],
   "source": [
    "import pandas as pd \n",
    "import numpy as np\n",
    "\n",
    "import matplotlib.pyplot as plt\n",
    "%matplotlib inline\n",
    "\n",
    "import scipy\n",
    "from scipy.io.arff import loadarff\n",
    "import scipy.io as sio\n",
    "\n",
    "from collections import Counter\n",
    "from sklearn.preprocessing import MinMaxScaler\n",
    "from sklearn.model_selection import train_test_split\n",
    "\n",
    "from sklearn.covariance import EllipticEnvelope\n",
    "from sklearn.ensemble import IsolationForest\n",
    "from sklearn.neighbors import LocalOutlierFactor\n",
    "from sklearn.svm import OneClassSVM\n",
    "\n",
    "from sklearn.metrics import accuracy_score, classification_report,confusion_matrix \n",
    "from sklearn.metrics import roc_auc_score, f1_score, precision_score, recall_score, average_precision_score\n",
    "import seaborn as sns"
   ]
  },
  {
   "cell_type": "code",
   "execution_count": 3,
   "id": "2eef9d29-8804-497a-b25b-14de50468ab0",
   "metadata": {},
   "outputs": [],
   "source": [
    "# Import\n",
    "data_directory = \"../01-Data/Processed/\"\n",
    "file_name = \"thyroid.csv\"      # Cleaned data exported from Week 1 notebook \n",
    "dfThyroid = pd.read_csv(data_directory  + file_name)"
   ]
  },
  {
   "cell_type": "code",
   "execution_count": 4,
   "id": "5e9e3725-9464-46fa-bb4d-1d2f947bbe0f",
   "metadata": {},
   "outputs": [],
   "source": [
    "# Added from Full Solution\n",
    "# Define the name of the target class column here instead of manually typing it out everywhere\n",
    "target_class_name = \"6\"\n",
    "\n",
    "# Fill in the names of what you want to call the 0 and 1 class\n",
    "labels = ['inliers', 'outliers']"
   ]
  },
  {
   "cell_type": "markdown",
   "id": "1d75e861-6ecb-49a3-9d8b-e7c1ad057cd6",
   "metadata": {},
   "source": [
    "### Check Split, Train / Test and Extract Features and Targets "
   ]
  },
  {
   "cell_type": "code",
   "execution_count": 5,
   "id": "d62eed12-07ac-4174-a110-413477090404",
   "metadata": {},
   "outputs": [
    {
     "name": "stdout",
     "output_type": "stream",
     "text": [
      "<class 'pandas.core.frame.DataFrame'>\n",
      "RangeIndex: 3772 entries, 0 to 3771\n",
      "Data columns (total 7 columns):\n",
      " #   Column  Non-Null Count  Dtype  \n",
      "---  ------  --------------  -----  \n",
      " 0   0       3772 non-null   float64\n",
      " 1   1       3772 non-null   float64\n",
      " 2   2       3772 non-null   float64\n",
      " 3   3       3772 non-null   float64\n",
      " 4   4       3772 non-null   float64\n",
      " 5   5       3772 non-null   float64\n",
      " 6   6       3772 non-null   float64\n",
      "dtypes: float64(7)\n",
      "memory usage: 206.4 KB\n"
     ]
    }
   ],
   "source": [
    "pd.DataFrame.info(dfThyroid)\n",
    "dfThyroid\n",
    "KeyError: 6"
   ]
  },
  {
   "cell_type": "code",
   "execution_count": 6,
   "id": "26801b3e-7f96-4a5b-bf9c-3ee708ae62e4",
   "metadata": {},
   "outputs": [],
   "source": [
    "# Converts target field to integer\n",
    "# Convert 0 and 1 in 1st column as float to integer\n",
    "# Commented line doesn't work\n",
    "# dfThyroid.iloc[target_class_name] = dfThyroid.iloc[target_class_name].astype(int)\n",
    "dfThyroid[target_class_name] = dfThyroid[target_class_name].astype(int)"
   ]
  },
  {
   "cell_type": "code",
   "execution_count": 7,
   "id": "d8cf1002-f536-4bec-8a18-28d777008504",
   "metadata": {},
   "outputs": [
    {
     "name": "stdout",
     "output_type": "stream",
     "text": [
      "<class 'pandas.core.frame.DataFrame'>\n",
      "RangeIndex: 3772 entries, 0 to 3771\n",
      "Data columns (total 7 columns):\n",
      " #   Column  Non-Null Count  Dtype  \n",
      "---  ------  --------------  -----  \n",
      " 0   0       3772 non-null   float64\n",
      " 1   1       3772 non-null   float64\n",
      " 2   2       3772 non-null   float64\n",
      " 3   3       3772 non-null   float64\n",
      " 4   4       3772 non-null   float64\n",
      " 5   5       3772 non-null   float64\n",
      " 6   6       3772 non-null   int64  \n",
      "dtypes: float64(6), int64(1)\n",
      "memory usage: 206.4 KB\n"
     ]
    },
    {
     "data": {
      "text/html": [
       "<div>\n",
       "<style scoped>\n",
       "    .dataframe tbody tr th:only-of-type {\n",
       "        vertical-align: middle;\n",
       "    }\n",
       "\n",
       "    .dataframe tbody tr th {\n",
       "        vertical-align: top;\n",
       "    }\n",
       "\n",
       "    .dataframe thead th {\n",
       "        text-align: right;\n",
       "    }\n",
       "</style>\n",
       "<table border=\"1\" class=\"dataframe\">\n",
       "  <thead>\n",
       "    <tr style=\"text-align: right;\">\n",
       "      <th></th>\n",
       "      <th>0</th>\n",
       "      <th>1</th>\n",
       "      <th>2</th>\n",
       "      <th>3</th>\n",
       "      <th>4</th>\n",
       "      <th>5</th>\n",
       "      <th>6</th>\n",
       "    </tr>\n",
       "  </thead>\n",
       "  <tbody>\n",
       "    <tr>\n",
       "      <th>count</th>\n",
       "      <td>3772.000000</td>\n",
       "      <td>3772.000000</td>\n",
       "      <td>3772.000000</td>\n",
       "      <td>3772.000000</td>\n",
       "      <td>3772.000000</td>\n",
       "      <td>3772.000000</td>\n",
       "      <td>3772.000000</td>\n",
       "    </tr>\n",
       "    <tr>\n",
       "      <th>mean</th>\n",
       "      <td>0.543121</td>\n",
       "      <td>0.008983</td>\n",
       "      <td>0.186826</td>\n",
       "      <td>0.248332</td>\n",
       "      <td>0.376941</td>\n",
       "      <td>0.177301</td>\n",
       "      <td>0.024655</td>\n",
       "    </tr>\n",
       "    <tr>\n",
       "      <th>std</th>\n",
       "      <td>0.203790</td>\n",
       "      <td>0.043978</td>\n",
       "      <td>0.070405</td>\n",
       "      <td>0.080579</td>\n",
       "      <td>0.087382</td>\n",
       "      <td>0.054907</td>\n",
       "      <td>0.155093</td>\n",
       "    </tr>\n",
       "    <tr>\n",
       "      <th>min</th>\n",
       "      <td>0.000000</td>\n",
       "      <td>0.000000</td>\n",
       "      <td>0.000000</td>\n",
       "      <td>0.000000</td>\n",
       "      <td>0.000000</td>\n",
       "      <td>0.000000</td>\n",
       "      <td>0.000000</td>\n",
       "    </tr>\n",
       "    <tr>\n",
       "      <th>25%</th>\n",
       "      <td>0.376344</td>\n",
       "      <td>0.001132</td>\n",
       "      <td>0.156546</td>\n",
       "      <td>0.203271</td>\n",
       "      <td>0.328638</td>\n",
       "      <td>0.149180</td>\n",
       "      <td>0.000000</td>\n",
       "    </tr>\n",
       "    <tr>\n",
       "      <th>50%</th>\n",
       "      <td>0.569892</td>\n",
       "      <td>0.003019</td>\n",
       "      <td>0.190702</td>\n",
       "      <td>0.241822</td>\n",
       "      <td>0.375587</td>\n",
       "      <td>0.173770</td>\n",
       "      <td>0.000000</td>\n",
       "    </tr>\n",
       "    <tr>\n",
       "      <th>75%</th>\n",
       "      <td>0.709677</td>\n",
       "      <td>0.004528</td>\n",
       "      <td>0.213472</td>\n",
       "      <td>0.282710</td>\n",
       "      <td>0.413146</td>\n",
       "      <td>0.196721</td>\n",
       "      <td>0.000000</td>\n",
       "    </tr>\n",
       "    <tr>\n",
       "      <th>max</th>\n",
       "      <td>1.000000</td>\n",
       "      <td>1.000000</td>\n",
       "      <td>1.000000</td>\n",
       "      <td>1.000000</td>\n",
       "      <td>1.000000</td>\n",
       "      <td>1.000000</td>\n",
       "      <td>1.000000</td>\n",
       "    </tr>\n",
       "  </tbody>\n",
       "</table>\n",
       "</div>"
      ],
      "text/plain": [
       "                 0            1            2            3            4  \\\n",
       "count  3772.000000  3772.000000  3772.000000  3772.000000  3772.000000   \n",
       "mean      0.543121     0.008983     0.186826     0.248332     0.376941   \n",
       "std       0.203790     0.043978     0.070405     0.080579     0.087382   \n",
       "min       0.000000     0.000000     0.000000     0.000000     0.000000   \n",
       "25%       0.376344     0.001132     0.156546     0.203271     0.328638   \n",
       "50%       0.569892     0.003019     0.190702     0.241822     0.375587   \n",
       "75%       0.709677     0.004528     0.213472     0.282710     0.413146   \n",
       "max       1.000000     1.000000     1.000000     1.000000     1.000000   \n",
       "\n",
       "                 5            6  \n",
       "count  3772.000000  3772.000000  \n",
       "mean      0.177301     0.024655  \n",
       "std       0.054907     0.155093  \n",
       "min       0.000000     0.000000  \n",
       "25%       0.149180     0.000000  \n",
       "50%       0.173770     0.000000  \n",
       "75%       0.196721     0.000000  \n",
       "max       1.000000     1.000000  "
      ]
     },
     "execution_count": 7,
     "metadata": {},
     "output_type": "execute_result"
    }
   ],
   "source": [
    "pd.DataFrame.info(dfThyroid)\n",
    "pd.DataFrame.describe(dfThyroid)"
   ]
  },
  {
   "cell_type": "code",
   "execution_count": 8,
   "id": "8dc72f31-3a77-47dc-a8a8-402a34e7266f",
   "metadata": {},
   "outputs": [
    {
     "name": "stdout",
     "output_type": "stream",
     "text": [
      "(3772, 6)\n"
     ]
    },
    {
     "data": {
      "text/html": [
       "<div>\n",
       "<style scoped>\n",
       "    .dataframe tbody tr th:only-of-type {\n",
       "        vertical-align: middle;\n",
       "    }\n",
       "\n",
       "    .dataframe tbody tr th {\n",
       "        vertical-align: top;\n",
       "    }\n",
       "\n",
       "    .dataframe thead th {\n",
       "        text-align: right;\n",
       "    }\n",
       "</style>\n",
       "<table border=\"1\" class=\"dataframe\">\n",
       "  <thead>\n",
       "    <tr style=\"text-align: right;\">\n",
       "      <th></th>\n",
       "      <th>0</th>\n",
       "      <th>1</th>\n",
       "      <th>2</th>\n",
       "      <th>3</th>\n",
       "      <th>4</th>\n",
       "      <th>5</th>\n",
       "    </tr>\n",
       "  </thead>\n",
       "  <tbody>\n",
       "    <tr>\n",
       "      <th>0</th>\n",
       "      <td>0.774194</td>\n",
       "      <td>0.001132</td>\n",
       "      <td>0.137571</td>\n",
       "      <td>0.275701</td>\n",
       "      <td>0.295775</td>\n",
       "      <td>0.236066</td>\n",
       "    </tr>\n",
       "    <tr>\n",
       "      <th>1</th>\n",
       "      <td>0.247312</td>\n",
       "      <td>0.000472</td>\n",
       "      <td>0.279886</td>\n",
       "      <td>0.329439</td>\n",
       "      <td>0.535211</td>\n",
       "      <td>0.173770</td>\n",
       "    </tr>\n",
       "    <tr>\n",
       "      <th>2</th>\n",
       "      <td>0.494624</td>\n",
       "      <td>0.003585</td>\n",
       "      <td>0.222960</td>\n",
       "      <td>0.233645</td>\n",
       "      <td>0.525822</td>\n",
       "      <td>0.124590</td>\n",
       "    </tr>\n",
       "    <tr>\n",
       "      <th>3</th>\n",
       "      <td>0.677419</td>\n",
       "      <td>0.001698</td>\n",
       "      <td>0.156546</td>\n",
       "      <td>0.175234</td>\n",
       "      <td>0.333333</td>\n",
       "      <td>0.136066</td>\n",
       "    </tr>\n",
       "    <tr>\n",
       "      <th>4</th>\n",
       "      <td>0.236559</td>\n",
       "      <td>0.000472</td>\n",
       "      <td>0.241935</td>\n",
       "      <td>0.320093</td>\n",
       "      <td>0.333333</td>\n",
       "      <td>0.247541</td>\n",
       "    </tr>\n",
       "    <tr>\n",
       "      <th>...</th>\n",
       "      <td>...</td>\n",
       "      <td>...</td>\n",
       "      <td>...</td>\n",
       "      <td>...</td>\n",
       "      <td>...</td>\n",
       "      <td>...</td>\n",
       "    </tr>\n",
       "    <tr>\n",
       "      <th>3767</th>\n",
       "      <td>0.817204</td>\n",
       "      <td>0.000113</td>\n",
       "      <td>0.190702</td>\n",
       "      <td>0.287383</td>\n",
       "      <td>0.413146</td>\n",
       "      <td>0.188525</td>\n",
       "    </tr>\n",
       "    <tr>\n",
       "      <th>3768</th>\n",
       "      <td>0.430108</td>\n",
       "      <td>0.002453</td>\n",
       "      <td>0.232448</td>\n",
       "      <td>0.287383</td>\n",
       "      <td>0.446009</td>\n",
       "      <td>0.175410</td>\n",
       "    </tr>\n",
       "    <tr>\n",
       "      <th>3769</th>\n",
       "      <td>0.935484</td>\n",
       "      <td>0.024528</td>\n",
       "      <td>0.160342</td>\n",
       "      <td>0.282710</td>\n",
       "      <td>0.375587</td>\n",
       "      <td>0.200000</td>\n",
       "    </tr>\n",
       "    <tr>\n",
       "      <th>3770</th>\n",
       "      <td>0.677419</td>\n",
       "      <td>0.001472</td>\n",
       "      <td>0.190702</td>\n",
       "      <td>0.242991</td>\n",
       "      <td>0.323944</td>\n",
       "      <td>0.195082</td>\n",
       "    </tr>\n",
       "    <tr>\n",
       "      <th>3771</th>\n",
       "      <td>0.483871</td>\n",
       "      <td>0.003566</td>\n",
       "      <td>0.190702</td>\n",
       "      <td>0.212617</td>\n",
       "      <td>0.338028</td>\n",
       "      <td>0.163934</td>\n",
       "    </tr>\n",
       "  </tbody>\n",
       "</table>\n",
       "<p>3772 rows × 6 columns</p>\n",
       "</div>"
      ],
      "text/plain": [
       "             0         1         2         3         4         5\n",
       "0     0.774194  0.001132  0.137571  0.275701  0.295775  0.236066\n",
       "1     0.247312  0.000472  0.279886  0.329439  0.535211  0.173770\n",
       "2     0.494624  0.003585  0.222960  0.233645  0.525822  0.124590\n",
       "3     0.677419  0.001698  0.156546  0.175234  0.333333  0.136066\n",
       "4     0.236559  0.000472  0.241935  0.320093  0.333333  0.247541\n",
       "...        ...       ...       ...       ...       ...       ...\n",
       "3767  0.817204  0.000113  0.190702  0.287383  0.413146  0.188525\n",
       "3768  0.430108  0.002453  0.232448  0.287383  0.446009  0.175410\n",
       "3769  0.935484  0.024528  0.160342  0.282710  0.375587  0.200000\n",
       "3770  0.677419  0.001472  0.190702  0.242991  0.323944  0.195082\n",
       "3771  0.483871  0.003566  0.190702  0.212617  0.338028  0.163934\n",
       "\n",
       "[3772 rows x 6 columns]"
      ]
     },
     "execution_count": 8,
     "metadata": {},
     "output_type": "execute_result"
    }
   ],
   "source": [
    "# Extracts features (X) and targets (y) \n",
    "X_dfThyroid = dfThyroid.drop(target_class_name, axis=1)\n",
    "y_dfThyroid = dfThyroid[target_class_name]\n",
    "# Prints feature details\n",
    "print(X_dfThyroid.shape)\n",
    "X_dfThyroid"
   ]
  },
  {
   "cell_type": "code",
   "execution_count": 9,
   "id": "1f406d7d-fd23-4a84-8d84-cf9b9c8c22bf",
   "metadata": {},
   "outputs": [
    {
     "name": "stdout",
     "output_type": "stream",
     "text": [
      "(3772,)\n",
      "<class 'pandas.core.series.Series'>\n",
      "RangeIndex: 3772 entries, 0 to 3771\n",
      "Series name: 6\n",
      "Non-Null Count  Dtype\n",
      "--------------  -----\n",
      "3772 non-null   int64\n",
      "dtypes: int64(1)\n",
      "memory usage: 29.6 KB\n",
      "None\n",
      "count    3772.000000\n",
      "mean        0.024655\n",
      "std         0.155093\n",
      "min         0.000000\n",
      "25%         0.000000\n",
      "50%         0.000000\n",
      "75%         0.000000\n",
      "max         1.000000\n",
      "Name: 6, dtype: float64\n"
     ]
    }
   ],
   "source": [
    "# Prints target details\n",
    "#  Note: This is now a series since it is a single column extracted from a dataframe \n",
    "print(y_dfThyroid.shape)\n",
    "print(y_dfThyroid.info())\n",
    "print(y_dfThyroid.describe())"
   ]
  },
  {
   "cell_type": "markdown",
   "id": "306b1dab-41d8-4841-a68b-9408492010ee",
   "metadata": {},
   "source": [
    "### Randomly resamples train and test datasets while stratifying (keeping %) targets (y) "
   ]
  },
  {
   "cell_type": "code",
   "execution_count": 10,
   "id": "987af026-ab89-474f-ac6b-244a070af7cb",
   "metadata": {},
   "outputs": [],
   "source": [
    "X_train_dfThyroid, X_test_dfThyroid, y_train_dfThyroid, y_test_dfThyroid = train_test_split(X_dfThyroid, y_dfThyroid, test_size=0.2, random_state=42, stratify = y_dfThyroid)"
   ]
  },
  {
   "cell_type": "code",
   "execution_count": 11,
   "id": "13b0e709-9963-4ed6-b407-e95007d51903",
   "metadata": {},
   "outputs": [
    {
     "name": "stdout",
     "output_type": "stream",
     "text": [
      "Training dataset features: \n",
      "\n",
      "<class 'pandas.core.frame.DataFrame'>\n",
      "Index: 3017 entries, 1697 to 1315\n",
      "Data columns (total 6 columns):\n",
      " #   Column  Non-Null Count  Dtype  \n",
      "---  ------  --------------  -----  \n",
      " 0   0       3017 non-null   float64\n",
      " 1   1       3017 non-null   float64\n",
      " 2   2       3017 non-null   float64\n",
      " 3   3       3017 non-null   float64\n",
      " 4   4       3017 non-null   float64\n",
      " 5   5       3017 non-null   float64\n",
      "dtypes: float64(6)\n",
      "memory usage: 165.0 KB\n"
     ]
    },
    {
     "data": {
      "text/html": [
       "<div>\n",
       "<style scoped>\n",
       "    .dataframe tbody tr th:only-of-type {\n",
       "        vertical-align: middle;\n",
       "    }\n",
       "\n",
       "    .dataframe tbody tr th {\n",
       "        vertical-align: top;\n",
       "    }\n",
       "\n",
       "    .dataframe thead th {\n",
       "        text-align: right;\n",
       "    }\n",
       "</style>\n",
       "<table border=\"1\" class=\"dataframe\">\n",
       "  <thead>\n",
       "    <tr style=\"text-align: right;\">\n",
       "      <th></th>\n",
       "      <th>0</th>\n",
       "      <th>1</th>\n",
       "      <th>2</th>\n",
       "      <th>3</th>\n",
       "      <th>4</th>\n",
       "      <th>5</th>\n",
       "    </tr>\n",
       "  </thead>\n",
       "  <tbody>\n",
       "    <tr>\n",
       "      <th>count</th>\n",
       "      <td>3017.000000</td>\n",
       "      <td>3017.000000</td>\n",
       "      <td>3017.000000</td>\n",
       "      <td>3017.000000</td>\n",
       "      <td>3017.000000</td>\n",
       "      <td>3017.000000</td>\n",
       "    </tr>\n",
       "    <tr>\n",
       "      <th>mean</th>\n",
       "      <td>0.544599</td>\n",
       "      <td>0.008744</td>\n",
       "      <td>0.186698</td>\n",
       "      <td>0.247565</td>\n",
       "      <td>0.376012</td>\n",
       "      <td>0.177055</td>\n",
       "    </tr>\n",
       "    <tr>\n",
       "      <th>std</th>\n",
       "      <td>0.203830</td>\n",
       "      <td>0.039443</td>\n",
       "      <td>0.071255</td>\n",
       "      <td>0.081002</td>\n",
       "      <td>0.087422</td>\n",
       "      <td>0.054254</td>\n",
       "    </tr>\n",
       "    <tr>\n",
       "      <th>min</th>\n",
       "      <td>0.000000</td>\n",
       "      <td>0.000000</td>\n",
       "      <td>0.000000</td>\n",
       "      <td>0.002103</td>\n",
       "      <td>0.000000</td>\n",
       "      <td>0.001311</td>\n",
       "    </tr>\n",
       "    <tr>\n",
       "      <th>25%</th>\n",
       "      <td>0.376344</td>\n",
       "      <td>0.001094</td>\n",
       "      <td>0.156546</td>\n",
       "      <td>0.200935</td>\n",
       "      <td>0.328638</td>\n",
       "      <td>0.149180</td>\n",
       "    </tr>\n",
       "    <tr>\n",
       "      <th>50%</th>\n",
       "      <td>0.569892</td>\n",
       "      <td>0.003019</td>\n",
       "      <td>0.190702</td>\n",
       "      <td>0.240654</td>\n",
       "      <td>0.375587</td>\n",
       "      <td>0.173770</td>\n",
       "    </tr>\n",
       "    <tr>\n",
       "      <th>75%</th>\n",
       "      <td>0.709677</td>\n",
       "      <td>0.004717</td>\n",
       "      <td>0.203985</td>\n",
       "      <td>0.282710</td>\n",
       "      <td>0.399061</td>\n",
       "      <td>0.196721</td>\n",
       "    </tr>\n",
       "    <tr>\n",
       "      <th>max</th>\n",
       "      <td>1.000000</td>\n",
       "      <td>1.000000</td>\n",
       "      <td>1.000000</td>\n",
       "      <td>1.000000</td>\n",
       "      <td>1.000000</td>\n",
       "      <td>0.726230</td>\n",
       "    </tr>\n",
       "  </tbody>\n",
       "</table>\n",
       "</div>"
      ],
      "text/plain": [
       "                 0            1            2            3            4  \\\n",
       "count  3017.000000  3017.000000  3017.000000  3017.000000  3017.000000   \n",
       "mean      0.544599     0.008744     0.186698     0.247565     0.376012   \n",
       "std       0.203830     0.039443     0.071255     0.081002     0.087422   \n",
       "min       0.000000     0.000000     0.000000     0.002103     0.000000   \n",
       "25%       0.376344     0.001094     0.156546     0.200935     0.328638   \n",
       "50%       0.569892     0.003019     0.190702     0.240654     0.375587   \n",
       "75%       0.709677     0.004717     0.203985     0.282710     0.399061   \n",
       "max       1.000000     1.000000     1.000000     1.000000     1.000000   \n",
       "\n",
       "                 5  \n",
       "count  3017.000000  \n",
       "mean      0.177055  \n",
       "std       0.054254  \n",
       "min       0.001311  \n",
       "25%       0.149180  \n",
       "50%       0.173770  \n",
       "75%       0.196721  \n",
       "max       0.726230  "
      ]
     },
     "execution_count": 11,
     "metadata": {},
     "output_type": "execute_result"
    }
   ],
   "source": [
    "# Check \n",
    "print(\"Training dataset features: \\n\")\n",
    "pd.DataFrame.info(X_train_dfThyroid)\n",
    "pd.DataFrame.describe(X_train_dfThyroid)"
   ]
  },
  {
   "cell_type": "code",
   "execution_count": 12,
   "id": "e282613c-5634-4642-8c66-28f125bbb6c8",
   "metadata": {},
   "outputs": [
    {
     "name": "stdout",
     "output_type": "stream",
     "text": [
      "\n",
      "Testing dataset features\n",
      "<class 'pandas.core.frame.DataFrame'>\n",
      "Index: 755 entries, 3528 to 3535\n",
      "Data columns (total 6 columns):\n",
      " #   Column  Non-Null Count  Dtype  \n",
      "---  ------  --------------  -----  \n",
      " 0   0       755 non-null    float64\n",
      " 1   1       755 non-null    float64\n",
      " 2   2       755 non-null    float64\n",
      " 3   3       755 non-null    float64\n",
      " 4   4       755 non-null    float64\n",
      " 5   5       755 non-null    float64\n",
      "dtypes: float64(6)\n",
      "memory usage: 41.3 KB\n"
     ]
    },
    {
     "data": {
      "text/html": [
       "<div>\n",
       "<style scoped>\n",
       "    .dataframe tbody tr th:only-of-type {\n",
       "        vertical-align: middle;\n",
       "    }\n",
       "\n",
       "    .dataframe tbody tr th {\n",
       "        vertical-align: top;\n",
       "    }\n",
       "\n",
       "    .dataframe thead th {\n",
       "        text-align: right;\n",
       "    }\n",
       "</style>\n",
       "<table border=\"1\" class=\"dataframe\">\n",
       "  <thead>\n",
       "    <tr style=\"text-align: right;\">\n",
       "      <th></th>\n",
       "      <th>0</th>\n",
       "      <th>1</th>\n",
       "      <th>2</th>\n",
       "      <th>3</th>\n",
       "      <th>4</th>\n",
       "      <th>5</th>\n",
       "    </tr>\n",
       "  </thead>\n",
       "  <tbody>\n",
       "    <tr>\n",
       "      <th>count</th>\n",
       "      <td>755.000000</td>\n",
       "      <td>755.000000</td>\n",
       "      <td>755.000000</td>\n",
       "      <td>755.000000</td>\n",
       "      <td>755.000000</td>\n",
       "      <td>755.000000</td>\n",
       "    </tr>\n",
       "    <tr>\n",
       "      <th>mean</th>\n",
       "      <td>0.537214</td>\n",
       "      <td>0.009941</td>\n",
       "      <td>0.187341</td>\n",
       "      <td>0.251397</td>\n",
       "      <td>0.380655</td>\n",
       "      <td>0.178282</td>\n",
       "    </tr>\n",
       "    <tr>\n",
       "      <th>std</th>\n",
       "      <td>0.203661</td>\n",
       "      <td>0.058725</td>\n",
       "      <td>0.066944</td>\n",
       "      <td>0.078843</td>\n",
       "      <td>0.087182</td>\n",
       "      <td>0.057467</td>\n",
       "    </tr>\n",
       "    <tr>\n",
       "      <th>min</th>\n",
       "      <td>0.000000</td>\n",
       "      <td>0.000000</td>\n",
       "      <td>0.004744</td>\n",
       "      <td>0.000000</td>\n",
       "      <td>0.042254</td>\n",
       "      <td>0.000000</td>\n",
       "    </tr>\n",
       "    <tr>\n",
       "      <th>25%</th>\n",
       "      <td>0.365591</td>\n",
       "      <td>0.001132</td>\n",
       "      <td>0.156546</td>\n",
       "      <td>0.207944</td>\n",
       "      <td>0.328638</td>\n",
       "      <td>0.150820</td>\n",
       "    </tr>\n",
       "    <tr>\n",
       "      <th>50%</th>\n",
       "      <td>0.569892</td>\n",
       "      <td>0.002830</td>\n",
       "      <td>0.190702</td>\n",
       "      <td>0.247664</td>\n",
       "      <td>0.375587</td>\n",
       "      <td>0.177049</td>\n",
       "    </tr>\n",
       "    <tr>\n",
       "      <th>75%</th>\n",
       "      <td>0.698925</td>\n",
       "      <td>0.004340</td>\n",
       "      <td>0.213472</td>\n",
       "      <td>0.280374</td>\n",
       "      <td>0.413146</td>\n",
       "      <td>0.196721</td>\n",
       "    </tr>\n",
       "    <tr>\n",
       "      <th>max</th>\n",
       "      <td>0.956989</td>\n",
       "      <td>0.901887</td>\n",
       "      <td>0.801708</td>\n",
       "      <td>0.698598</td>\n",
       "      <td>0.816901</td>\n",
       "      <td>1.000000</td>\n",
       "    </tr>\n",
       "  </tbody>\n",
       "</table>\n",
       "</div>"
      ],
      "text/plain": [
       "                0           1           2           3           4           5\n",
       "count  755.000000  755.000000  755.000000  755.000000  755.000000  755.000000\n",
       "mean     0.537214    0.009941    0.187341    0.251397    0.380655    0.178282\n",
       "std      0.203661    0.058725    0.066944    0.078843    0.087182    0.057467\n",
       "min      0.000000    0.000000    0.004744    0.000000    0.042254    0.000000\n",
       "25%      0.365591    0.001132    0.156546    0.207944    0.328638    0.150820\n",
       "50%      0.569892    0.002830    0.190702    0.247664    0.375587    0.177049\n",
       "75%      0.698925    0.004340    0.213472    0.280374    0.413146    0.196721\n",
       "max      0.956989    0.901887    0.801708    0.698598    0.816901    1.000000"
      ]
     },
     "execution_count": 12,
     "metadata": {},
     "output_type": "execute_result"
    }
   ],
   "source": [
    "print(\"\\nTesting dataset features\")\n",
    "pd.DataFrame.info(X_test_dfThyroid)\n",
    "pd.DataFrame.describe(X_test_dfThyroid)"
   ]
  },
  {
   "cell_type": "code",
   "execution_count": 13,
   "id": "dd44079c-1ed8-4e34-88f2-626d401658bb",
   "metadata": {},
   "outputs": [
    {
     "name": "stdout",
     "output_type": "stream",
     "text": [
      "\n",
      "Training dataset targets\n",
      "<class 'pandas.core.series.Series'>\n",
      "Index: 3017 entries, 1697 to 1315\n",
      "Series name: 6\n",
      "Non-Null Count  Dtype\n",
      "--------------  -----\n",
      "3017 non-null   int64\n",
      "dtypes: int64(1)\n",
      "memory usage: 47.1 KB\n",
      "None\n",
      "count    3017.000000\n",
      "mean        0.024528\n",
      "std         0.154706\n",
      "min         0.000000\n",
      "25%         0.000000\n",
      "50%         0.000000\n",
      "75%         0.000000\n",
      "max         1.000000\n",
      "Name: 6, dtype: float64\n"
     ]
    }
   ],
   "source": [
    "# Check \n",
    "print(\"\\nTraining dataset targets\")\n",
    "print(y_train_dfThyroid.info())\n",
    "print(y_train_dfThyroid.describe())"
   ]
  },
  {
   "cell_type": "code",
   "execution_count": 14,
   "id": "8af5f7a0-5eb0-4852-a118-6d26f476e252",
   "metadata": {},
   "outputs": [
    {
     "name": "stdout",
     "output_type": "stream",
     "text": [
      "\n",
      "Testing dataset targets\n",
      "<class 'pandas.core.series.Series'>\n",
      "Index: 755 entries, 3528 to 3535\n",
      "Series name: 6\n",
      "Non-Null Count  Dtype\n",
      "--------------  -----\n",
      "755 non-null    int64\n",
      "dtypes: int64(1)\n",
      "memory usage: 11.8 KB\n",
      "None\n",
      "count    3017.000000\n",
      "mean        0.024528\n",
      "std         0.154706\n",
      "min         0.000000\n",
      "25%         0.000000\n",
      "50%         0.000000\n",
      "75%         0.000000\n",
      "max         1.000000\n",
      "Name: 6, dtype: float64\n"
     ]
    }
   ],
   "source": [
    "# Check test targets\n",
    "print(\"\\nTesting dataset targets\")\n",
    "print(y_test_dfThyroid.info())\n",
    "print(y_train_dfThyroid.describe())"
   ]
  },
  {
   "cell_type": "markdown",
   "id": "12c12e50-acbb-4566-af9f-6048f32109b2",
   "metadata": {},
   "source": [
    "## 2. Quantify the number of outliers"
   ]
  },
  {
   "cell_type": "markdown",
   "id": "85628043-cd2d-4aef-a238-f877f026e9bb",
   "metadata": {},
   "source": [
    "#### On the full dataset"
   ]
  },
  {
   "cell_type": "code",
   "execution_count": 15,
   "id": "4912b26e-9138-4294-b6be-a2d0ca085621",
   "metadata": {},
   "outputs": [
    {
     "name": "stdout",
     "output_type": "stream",
     "text": [
      "Number of outliers in entire dataset: 93\n"
     ]
    }
   ],
   "source": [
    "# Count the number of outliers\n",
    "# outlier_count = dfThyroid[dfThyroid.iloc[:, target_class_name] == 1].shape[0]\n",
    "outlier_count = dfThyroid[dfThyroid[target_class_name] == 1].shape[0]\n",
    "\n",
    "print(f\"Number of outliers in entire dataset: {outlier_count}\")"
   ]
  },
  {
   "cell_type": "markdown",
   "id": "b282c93b-9363-4e80-992a-02a1236dd9a2",
   "metadata": {},
   "source": [
    "#### For train and test datasets (split into series y_train and y_test)"
   ]
  },
  {
   "cell_type": "code",
   "execution_count": 16,
   "id": "d881a9cb-0da9-4161-81cd-18f0885170a9",
   "metadata": {},
   "outputs": [
    {
     "name": "stdout",
     "output_type": "stream",
     "text": [
      "Number of outliers in training dataset: 74\n",
      "Number of outliers in test dataset: 19\n"
     ]
    }
   ],
   "source": [
    "# Count the number of outliers in Train and Test\n",
    "# train_outlier_count = train_dfThyroid[train_dfThyroid.iloc[:, target_class_name] == 1].shape[0]\n",
    "# train_outlier_count = y_train_dfThyroid[y_train_dfThyroid[target_class_name] == 1].shape[0]\n",
    "\n",
    "# y_train_dfThyroid = y_train_dfThyroid[target_class_name].squeeze()   # This ensures that y_dfThyroid is a series \n",
    "train_outlier_count = (y_train_dfThyroid == 1).sum()\n",
    "print(f\"Number of outliers in training dataset: {train_outlier_count}\")\n",
    "\n",
    "# Works for dataframe and not for series\n",
    "# test_outlier_count = test_dfThyroid[test_dfThyroid.iloc[:, target_class_name] == 1].shape[0]\n",
    "test_outlier_count = (y_test_dfThyroid == 1).sum()\n",
    "print(f\"Number of outliers in test dataset: {test_outlier_count}\")"
   ]
  },
  {
   "cell_type": "markdown",
   "id": "e00bbb33-4368-4f8b-9683-ef9d6f28919a",
   "metadata": {},
   "source": [
    "## 3. Separate out samples corresponding to the inliers\n",
    "#### Calculate Number of Outliers in the Entire Data Set "
   ]
  },
  {
   "cell_type": "markdown",
   "id": "b8238d78-44e6-4a21-b66e-81dfb157f2a0",
   "metadata": {},
   "source": [
    "##### Note: Targets are now floats rather than integers?? Check back whether this affects the calculations (checking equality of floats is problematic in Python)"
   ]
  },
  {
   "cell_type": "code",
   "execution_count": 17,
   "id": "38ed8639-2564-4305-92ab-4d9c57d5ddd3",
   "metadata": {},
   "outputs": [
    {
     "name": "stdout",
     "output_type": "stream",
     "text": [
      "Number of training inliers: 3679\n",
      "Number of training outliers: 93\n"
     ]
    }
   ],
   "source": [
    "# Separate training inliers and outliers records \n",
    "# total_inliers = dfThyroid[dfThyroid.iloc[:, target_class_name] == 0]\n",
    "# total_outliers = dfThyroid[dfThyroid.iloc[:, target_class_name] == 1]\n",
    "\n",
    "total_inliers = dfThyroid[dfThyroid[target_class_name] == 0]\n",
    "total_outliers = dfThyroid[dfThyroid[target_class_name] == 1]\n",
    "\n",
    "# Display the shape of inliers and outliers DataFrames\n",
    "print(f\"Number of training inliers: {total_inliers.shape[0]}\")\n",
    "print(f\"Number of training outliers: {total_outliers.shape[0]}\")"
   ]
  },
  {
   "cell_type": "markdown",
   "id": "2f465b67-a768-4731-9190-f6cdd21693a5",
   "metadata": {},
   "source": [
    "#### Calculate Proportion of Outliers \n",
    "##### Note: Targets are now floats rather than integers?? Check back whether this affects the calculations (checking equality of floats is problematic in Python)"
   ]
  },
  {
   "cell_type": "code",
   "execution_count": 18,
   "id": "59fc3dee-5fb3-4b62-8e3b-dd2d7741dd20",
   "metadata": {},
   "outputs": [],
   "source": [
    "outliers_fraction = total_outliers.shape[0] / (dfThyroid.shape[0]) \n",
    "inliers_fraction =  total_inliers.shape[0] / (dfThyroid.shape[0])"
   ]
  },
  {
   "cell_type": "code",
   "execution_count": 19,
   "id": "c8d3a30f-ff5e-438d-a1d5-fe5a606f86a5",
   "metadata": {},
   "outputs": [
    {
     "name": "stdout",
     "output_type": "stream",
     "text": [
      "\n",
      "Inlier percentage is: 97.534%\n",
      "Outlier percentage is: 2.466%\n"
     ]
    }
   ],
   "source": [
    "# Display the shape of inliers and outliers DataFrames\n",
    "# Note: Adding % to the format string converts a proportion to a percentage\n",
    "print(f\"\\nInlier percentage is: {inliers_fraction:.3%}\")\n",
    "print(f\"Outlier percentage is: {outliers_fraction:.3%}\")\n",
    "\n",
    "# NOT assigning the rounded value to the outliers_fraction - leaving as calculated\n",
    "# outliers_fraction= 0.025 # Almost the calculated value\n",
    "\n",
    "#We will use a multiple of this as the nu or contamination factor to tell the model how many to expect"
   ]
  },
  {
   "cell_type": "code",
   "execution_count": 20,
   "id": "4c7c5c81-4d48-47b5-a3ef-ec6abca3afb1",
   "metadata": {},
   "outputs": [
    {
     "name": "stderr",
     "output_type": "stream",
     "text": [
      "/tmp/ipykernel_27866/679114168.py:2: FutureWarning: pandas.value_counts is deprecated and will be removed in a future version. Use pd.Series(obj).value_counts() instead.\n",
      "  pd.value_counts(dfThyroid[target_class_name]).plot.bar()\n"
     ]
    },
    {
     "data": {
      "text/plain": [
       "6\n",
       "0    3679\n",
       "1      93\n",
       "Name: count, dtype: int64"
      ]
     },
     "execution_count": 20,
     "metadata": {},
     "output_type": "execute_result"
    },
    {
     "data": {
      "image/png": "[encoded data removed]",
      "text/plain": [
       "<Figure size 600x400 with 1 Axes>"
      ]
     },
     "metadata": {},
     "output_type": "display_data"
    }
   ],
   "source": [
    "plt.figure(figsize=(6,4))\n",
    "pd.value_counts(dfThyroid[target_class_name]).plot.bar()\n",
    "plt.title('Histogram of class distributions')\n",
    "plt.xlabel(labels[1])\n",
    "plt.xticks(rotation=0)\n",
    "plt.ylabel('Frequency')\n",
    "dfThyroid[target_class_name].value_counts()"
   ]
  },
  {
   "cell_type": "markdown",
   "id": "3dcddc16-d208-409b-8c1a-5d1d7a1ed272",
   "metadata": {},
   "source": [
    "## 4. Prepare Training and Test Data\n",
    "### Prepare Training Data"
   ]
  },
  {
   "cell_type": "code",
   "execution_count": 21,
   "id": "62863eca-b4ac-4302-bfc1-cd6b098f3072",
   "metadata": {},
   "outputs": [
    {
     "data": {
      "text/plain": [
       "(2943, 6)"
      ]
     },
     "execution_count": 21,
     "metadata": {},
     "output_type": "execute_result"
    }
   ],
   "source": [
    "# concatenate X_train with y_train to be able to identify the training samples that are outliers \n",
    "#   Then in the same step filter the outliers and drop the targets\n",
    "train_dfThyroid = pd.concat([X_train_dfThyroid, y_train_dfThyroid], axis=1)\n",
    "train_X_inliers = train_dfThyroid[train_dfThyroid[target_class_name]==0].drop(target_class_name, axis=1)\n",
    "\n",
    "# We will use inlier_X_train as the input dataset\n",
    "train_X_inliers.shape\n",
    "# That makes sense to have 3017 - 74= 2943 samples\n",
    "\n",
    "# train_X_inliers.describe()"
   ]
  },
  {
   "cell_type": "markdown",
   "id": "b274d90a-a8ce-47bc-8092-095ef9985868",
   "metadata": {},
   "source": [
    "### Prepare Testing Data"
   ]
  },
  {
   "cell_type": "code",
   "execution_count": 22,
   "id": "d097d6e7-6346-4d45-b952-f89e1af0d85e",
   "metadata": {},
   "outputs": [
    {
     "data": {
      "text/html": [
       "<div>\n",
       "<style scoped>\n",
       "    .dataframe tbody tr th:only-of-type {\n",
       "        vertical-align: middle;\n",
       "    }\n",
       "\n",
       "    .dataframe tbody tr th {\n",
       "        vertical-align: top;\n",
       "    }\n",
       "\n",
       "    .dataframe thead th {\n",
       "        text-align: right;\n",
       "    }\n",
       "</style>\n",
       "<table border=\"1\" class=\"dataframe\">\n",
       "  <thead>\n",
       "    <tr style=\"text-align: right;\">\n",
       "      <th></th>\n",
       "      <th>0</th>\n",
       "      <th>1</th>\n",
       "      <th>2</th>\n",
       "      <th>3</th>\n",
       "      <th>4</th>\n",
       "      <th>5</th>\n",
       "    </tr>\n",
       "  </thead>\n",
       "  <tbody>\n",
       "    <tr>\n",
       "      <th>count</th>\n",
       "      <td>736.000000</td>\n",
       "      <td>736.000000</td>\n",
       "      <td>736.000000</td>\n",
       "      <td>736.000000</td>\n",
       "      <td>736.000000</td>\n",
       "      <td>736.000000</td>\n",
       "    </tr>\n",
       "    <tr>\n",
       "      <th>mean</th>\n",
       "      <td>0.539030</td>\n",
       "      <td>0.004146</td>\n",
       "      <td>0.189716</td>\n",
       "      <td>0.255958</td>\n",
       "      <td>0.379759</td>\n",
       "      <td>0.181601</td>\n",
       "    </tr>\n",
       "    <tr>\n",
       "      <th>std</th>\n",
       "      <td>0.203303</td>\n",
       "      <td>0.006690</td>\n",
       "      <td>0.065348</td>\n",
       "      <td>0.074121</td>\n",
       "      <td>0.087079</td>\n",
       "      <td>0.054053</td>\n",
       "    </tr>\n",
       "    <tr>\n",
       "      <th>min</th>\n",
       "      <td>0.000000</td>\n",
       "      <td>0.000000</td>\n",
       "      <td>0.004744</td>\n",
       "      <td>0.070093</td>\n",
       "      <td>0.042254</td>\n",
       "      <td>0.054098</td>\n",
       "    </tr>\n",
       "    <tr>\n",
       "      <th>25%</th>\n",
       "      <td>0.365591</td>\n",
       "      <td>0.001132</td>\n",
       "      <td>0.156546</td>\n",
       "      <td>0.210280</td>\n",
       "      <td>0.328638</td>\n",
       "      <td>0.152459</td>\n",
       "    </tr>\n",
       "    <tr>\n",
       "      <th>50%</th>\n",
       "      <td>0.569892</td>\n",
       "      <td>0.002830</td>\n",
       "      <td>0.190702</td>\n",
       "      <td>0.250000</td>\n",
       "      <td>0.375587</td>\n",
       "      <td>0.177049</td>\n",
       "    </tr>\n",
       "    <tr>\n",
       "      <th>75%</th>\n",
       "      <td>0.698925</td>\n",
       "      <td>0.003925</td>\n",
       "      <td>0.213472</td>\n",
       "      <td>0.282710</td>\n",
       "      <td>0.413146</td>\n",
       "      <td>0.198361</td>\n",
       "    </tr>\n",
       "    <tr>\n",
       "      <th>max</th>\n",
       "      <td>0.956989</td>\n",
       "      <td>0.094340</td>\n",
       "      <td>0.801708</td>\n",
       "      <td>0.698598</td>\n",
       "      <td>0.816901</td>\n",
       "      <td>1.000000</td>\n",
       "    </tr>\n",
       "  </tbody>\n",
       "</table>\n",
       "</div>"
      ],
      "text/plain": [
       "                0           1           2           3           4           5\n",
       "count  736.000000  736.000000  736.000000  736.000000  736.000000  736.000000\n",
       "mean     0.539030    0.004146    0.189716    0.255958    0.379759    0.181601\n",
       "std      0.203303    0.006690    0.065348    0.074121    0.087079    0.054053\n",
       "min      0.000000    0.000000    0.004744    0.070093    0.042254    0.054098\n",
       "25%      0.365591    0.001132    0.156546    0.210280    0.328638    0.152459\n",
       "50%      0.569892    0.002830    0.190702    0.250000    0.375587    0.177049\n",
       "75%      0.698925    0.003925    0.213472    0.282710    0.413146    0.198361\n",
       "max      0.956989    0.094340    0.801708    0.698598    0.816901    1.000000"
      ]
     },
     "execution_count": 22,
     "metadata": {},
     "output_type": "execute_result"
    }
   ],
   "source": [
    "# concatenate X_train with y_train to be able to identify the testing samples that are outliers \n",
    "#   Then in the same step filter the outliers and drop the targets\n",
    "test_dfThyroid = pd.concat([X_test_dfThyroid, y_test_dfThyroid], axis=1)\n",
    "test_X_inliers = test_dfThyroid[test_dfThyroid[target_class_name]==0].drop(target_class_name, axis=1)\n",
    "\n",
    "# We will use inlier_X_test as the input dataset\n",
    "test_X_inliers.shape\n",
    "test_X_inliers.describe()"
   ]
  },
  {
   "cell_type": "markdown",
   "id": "4021244e-6efb-4995-9b11-c66bf6d1a908",
   "metadata": {},
   "source": [
    "## 5AB Initialise"
   ]
  },
  {
   "cell_type": "markdown",
   "id": "ec21fcfa-5430-4e89-90ab-6016deb70e7c",
   "metadata": {},
   "source": [
    "#### Initialize dictionaries to store the instantiated models and metrics"
   ]
  },
  {
   "cell_type": "markdown",
   "id": "abdabb95-86a9-403d-af38-855e9f30597f",
   "metadata": {},
   "source": [
    "## NOTE: In the Full Solution this function was declared in the SVM section"
   ]
  },
  {
   "cell_type": "code",
   "execution_count": 23,
   "id": "add8efca-63d4-4176-8138-678dafd4e84f",
   "metadata": {},
   "outputs": [],
   "source": [
    "# Reuse the same function from the starter template\n",
    "def custom_classification_metrics_function(X_test, y_test, labels, classifier):\n",
    "    '''\n",
    "    Args: The features and the target column; the labels are the categories, sklearn classifier object\n",
    "    Calculates Classification metrics of interest\n",
    "    Returns: A dictionary containing the classification metrics\n",
    "    '''\n",
    "\n",
    "    # Generate the predictions on the test data which forms the basis of the evaluation metrics\n",
    "    test_pred = classifier.predict(X_test)\n",
    "        \n",
    "    # This is to convert the output labels so that the confusion matrix and the accuracy scores work correctly\n",
    "    # The anomalies identified by sklearn are labelled as -1 but we want them to recognized as 1, so we flip the labels\n",
    "    test_pred = test_pred*-1\n",
    "    test_pred[test_pred==-1]=0\n",
    "    \n",
    "    ### Classification report\n",
    "    print(classification_report(y_test, test_pred, target_names=labels))\n",
    "\n",
    "    ### Probability scores\n",
    "    \n",
    "    # Unlike the usual classifiers, Anomaly detection algorithms don't have a predict_proba() method that can be applied\n",
    "    # Instead we have to get the raw scores from the decision function applied on the test data\n",
    "    decision_score_list = classifier.decision_function(X_test)\n",
    "    \n",
    "    # ......and turn them into numbers between 0 and 1 which can be treated as probabilities\n",
    "    scaled_decision_score_list = MinMaxScaler().fit_transform(decision_score_list.reshape(-1, 1))\n",
    "\n",
    "    # This is just to flatten the list and subtract the no.s so that the outliers are closer to 1 rather than 0\n",
    "    y_scores = [1-item for sublist in scaled_decision_score_list for item in sublist]\n",
    "\n",
    "\n",
    "    ### Confusion Matrix\n",
    "    confusion_matrix_test_object = confusion_matrix(y_test, test_pred)\n",
    "                \n",
    "    # Initialize a dictionary to store the metrics we are interested in\n",
    "    metrics_dict = Counter()\n",
    "\n",
    "    # These are all the basic threshold-dependent metrics\n",
    "    metrics_dict['Accuracy']  = float(\"{0:.4f}\".format(accuracy_score(y_test, test_pred)))    #### Initialize dictionaries to store the instantiated models and metricsat(\"{0:.4f}\".format(accuracy_score(y_test, test_pred)))\n",
    "\n",
    "    # The following are more useful than the accuracy\n",
    "    metrics_dict['Precision'] = float(\"{0:.4f}\".format(precision_score(y_test, test_pred, average='macro')))\n",
    "    metrics_dict['Recall'] = float(\"{0:.4f}\".format(recall_score(y_test, test_pred, average='macro')))\n",
    "    metrics_dict['F1'] = float(\"{0:.4f}\".format(f1_score(y_test, test_pred, average='macro')))\n",
    "\n",
    "    metrics_dict['TN'] = confusion_matrix_test_object[0][0]\n",
    "    metrics_dict['TP'] = confusion_matrix_test_object[1][1]\n",
    "    metrics_dict['FN'] = confusion_matrix_test_object[1][0]\n",
    "    metrics_dict['FP'] = confusion_matrix_test_object[0][1]\n",
    "\n",
    "    # These two are threshold-invariant metrics\n",
    "    metrics_dict['ROC AUC'] = float(\"{0:.4f}\".format(roc_auc_score(y_test, y_scores)))\n",
    "    metrics_dict['Average_Precision'] = float(\"{0:.4f}\".format(\n",
    "                                        average_precision_score(y_test, y_scores, average='macro', sample_weight=None)))\n",
    "\n",
    "    return metrics_dict, confusion_matrix_test_object   # Added also return conf matrix test obj 12 July 2024"
   ]
  },
  {
   "cell_type": "code",
   "execution_count": 24,
   "id": "794d148d-5ba3-40f4-b76d-75b00dc4c4fd",
   "metadata": {},
   "outputs": [
    {
     "data": {
      "text/html": [
       "<div>\n",
       "<style scoped>\n",
       "    .dataframe tbody tr th:only-of-type {\n",
       "        vertical-align: middle;\n",
       "    }\n",
       "\n",
       "    .dataframe tbody tr th {\n",
       "        vertical-align: top;\n",
       "    }\n",
       "\n",
       "    .dataframe thead th {\n",
       "        text-align: right;\n",
       "    }\n",
       "</style>\n",
       "<table border=\"1\" class=\"dataframe\">\n",
       "  <thead>\n",
       "    <tr style=\"text-align: right;\">\n",
       "      <th></th>\n",
       "      <th>Accuracy</th>\n",
       "      <th>Precision</th>\n",
       "      <th>Recall</th>\n",
       "      <th>F1</th>\n",
       "      <th>ROC AUC</th>\n",
       "      <th>FN</th>\n",
       "      <th>TP</th>\n",
       "      <th>FP</th>\n",
       "      <th>TN</th>\n",
       "      <th>Average_Precision</th>\n",
       "    </tr>\n",
       "  </thead>\n",
       "  <tbody>\n",
       "    <tr>\n",
       "      <th>Robust covariance outliers 4x</th>\n",
       "      <td>NaN</td>\n",
       "      <td>NaN</td>\n",
       "      <td>NaN</td>\n",
       "      <td>NaN</td>\n",
       "      <td>NaN</td>\n",
       "      <td>NaN</td>\n",
       "      <td>NaN</td>\n",
       "      <td>NaN</td>\n",
       "      <td>NaN</td>\n",
       "      <td>NaN</td>\n",
       "    </tr>\n",
       "    <tr>\n",
       "      <th>Robust covariance outliers 2x</th>\n",
       "      <td>NaN</td>\n",
       "      <td>NaN</td>\n",
       "      <td>NaN</td>\n",
       "      <td>NaN</td>\n",
       "      <td>NaN</td>\n",
       "      <td>NaN</td>\n",
       "      <td>NaN</td>\n",
       "      <td>NaN</td>\n",
       "      <td>NaN</td>\n",
       "      <td>NaN</td>\n",
       "    </tr>\n",
       "    <tr>\n",
       "      <th>Robust covariance outliers 1x</th>\n",
       "      <td>NaN</td>\n",
       "      <td>NaN</td>\n",
       "      <td>NaN</td>\n",
       "      <td>NaN</td>\n",
       "      <td>NaN</td>\n",
       "      <td>NaN</td>\n",
       "      <td>NaN</td>\n",
       "      <td>NaN</td>\n",
       "      <td>NaN</td>\n",
       "      <td>NaN</td>\n",
       "    </tr>\n",
       "  </tbody>\n",
       "</table>\n",
       "</div>"
      ],
      "text/plain": [
       "                              Accuracy Precision Recall   F1 ROC AUC   FN  \\\n",
       "Robust covariance outliers 4x      NaN       NaN    NaN  NaN     NaN  NaN   \n",
       "Robust covariance outliers 2x      NaN       NaN    NaN  NaN     NaN  NaN   \n",
       "Robust covariance outliers 1x      NaN       NaN    NaN  NaN     NaN  NaN   \n",
       "\n",
       "                                TP   FP   TN Average_Precision  \n",
       "Robust covariance outliers 4x  NaN  NaN  NaN               NaN  \n",
       "Robust covariance outliers 2x  NaN  NaN  NaN               NaN  \n",
       "Robust covariance outliers 1x  NaN  NaN  NaN               NaN  "
      ]
     },
     "execution_count": 24,
     "metadata": {},
     "output_type": "execute_result"
    }
   ],
   "source": [
    "classifier_dict ={\n",
    "    \"Robust covariance outliers 4x\": EllipticEnvelope(contamination=outliers_fraction*4),\n",
    "    \"Robust covariance outliers 2x\": EllipticEnvelope(contamination=outliers_fraction*2),\n",
    "    \"Robust covariance outliers 1x\": EllipticEnvelope(contamination=outliers_fraction)\n",
    "}\n",
    "\n",
    "metrics_df = pd.DataFrame(\n",
    "columns = ['Accuracy','Precision','Recall','F1', 'ROC AUC', \n",
    "           'FN','TP','FP','TN', 'Average_Precision'],\n",
    "index = [classifier_name for classifier_name in classifier_dict.keys()])\n",
    "\n",
    "metrics_df"
   ]
  },
  {
   "cell_type": "markdown",
   "id": "763e82f5-5239-4720-af9f-cda050cfc71e",
   "metadata": {},
   "source": [
    "## 6B. Run the variants of the model with different options and print out"
   ]
  },
  {
   "cell_type": "markdown",
   "id": "244264dc-833f-4614-87fb-8cd295a451f7",
   "metadata": {},
   "source": [
    "#### Run the various classifiers and store the metrics"
   ]
  },
  {
   "cell_type": "code",
   "execution_count": 25,
   "id": "533e1a84-ee1c-4c52-9ca5-c2f1f12a0aba",
   "metadata": {},
   "outputs": [
    {
     "name": "stdout",
     "output_type": "stream",
     "text": [
      "***********\n",
      "Robust covariance outliers 4x\n",
      "              precision    recall  f1-score   support\n",
      "\n",
      "     inliers       1.00      0.91      0.95       736\n",
      "    outliers       0.22      0.95      0.36        19\n",
      "\n",
      "    accuracy                           0.91       755\n",
      "   macro avg       0.61      0.93      0.66       755\n",
      "weighted avg       0.98      0.91      0.94       755\n",
      "\n",
      "Counter({'TN': 672, 'FP': 64, 'TP': 18, 'FN': 1, 'ROC AUC': 0.9861, 'Recall': 0.9302, 'Accuracy': 0.9139, 'Average_Precision': 0.7767, 'F1': 0.6552, 'Precision': 0.609})\n",
      "***********\n",
      "Robust covariance outliers 2x\n",
      "              precision    recall  f1-score   support\n",
      "\n",
      "     inliers       1.00      0.96      0.98       736\n",
      "    outliers       0.38      0.95      0.54        19\n",
      "\n",
      "    accuracy                           0.96       755\n",
      "   macro avg       0.69      0.95      0.76       755\n",
      "weighted avg       0.98      0.96      0.97       755\n",
      "\n",
      "Counter({'TN': 706, 'FP': 30, 'TP': 18, 'FN': 1, 'ROC AUC': 0.9858, 'Accuracy': 0.9589, 'Recall': 0.9533, 'Average_Precision': 0.7728, 'F1': 0.7579, 'Precision': 0.6868})\n",
      "***********\n",
      "Robust covariance outliers 1x\n",
      "              precision    recall  f1-score   support\n",
      "\n",
      "     inliers       0.99      0.99      0.99       736\n",
      "    outliers       0.60      0.79      0.68        19\n",
      "\n",
      "    accuracy                           0.98       755\n",
      "   macro avg       0.80      0.89      0.84       755\n",
      "weighted avg       0.98      0.98      0.98       755\n",
      "\n",
      "Counter({'TN': 726, 'TP': 15, 'FP': 10, 'FN': 4, 'ROC AUC': 0.9858, 'Accuracy': 0.9815, 'Recall': 0.8879, 'F1': 0.8361, 'Precision': 0.7973, 'Average_Precision': 0.7728})\n"
     ]
    }
   ],
   "source": [
    "for classifier_name, classifier in classifier_dict.items(): \n",
    "    classifier.fit(train_X_inliers)\n",
    "    print('***********') \n",
    "    print(classifier_name) \n",
    "    metrics_dict, confusion_matrix_object = custom_classification_metrics_function(X_test_dfThyroid, y_test_dfThyroid, labels, classifier)\n",
    "    print(metrics_dict)\n",
    "    \n",
    "    # store the metrics as a single row in the dataframe against each classifier name\n",
    "    metrics_df.loc[classifier_name] = metrics_dict"
   ]
  },
  {
   "cell_type": "markdown",
   "id": "1669abe8-b3d6-4ea9-b4dd-a56bfebf189c",
   "metadata": {},
   "source": [
    "#### Describe the performance "
   ]
  },
  {
   "cell_type": "code",
   "execution_count": 26,
   "id": "6c21a747-0283-4688-92b2-67e1254c973b",
   "metadata": {},
   "outputs": [
    {
     "data": {
      "text/html": [
       "<div>\n",
       "<style scoped>\n",
       "    .dataframe tbody tr th:only-of-type {\n",
       "        vertical-align: middle;\n",
       "    }\n",
       "\n",
       "    .dataframe tbody tr th {\n",
       "        vertical-align: top;\n",
       "    }\n",
       "\n",
       "    .dataframe thead th {\n",
       "        text-align: right;\n",
       "    }\n",
       "</style>\n",
       "<table border=\"1\" class=\"dataframe\">\n",
       "  <thead>\n",
       "    <tr style=\"text-align: right;\">\n",
       "      <th></th>\n",
       "      <th>Accuracy</th>\n",
       "      <th>Precision</th>\n",
       "      <th>Recall</th>\n",
       "      <th>F1</th>\n",
       "      <th>ROC AUC</th>\n",
       "      <th>FN</th>\n",
       "      <th>TP</th>\n",
       "      <th>FP</th>\n",
       "      <th>TN</th>\n",
       "      <th>Average_Precision</th>\n",
       "    </tr>\n",
       "  </thead>\n",
       "  <tbody>\n",
       "    <tr>\n",
       "      <th>Robust covariance outliers 4x</th>\n",
       "      <td>0.9139</td>\n",
       "      <td>0.609</td>\n",
       "      <td>0.9302</td>\n",
       "      <td>0.6552</td>\n",
       "      <td>0.9861</td>\n",
       "      <td>1.0</td>\n",
       "      <td>18.0</td>\n",
       "      <td>64.0</td>\n",
       "      <td>672.0</td>\n",
       "      <td>0.7767</td>\n",
       "    </tr>\n",
       "    <tr>\n",
       "      <th>Robust covariance outliers 2x</th>\n",
       "      <td>0.9589</td>\n",
       "      <td>0.6868</td>\n",
       "      <td>0.9533</td>\n",
       "      <td>0.7579</td>\n",
       "      <td>0.9858</td>\n",
       "      <td>1.0</td>\n",
       "      <td>18.0</td>\n",
       "      <td>30.0</td>\n",
       "      <td>706.0</td>\n",
       "      <td>0.7728</td>\n",
       "    </tr>\n",
       "    <tr>\n",
       "      <th>Robust covariance outliers 1x</th>\n",
       "      <td>0.9815</td>\n",
       "      <td>0.7973</td>\n",
       "      <td>0.8879</td>\n",
       "      <td>0.8361</td>\n",
       "      <td>0.9858</td>\n",
       "      <td>4.0</td>\n",
       "      <td>15.0</td>\n",
       "      <td>10.0</td>\n",
       "      <td>726.0</td>\n",
       "      <td>0.7728</td>\n",
       "    </tr>\n",
       "  </tbody>\n",
       "</table>\n",
       "</div>"
      ],
      "text/plain": [
       "                              Accuracy Precision  Recall      F1 ROC AUC   FN  \\\n",
       "Robust covariance outliers 4x   0.9139     0.609  0.9302  0.6552  0.9861  1.0   \n",
       "Robust covariance outliers 2x   0.9589    0.6868  0.9533  0.7579  0.9858  1.0   \n",
       "Robust covariance outliers 1x   0.9815    0.7973  0.8879  0.8361  0.9858  4.0   \n",
       "\n",
       "                                 TP    FP     TN Average_Precision  \n",
       "Robust covariance outliers 4x  18.0  64.0  672.0            0.7767  \n",
       "Robust covariance outliers 2x  18.0  30.0  706.0            0.7728  \n",
       "Robust covariance outliers 1x  15.0  10.0  726.0            0.7728  "
      ]
     },
     "execution_count": 26,
     "metadata": {},
     "output_type": "execute_result"
    }
   ],
   "source": [
    "metrics_df"
   ]
  },
  {
   "cell_type": "markdown",
   "id": "8d3af380-897b-4fe8-a926-ce10cbd5a0db",
   "metadata": {},
   "source": [
    "## 7B. Describe Performance "
   ]
  },
  {
   "cell_type": "markdown",
   "id": "940142b6-de95-456f-ac25-8a4e5db775a0",
   "metadata": {},
   "source": [
    "### The Recall performance of the Robust Covariance with contamination factor being 4x the outliers fraction has slightly better Recall than the one with 2x\n",
    "### Overall, Robust Covariance is significantly better than OCSVM. "
   ]
  },
  {
   "cell_type": "markdown",
   "id": "7e05f68f-1471-4ca5-8cc7-6e07b6b7c382",
   "metadata": {},
   "source": [
    "###"
   ]
  },
  {
   "cell_type": "markdown",
   "id": "ff0079be-8e75-4f28-b99d-5e13d07cec53",
   "metadata": {},
   "source": [
    "## 8B. Plot Metrics and Confusion Matrix"
   ]
  },
  {
   "cell_type": "code",
   "execution_count": 27,
   "id": "9d772fbe-6516-4bbf-a83e-395a9e03f4fc",
   "metadata": {},
   "outputs": [
    {
     "data": {
      "image/png": "[encoded data removed]",
      "text/plain": [
       "<Figure size 1000x600 with 1 Axes>"
      ]
     },
     "metadata": {},
     "output_type": "display_data"
    }
   ],
   "source": [
    "# Plot the metrics\n",
    "metrics_to_plot = ['Accuracy', 'Precision', 'Recall', 'F1']\n",
    "metrics_df[metrics_to_plot].plot(kind='bar', figsize=(10, 6))\n",
    "plt.title('Model Performance Metrics')\n",
    "plt.ylabel('Score')\n",
    "plt.xticks(rotation=45)\n",
    "plt.legend(loc='lower right')\n",
    "plt.show()"
   ]
  },
  {
   "cell_type": "markdown",
   "id": "7090418f-7701-405c-a306-6fd7aae01c08",
   "metadata": {},
   "source": [
    "## The Confusion Matrix values are not plotted correctly as the order in which they are stored does not match convention and only the first plot is given"
   ]
  },
  {
   "cell_type": "code",
   "execution_count": 28,
   "id": "da21fb18-b22a-4ab9-8dbc-fbd1b5c6d49f",
   "metadata": {},
   "outputs": [],
   "source": [
    "def plot_confusion_matrix(conf_matr, title='Confusion Matrix', labels=['Inliers', 'Outliers']):\n",
    "    plt.figure(figsize=(8, 6))\n",
    "    sns.heatmap(conf_matr, annot=True, fmt=\"d\", cmap='Blues', xticklabels=labels, yticklabels=labels)\n",
    "    plt.title(title)\n",
    "    plt.ylabel('True Label')\n",
    "    plt.xlabel('Predicted Label')\n",
    "    plt.show()"
   ]
  },
  {
   "cell_type": "code",
   "execution_count": 29,
   "id": "e2bca217-7792-4d4c-be76-e521ba1fb08f",
   "metadata": {},
   "outputs": [
    {
     "data": {
      "image/png": "[encoded data removed]",
      "text/plain": [
       "<Figure size 800x600 with 2 Axes>"
      ]
     },
     "metadata": {},
     "output_type": "display_data"
    }
   ],
   "source": [
    "# Call the plot function for the CM\n",
    "plot_confusion_matrix(confusion_matrix_object, title='Confusion Matrix for Robust Covariane Outliers 4x')"
   ]
  },
  {
   "cell_type": "markdown",
   "id": "c73b2857-616a-45c4-a8bb-20192a6bb890",
   "metadata": {},
   "source": [
    "### NOT RESOLVED YET: Concatenating model results from different notebooks"
   ]
  },
  {
   "cell_type": "code",
   "execution_count": null,
   "id": "3e6ddaca-0996-48ff-8155-49ad3b106f37",
   "metadata": {},
   "outputs": [],
   "source": []
  },
  {
   "cell_type": "code",
   "execution_count": null,
   "id": "245331bf-3b9f-4aaa-8d77-914f50f121ec",
   "metadata": {},
   "outputs": [],
   "source": []
  },
  {
   "cell_type": "code",
   "execution_count": 30,
   "id": "72e14a3b-f1a3-4222-a5ed-55b877319726",
   "metadata": {},
   "outputs": [],
   "source": [
    "# NOTE: Confusion Matrix Convention:\n",
    "# Top Row:\n",
    "# TP: Correctly predicted positive instances.\n",
    "# FN: Incorrectly predicted negative instances.\n",
    "\n",
    "# Bottom Row:\n",
    "# FP: Incorrectly predicted positive instances.\n",
    "# TN: Correctly predicted negative instances."
   ]
  },
  {
   "cell_type": "code",
   "execution_count": null,
   "id": "d65ffe2d-149f-47a3-9f67-9a17203b7db0",
   "metadata": {},
   "outputs": [],
   "source": []
  },
  {
   "cell_type": "markdown",
   "id": "98b090e0-7d33-49e1-8350-641cc61548a2",
   "metadata": {},
   "source": [
    "#### =================================== CODE FROM ORIGINAL NOTEBOOK ============================="
   ]
  },
  {
   "cell_type": "markdown",
   "id": "071ad169-eadf-4992-95b0-923e0d1fb507",
   "metadata": {},
   "source": [
    "## 7. Inspect Metrics and Compare Performance "
   ]
  },
  {
   "cell_type": "code",
   "execution_count": 31,
   "id": "cdb30dbb-f8b6-4935-a6ca-45fc77b795df",
   "metadata": {},
   "outputs": [
    {
     "ename": "KeyError",
     "evalue": "\"None of ['Model'] are in the columns\"",
     "output_type": "error",
     "traceback": [
      "\u001b[0;31m---------------------------------------------------------------------------\u001b[0m",
      "\u001b[0;31mKeyError\u001b[0m                                  Traceback (most recent call last)",
      "\u001b[0;32m/tmp/ipykernel_27866/1386707334.py\u001b[0m in \u001b[0;36m?\u001b[0;34m()\u001b[0m\n\u001b[1;32m      1\u001b[0m \u001b[0;31m# Plot Precision, Recall, and F1 Score\u001b[0m\u001b[0;34m\u001b[0m\u001b[0;34m\u001b[0m\u001b[0m\n\u001b[0;32m----> 2\u001b[0;31m \u001b[0mmetrics_df\u001b[0m\u001b[0;34m.\u001b[0m\u001b[0mset_index\u001b[0m\u001b[0;34m(\u001b[0m\u001b[0;34m'Model'\u001b[0m\u001b[0;34m)\u001b[0m\u001b[0;34m[\u001b[0m\u001b[0;34m[\u001b[0m\u001b[0;34m'Precision'\u001b[0m\u001b[0;34m,\u001b[0m \u001b[0;34m'Recall'\u001b[0m\u001b[0;34m,\u001b[0m \u001b[0;34m'F1 Score'\u001b[0m\u001b[0;34m,\u001b[0m \u001b[0;34m'Average Precision'\u001b[0m\u001b[0;34m]\u001b[0m\u001b[0;34m]\u001b[0m\u001b[0;34m.\u001b[0m\u001b[0mplot\u001b[0m\u001b[0;34m(\u001b[0m\u001b[0mkind\u001b[0m\u001b[0;34m=\u001b[0m\u001b[0;34m'bar'\u001b[0m\u001b[0;34m,\u001b[0m \u001b[0mfigsize\u001b[0m\u001b[0;34m=\u001b[0m\u001b[0;34m(\u001b[0m\u001b[0;36m10\u001b[0m\u001b[0;34m,\u001b[0m \u001b[0;36m6\u001b[0m\u001b[0;34m)\u001b[0m\u001b[0;34m)\u001b[0m\u001b[0;34m\u001b[0m\u001b[0;34m\u001b[0m\u001b[0m\n\u001b[0m\u001b[1;32m      3\u001b[0m \u001b[0mplt\u001b[0m\u001b[0;34m.\u001b[0m\u001b[0mtitle\u001b[0m\u001b[0;34m(\u001b[0m\u001b[0;34m'Comparison of Classification Metrics'\u001b[0m\u001b[0;34m)\u001b[0m\u001b[0;34m\u001b[0m\u001b[0;34m\u001b[0m\u001b[0m\n\u001b[1;32m      4\u001b[0m \u001b[0mplt\u001b[0m\u001b[0;34m.\u001b[0m\u001b[0mylabel\u001b[0m\u001b[0;34m(\u001b[0m\u001b[0;34m'Score'\u001b[0m\u001b[0;34m)\u001b[0m\u001b[0;34m\u001b[0m\u001b[0;34m\u001b[0m\u001b[0m\n\u001b[1;32m      5\u001b[0m \u001b[0mplt\u001b[0m\u001b[0;34m.\u001b[0m\u001b[0mxticks\u001b[0m\u001b[0;34m(\u001b[0m\u001b[0mrotation\u001b[0m\u001b[0;34m=\u001b[0m\u001b[0;36m0\u001b[0m\u001b[0;34m)\u001b[0m\u001b[0;34m\u001b[0m\u001b[0;34m\u001b[0m\u001b[0m\n",
      "\u001b[0;32m/media/brendon/Ext4FastData/bin/miniconda3/envs/Python/lib/python3.10/site-packages/pandas/core/frame.py\u001b[0m in \u001b[0;36m?\u001b[0;34m(self, keys, drop, append, inplace, verify_integrity)\u001b[0m\n\u001b[1;32m   6118\u001b[0m                     \u001b[0;32mif\u001b[0m \u001b[0;32mnot\u001b[0m \u001b[0mfound\u001b[0m\u001b[0;34m:\u001b[0m\u001b[0;34m\u001b[0m\u001b[0;34m\u001b[0m\u001b[0m\n\u001b[1;32m   6119\u001b[0m                         \u001b[0mmissing\u001b[0m\u001b[0;34m.\u001b[0m\u001b[0mappend\u001b[0m\u001b[0;34m(\u001b[0m\u001b[0mcol\u001b[0m\u001b[0;34m)\u001b[0m\u001b[0;34m\u001b[0m\u001b[0;34m\u001b[0m\u001b[0m\n\u001b[1;32m   6120\u001b[0m \u001b[0;34m\u001b[0m\u001b[0m\n\u001b[1;32m   6121\u001b[0m         \u001b[0;32mif\u001b[0m \u001b[0mmissing\u001b[0m\u001b[0;34m:\u001b[0m\u001b[0;34m\u001b[0m\u001b[0;34m\u001b[0m\u001b[0m\n\u001b[0;32m-> 6122\u001b[0;31m             \u001b[0;32mraise\u001b[0m \u001b[0mKeyError\u001b[0m\u001b[0;34m(\u001b[0m\u001b[0;34mf\"None of {missing} are in the columns\"\u001b[0m\u001b[0;34m)\u001b[0m\u001b[0;34m\u001b[0m\u001b[0;34m\u001b[0m\u001b[0m\n\u001b[0m\u001b[1;32m   6123\u001b[0m \u001b[0;34m\u001b[0m\u001b[0m\n\u001b[1;32m   6124\u001b[0m         \u001b[0;32mif\u001b[0m \u001b[0minplace\u001b[0m\u001b[0;34m:\u001b[0m\u001b[0;34m\u001b[0m\u001b[0;34m\u001b[0m\u001b[0m\n\u001b[1;32m   6125\u001b[0m             \u001b[0mframe\u001b[0m \u001b[0;34m=\u001b[0m \u001b[0mself\u001b[0m\u001b[0;34m\u001b[0m\u001b[0;34m\u001b[0m\u001b[0m\n",
      "\u001b[0;31mKeyError\u001b[0m: \"None of ['Model'] are in the columns\""
     ]
    }
   ],
   "source": [
    "# Plot Precision, Recall, and F1 Score\n",
    "metrics_df.set_index('Model')[['Precision', 'Recall', 'F1 Score', 'Average Precision']].plot(kind='bar', figsize=(10, 6))\n",
    "plt.title('Comparison of Classification Metrics')\n",
    "plt.ylabel('Score')\n",
    "plt.xticks(rotation=0)\n",
    "plt.legend(loc='best')\n",
    "plt.show()\n",
    "\n",
    "# Plot confusion matrix components (TN, TP, FN, FP)\n",
    "metrics_df.set_index('Model')[['TN', 'TP', 'FN', 'FP']].plot(kind='bar', figsize=(10, 6))\n",
    "plt.title('Comparison of Confusion Matrix Components')\n",
    "plt.ylabel('Count')\n",
    "plt.xticks(rotation=0)\n",
    "plt.legend(loc='best')\n",
    "plt.show()\n"
   ]
  },
  {
   "cell_type": "code",
   "execution_count": null,
   "id": "7f002e45-555c-4896-bbdd-15e4da396c20",
   "metadata": {},
   "outputs": [],
   "source": []
  }
 ],
 "metadata": {
  "kernelspec": {
   "display_name": "Python 3 (ipykernel)",
   "language": "python",
   "name": "python3"
  },
  "language_info": {
   "codemirror_mode": {
    "name": "ipython",
    "version": 3
   },
   "file_extension": ".py",
   "mimetype": "text/x-python",
   "name": "python",
   "nbconvert_exporter": "python",
   "pygments_lexer": "ipython3",
   "version": "3.10.14"
  }
 },
 "nbformat": 4,
 "nbformat_minor": 5
}
